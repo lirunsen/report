{
 "cells": [
  {
   "cell_type": "markdown",
   "metadata": {
    "id": "NyyHgWiHMCeI"
   },
   "source": [
    "# NLTK Corpus Analysis with Gensim's LDA Model "
   ]
  },
  {
   "cell_type": "markdown",
   "metadata": {
    "id": "U4k7IBGTN0yE"
   },
   "source": [
    "## Preparation\n",
    "First of all, we need to import necessary libraries (with pip command)."
   ]
  },
  {
   "cell_type": "code",
   "execution_count": 21,
   "metadata": {
    "colab": {
     "base_uri": "https://localhost:8080/",
     "height": 1000
    },
    "id": "b_V4GY1vBSq6",
    "outputId": "02db6859-33bc-4810-b047-e05126879f88"
   },
   "outputs": [
    {
     "name": "stderr",
     "output_type": "stream",
     "text": [
      "c:\\users\\administrator\\appdata\\local\\programs\\python\\python38\\lib\\site-packages\\ipykernel\\ipkernel.py:283: DeprecationWarning: `should_run_async` will not call `transform_cell` automatically in the future. Please pass the result to `transformed_cell` argument and any exception that happen during thetransform in `preprocessing_exc_tuple` in IPython 7.17 and above.\n",
      "  and should_run_async(code)\n"
     ]
    },
    {
     "name": "stdout",
     "output_type": "stream",
     "text": [
      "Requirement already satisfied: nltk in c:\\users\\administrator\\appdata\\local\\programs\\python\\python38\\lib\\site-packages (3.6.2)\n",
      "Requirement already satisfied: joblib in c:\\users\\administrator\\appdata\\local\\programs\\python\\python38\\lib\\site-packages (from nltk) (1.0.1)\n",
      "Requirement already satisfied: regex in c:\\users\\administrator\\appdata\\local\\programs\\python\\python38\\lib\\site-packages (from nltk) (2021.4.4)\n",
      "Requirement already satisfied: click in c:\\users\\administrator\\appdata\\local\\programs\\python\\python38\\lib\\site-packages (from nltk) (8.0.0)\n",
      "Requirement already satisfied: tqdm in c:\\users\\administrator\\appdata\\local\\programs\\python\\python38\\lib\\site-packages (from nltk) (4.60.0)\n",
      "Requirement already satisfied: colorama in c:\\users\\administrator\\appdata\\roaming\\python\\python38\\site-packages (from click->nltk) (0.4.4)\n"
     ]
    },
    {
     "name": "stderr",
     "output_type": "stream",
     "text": [
      "WARNING: You are using pip version 21.0.1; however, version 21.1.1 is available.\n",
      "You should consider upgrading via the 'c:\\users\\administrator\\appdata\\local\\programs\\python\\python38\\python.exe -m pip install --upgrade pip' command.\n"
     ]
    },
    {
     "name": "stdout",
     "output_type": "stream",
     "text": [
      "Requirement already satisfied: gensim in c:\\users\\administrator\\appdata\\local\\programs\\python\\python38\\lib\\site-packages (4.0.1)\n",
      "Requirement already satisfied: scipy>=0.18.1 in c:\\users\\administrator\\appdata\\local\\programs\\python\\python38\\lib\\site-packages (from gensim) (1.6.2)\n",
      "Requirement already satisfied: smart-open>=1.8.1 in c:\\users\\administrator\\appdata\\local\\programs\\python\\python38\\lib\\site-packages (from gensim) (5.0.0)\n",
      "Requirement already satisfied: Cython==0.29.21 in c:\\users\\administrator\\appdata\\local\\programs\\python\\python38\\lib\\site-packages (from gensim) (0.29.21)\n",
      "Requirement already satisfied: numpy>=1.11.3 in c:\\users\\administrator\\appdata\\local\\programs\\python\\python38\\lib\\site-packages (from gensim) (1.20.3)\n"
     ]
    },
    {
     "name": "stderr",
     "output_type": "stream",
     "text": [
      "WARNING: You are using pip version 21.0.1; however, version 21.1.1 is available.\n",
      "You should consider upgrading via the 'c:\\users\\administrator\\appdata\\local\\programs\\python\\python38\\python.exe -m pip install --upgrade pip' command.\n"
     ]
    },
    {
     "name": "stdout",
     "output_type": "stream",
     "text": [
      "Requirement already satisfied: pyLDAvis in c:\\users\\administrator\\appdata\\local\\programs\\python\\python38\\lib\\site-packages (3.3.1)"
     ]
    },
    {
     "name": "stderr",
     "output_type": "stream",
     "text": [
      "WARNING: You are using pip version 21.0.1; however, version 21.1.1 is available.\n",
      "You should consider upgrading via the 'c:\\users\\administrator\\appdata\\local\\programs\\python\\python38\\python.exe -m pip install --upgrade pip' command.\n"
     ]
    },
    {
     "name": "stdout",
     "output_type": "stream",
     "text": [
      "\n",
      "Requirement already satisfied: joblib in c:\\users\\administrator\\appdata\\local\\programs\\python\\python38\\lib\\site-packages (from pyLDAvis) (1.0.1)\n",
      "Requirement already satisfied: sklearn in c:\\users\\administrator\\appdata\\local\\programs\\python\\python38\\lib\\site-packages (from pyLDAvis) (0.0)\n",
      "Requirement already satisfied: pandas>=1.2.0 in c:\\users\\administrator\\appdata\\local\\programs\\python\\python38\\lib\\site-packages (from pyLDAvis) (1.2.0)\n",
      "Requirement already satisfied: future in c:\\users\\administrator\\appdata\\local\\programs\\python\\python38\\lib\\site-packages (from pyLDAvis) (0.18.2)\n",
      "Requirement already satisfied: scikit-learn in c:\\users\\administrator\\appdata\\local\\programs\\python\\python38\\lib\\site-packages (from pyLDAvis) (0.24.1)\n",
      "Requirement already satisfied: funcy in c:\\users\\administrator\\appdata\\local\\programs\\python\\python38\\lib\\site-packages (from pyLDAvis) (1.16)\n",
      "Requirement already satisfied: gensim in c:\\users\\administrator\\appdata\\local\\programs\\python\\python38\\lib\\site-packages (from pyLDAvis) (4.0.1)\n",
      "Requirement already satisfied: scipy in c:\\users\\administrator\\appdata\\local\\programs\\python\\python38\\lib\\site-packages (from pyLDAvis) (1.6.2)\n",
      "Requirement already satisfied: numexpr in c:\\users\\administrator\\appdata\\local\\programs\\python\\python38\\lib\\site-packages (from pyLDAvis) (2.7.3)\n",
      "Requirement already satisfied: numpy>=1.20.0 in c:\\users\\administrator\\appdata\\local\\programs\\python\\python38\\lib\\site-packages (from pyLDAvis) (1.20.3)\n",
      "Requirement already satisfied: jinja2 in c:\\users\\administrator\\appdata\\local\\programs\\python\\python38\\lib\\site-packages (from pyLDAvis) (2.11.3)\n",
      "Requirement already satisfied: setuptools in c:\\users\\administrator\\appdata\\local\\programs\\python\\python38\\lib\\site-packages (from pyLDAvis) (56.0.0)\n",
      "Requirement already satisfied: python-dateutil>=2.7.3 in c:\\users\\administrator\\appdata\\local\\programs\\python\\python38\\lib\\site-packages (from pandas>=1.2.0->pyLDAvis) (2.8.1)\n",
      "Requirement already satisfied: pytz>=2017.3 in c:\\users\\administrator\\appdata\\local\\programs\\python\\python38\\lib\\site-packages (from pandas>=1.2.0->pyLDAvis) (2021.1)\n",
      "Requirement already satisfied: six>=1.5 in c:\\users\\administrator\\appdata\\roaming\\python\\python38\\site-packages (from python-dateutil>=2.7.3->pandas>=1.2.0->pyLDAvis) (1.15.0)\n",
      "Requirement already satisfied: smart-open>=1.8.1 in c:\\users\\administrator\\appdata\\local\\programs\\python\\python38\\lib\\site-packages (from gensim->pyLDAvis) (5.0.0)\n",
      "Requirement already satisfied: Cython==0.29.21 in c:\\users\\administrator\\appdata\\local\\programs\\python\\python38\\lib\\site-packages (from gensim->pyLDAvis) (0.29.21)\n",
      "Requirement already satisfied: MarkupSafe>=0.23 in c:\\users\\administrator\\appdata\\local\\programs\\python\\python38\\lib\\site-packages (from jinja2->pyLDAvis) (1.1.1)\n",
      "Requirement already satisfied: threadpoolctl>=2.0.0 in c:\\users\\administrator\\appdata\\local\\programs\\python\\python38\\lib\\site-packages (from scikit-learn->pyLDAvis) (2.1.0)\n"
     ]
    }
   ],
   "source": [
    "!pip install nltk\n",
    "!pip install gensim\n",
    "!pip install pyLDAvis"
   ]
  },
  {
   "cell_type": "code",
   "execution_count": 22,
   "metadata": {
    "colab": {
     "base_uri": "https://localhost:8080/"
    },
    "id": "oAE0HUrXQ0Ly",
    "outputId": "aecc505d-8ba3-4ca2-94a9-071506494319"
   },
   "outputs": [
    {
     "name": "stderr",
     "output_type": "stream",
     "text": [
      "c:\\users\\administrator\\appdata\\local\\programs\\python\\python38\\lib\\site-packages\\ipykernel\\ipkernel.py:283: DeprecationWarning: `should_run_async` will not call `transform_cell` automatically in the future. Please pass the result to `transformed_cell` argument and any exception that happen during thetransform in `preprocessing_exc_tuple` in IPython 7.17 and above.\n",
      "  and should_run_async(code)\n",
      "[nltk_data] Downloading package stopwords to\n",
      "[nltk_data]     C:\\Users\\Administrator\\AppData\\Roaming\\nltk_data...\n",
      "[nltk_data]   Package stopwords is already up-to-date!\n",
      "[nltk_data] Downloading package wordnet to\n",
      "[nltk_data]     C:\\Users\\Administrator\\AppData\\Roaming\\nltk_data...\n",
      "[nltk_data]   Package wordnet is already up-to-date!\n",
      "[nltk_data] Downloading package punkt to\n",
      "[nltk_data]     C:\\Users\\Administrator\\AppData\\Roaming\\nltk_data...\n",
      "[nltk_data]   Package punkt is already up-to-date!\n"
     ]
    },
    {
     "data": {
      "text/plain": [
       "True"
      ]
     },
     "execution_count": 22,
     "metadata": {},
     "output_type": "execute_result"
    }
   ],
   "source": [
    "import nltk\n",
    "nltk.download(\"stopwords\")\n",
    "nltk.download(\"wordnet\")\n",
    "nltk.download(\"punkt\")"
   ]
  },
  {
   "cell_type": "markdown",
   "metadata": {
    "id": "54jPC3VDV1u6"
   },
   "source": [
    "## Datasets\n",
    "The dataset used in this project is a group of 101 documents which comes from Wikipedia."
   ]
  },
  {
   "cell_type": "code",
   "execution_count": 23,
   "metadata": {
    "colab": {
     "base_uri": "https://localhost:8080/"
    },
    "id": "DvcLk_jWgeI8",
    "outputId": "abf36a7f-fcf5-440c-bec7-e9dd5b00e160"
   },
   "outputs": [
    {
     "name": "stdout",
     "output_type": "stream",
     "text": [
      "['Japan', ',', 'Japan', 'is', 'an', 'island', 'country', 'in', 'East', 'Asia', 'Located', 'in', 'the', 'Pacific', 'Ocean', '£¬', 'it', 'lies', 'off', 'the', 'eastern', 'coast', 'of', 'the', 'Asian', 'continent', 'and', 'stretches', 'from', 'the', 'Sea', 'of', 'Okhotsk', 'in', 'the', 'north', 'to', 'the', 'East', 'China', 'Sea', 'and', 'the', 'Philippine', 'Sea', 'in', 'the', 'south', '']\n",
      "num of docs: 101\n"
     ]
    },
    {
     "name": "stderr",
     "output_type": "stream",
     "text": [
      "c:\\users\\administrator\\appdata\\local\\programs\\python\\python38\\lib\\site-packages\\ipykernel\\ipkernel.py:283: DeprecationWarning: `should_run_async` will not call `transform_cell` automatically in the future. Please pass the result to `transformed_cell` argument and any exception that happen during thetransform in `preprocessing_exc_tuple` in IPython 7.17 and above.\n",
      "  and should_run_async(code)\n"
     ]
    }
   ],
   "source": [
    "def loadDataset():\n",
    "    '''导入文本数据集'''\n",
    "    f = open('data4.csv','r',encoding='unicode_escape')\n",
    "    dataset = []\n",
    "    for line in f.readlines():\n",
    "        dataset.append(list(line.strip('\\n').split(' ')))\n",
    "    f.close()\n",
    "    return dataset\n",
    "docs = loadDataset()\n",
    "print(docs[0])\n",
    "print(\"num of docs:\", len(docs))"
   ]
  },
  {
   "cell_type": "markdown",
   "metadata": {
    "id": "QpSrSF8Wi28F"
   },
   "source": [
    "## Data preprocessing"
   ]
  },
  {
   "cell_type": "code",
   "execution_count": 24,
   "metadata": {
    "id": "Y_UwWcRAidvN"
   },
   "outputs": [
    {
     "name": "stderr",
     "output_type": "stream",
     "text": [
      "c:\\users\\administrator\\appdata\\local\\programs\\python\\python38\\lib\\site-packages\\ipykernel\\ipkernel.py:283: DeprecationWarning: `should_run_async` will not call `transform_cell` automatically in the future. Please pass the result to `transformed_cell` argument and any exception that happen during thetransform in `preprocessing_exc_tuple` in IPython 7.17 and above.\n",
      "  and should_run_async(code)\n"
     ]
    }
   ],
   "source": [
    "en_stop = nltk.corpus.stopwords.words('english')\n",
    "\n",
    "en_stop = [\"``\",\"/\",\",.\",\".,\",\";\",\"--\",\":\",\")\",\"(\",'\"','&',\"'\",'),',',\"','-','.,','.,\"','.-',\"?\",\">\",\"<\"]                  \\\n",
    "         +[\"0\",\"1\",\"2\",\"3\",\"4\",\"5\",\"6\",\"7\",\"8\",\"9\",\"10\",\"11\",\"12\",\"86\",\"1986\",\"1987\",\"000\"]                                                      \\\n",
    "         +[\"said\",\"say\",\"u\",\"v\",\"mln\",\"ct\",\"net\",\"dlrs\",\"tonne\",\"pct\",\"shr\",\"nil\",\"company\",\"lt\",\"share\",\"year\",\"billion\",\"price\"]          \\\n",
    "         +en_stop"
   ]
  },
  {
   "cell_type": "code",
   "execution_count": 25,
   "metadata": {
    "id": "NZo1muSJm-4w"
   },
   "outputs": [
    {
     "name": "stderr",
     "output_type": "stream",
     "text": [
      "c:\\users\\administrator\\appdata\\local\\programs\\python\\python38\\lib\\site-packages\\ipykernel\\ipkernel.py:283: DeprecationWarning: `should_run_async` will not call `transform_cell` automatically in the future. Please pass the result to `transformed_cell` argument and any exception that happen during thetransform in `preprocessing_exc_tuple` in IPython 7.17 and above.\n",
      "  and should_run_async(code)\n"
     ]
    }
   ],
   "source": [
    "from nltk.corpus import wordnet as wn \n",
    "\n",
    "def preprocess_word(word, stopwordset):\n",
    "    \n",
    "    word=word.lower()\n",
    "    \n",
    "    if word in [\",\",\".\",\"£¬\"]:\n",
    "        return None\n",
    "    \n",
    "    if word in stopwordset:\n",
    "        return None\n",
    "    \n",
    "    lemma = wn.morphy(word)\n",
    "    if lemma is None:\n",
    "        return word\n",
    "\n",
    "    elif lemma in stopwordset: \n",
    "        return None\n",
    "    else:\n",
    "        return lemma\n",
    "    \n",
    "def preprocess_document(document):\n",
    "    document=[preprocess_word(w, en_stop) for w in document]\n",
    "    document=[w for w in document if w is not None]\n",
    "    return document\n",
    "\n",
    "def preprocess_documents(documents):\n",
    "    return [preprocess_document(document) for document in documents]"
   ]
  },
  {
   "cell_type": "code",
   "execution_count": 26,
   "metadata": {
    "colab": {
     "base_uri": "https://localhost:8080/"
    },
    "id": "x_JATbtL5ptG",
    "outputId": "392fe59f-ef69-424d-ecdc-21608dcdbf6f"
   },
   "outputs": [
    {
     "name": "stdout",
     "output_type": "stream",
     "text": [
      "['Japan', ',', 'Japan', 'is', 'an', 'island', 'country', 'in', 'East', 'Asia', 'Located', 'in', 'the', 'Pacific', 'Ocean', '£¬', 'it', 'lies', 'off', 'the', 'eastern', 'coast', 'of', 'the', 'Asian']\n",
      "['japan', 'japan', 'island', 'country', 'east', 'asia', 'locate', 'pacific', 'ocean', 'lie', 'eastern', 'coast', 'asian', 'continent', 'stretch', 'sea', 'okhotsk', 'north', 'east', 'china', 'sea', 'philippine', 'sea', 'south', '']\n"
     ]
    },
    {
     "name": "stderr",
     "output_type": "stream",
     "text": [
      "c:\\users\\administrator\\appdata\\local\\programs\\python\\python38\\lib\\site-packages\\ipykernel\\ipkernel.py:283: DeprecationWarning: `should_run_async` will not call `transform_cell` automatically in the future. Please pass the result to `transformed_cell` argument and any exception that happen during thetransform in `preprocessing_exc_tuple` in IPython 7.17 and above.\n",
      "  and should_run_async(code)\n"
     ]
    }
   ],
   "source": [
    "# before\n",
    "print(docs[0][:25]) \n",
    "\n",
    "# after\n",
    "print(preprocess_documents(docs)[0][:25])"
   ]
  },
  {
   "cell_type": "code",
   "execution_count": 27,
   "metadata": {
    "id": "tycOho5e580L"
   },
   "outputs": [
    {
     "name": "stderr",
     "output_type": "stream",
     "text": [
      "c:\\users\\administrator\\appdata\\local\\programs\\python\\python38\\lib\\site-packages\\ipykernel\\ipkernel.py:283: DeprecationWarning: `should_run_async` will not call `transform_cell` automatically in the future. Please pass the result to `transformed_cell` argument and any exception that happen during thetransform in `preprocessing_exc_tuple` in IPython 7.17 and above.\n",
      "  and should_run_async(code)\n"
     ]
    }
   ],
   "source": [
    "import gensim\n",
    "#to reshape our documents with the available format for the gensim LDA model.\n",
    "from gensim import corpora"
   ]
  },
  {
   "cell_type": "code",
   "execution_count": 28,
   "metadata": {
    "id": "uoGp2okR6MVJ"
   },
   "outputs": [
    {
     "name": "stderr",
     "output_type": "stream",
     "text": [
      "c:\\users\\administrator\\appdata\\local\\programs\\python\\python38\\lib\\site-packages\\ipykernel\\ipkernel.py:283: DeprecationWarning: `should_run_async` will not call `transform_cell` automatically in the future. Please pass the result to `transformed_cell` argument and any exception that happen during thetransform in `preprocessing_exc_tuple` in IPython 7.17 and above.\n",
      "  and should_run_async(code)\n"
     ]
    }
   ],
   "source": [
    "dictionary = corpora.Dictionary(preprocess_documents(docs))\n",
    "\n",
    "corpus_ = [dictionary.doc2bow(doc) for doc in preprocess_documents(docs)]"
   ]
  },
  {
   "cell_type": "code",
   "execution_count": 29,
   "metadata": {
    "colab": {
     "base_uri": "https://localhost:8080/"
    },
    "id": "lIcDqzWY9eqj",
    "outputId": "4bd39321-d6c3-4a45-8703-297d484655a9"
   },
   "outputs": [
    {
     "name": "stdout",
     "output_type": "stream",
     "text": [
      "{'': 0, 'asia': 1, 'asian': 2, 'china': 3, 'coast': 4, 'continent': 5, 'country': 6, 'east': 7, 'eastern': 8, 'island': 9, 'japan': 10, 'lie': 11, 'locate': 12, 'north': 13, 'ocean': 14, 'okhotsk': 15, 'pacific': 16, 'philippine': 17, 'sea': 18, 'south': 19, 'stretch': 20, '(101': 21, '(98': 22, '(oas)': 23, '(us': 24, '(usa)': 25, '16th': 26, '17': 27, '1775': 28, '1776': 29, '1783': 30, '1788': 31, '1791': 32, '1848[24]': 33, '1964': 34, '1965': 35, '1968': 36, '1969': 37, '1991': 38, '19th': 39, '31%': 40, '327': 41, '38': 42, '39': 43, '43%': 44, '50': 45, 'abolition': 46, 'accounting': 47, 'acquiring': 48, 'across': 49, 'act': 50, 'activity': 51, 'admit': 52, 'adopt': 53, 'ago[22]': 54, 'alaska': 55, 'along': 56, 'although': 57, 'amendment': 58, 'america': 59, 'american': 60, 'approximately': 61, 'archipelago': 62, 'area[d]': 63, 'average': 64, 'bank': 65, 'base': 66, 'become': 67, 'begin': 68, 'bering': 69, 'bill': 70, 'border': 71, 'britain': 72, 'british': 73, 'canada': 74, 'capital': 75, \"capital's\": 76, 'caput': 77, 'caribbean': 78, 'century': 79, 'characterize': 80, 'city': 81, 'civil': 82, 'climate': 83, 'cold': 84, 'collapse': 85, 'collectively': 86, 'colonization': 87, 'colony': 88, 'color': 89, 'commonly': 90, 'compete': 91, 'comprise': 92, 'concentrate': 93, 'confirm': 94, 'constitution': 95, 'contiguous': 96, 'continue': 97, 'corner': 98, 'council': 99, 'countries[21]': 100, \"country's\": 101, 'country[35]': 102, 'culminate': 103, 'cultural': 104, 'current': 105, 'dc': 106, 'declaration': 107, 'democracy': 108, 'despite': 109, 'develop': 110, 'development': 111, 'discrimination': 112, 'disparity': 113, 'displace': 114, 'dispute': 115, 'district': 116, 'diverse': 117, 'dominance': 118, 'drive': 119, 'economy': 120, 'embark': 121, 'emerge': 122, 'end': 123, 'entire': 124, 'establish': 125, \"europe's\": 126, 'european': 127, 'expansion': 128, 'exporter': 129, 'extend': 130, 'extremely': 131, 'fair': 132, 'federal': 133, 'federation': 134, 'first': 135, 'five': 136, 'following': 137, 'force': 138, 'foremost': 139, 'forty-eight': 140, 'founding': 141, 'fourth': 142, 'french': 143, 'fund': 144, 'fundamental': 145, 'gain': 146, 'gdp': 147, 'gdp[30]': 148, 'geography': 149, 'global': 150, 'good': 151, 'gradually': 152, 'great': 153, 'guarantee': 154, 'half': 155, 'hawaii': 156, 'high': 157, 'highly': 158, 'hold': 159, 'housing': 160, 'human': 161, 'ii': 162, 'importer': 163, 'include': 164, 'income': 165, 'independence': 166, 'indian': 167, 'industrial': 168, 'international': 169, 'internationally[39]': 170, 'km2)': 171, 'know': 172, 'knowledge-based': 173, 'landing': 174, 'large': 175, 'largely': 176, 'leading': 177, 'least': 178, 'led': 179, 'left': 180, 'legislation': 181, 'liberty': 182, 'mainland': 183, 'major': 184, 'make': 185, 'making': 186, 'manufacturing': 187, 'many': 188, 'measure': 189, 'megadiverse': 190, 'member': 191, 'mexico': 192, 'mid-pacific': 193, 'migrate': 194, 'mile': 195, 'military': 196, 'million': 197, 'monetary': 198, 'moon': 199, 'name': 200, 'nation': 201, 'native': 202, 'new': 203, 'nine': 204, 'nominal': 205, 'northwest': 206, 'notably': 207, 'nuclear': 208, 'numerous': 209, 'official': 210, 'old': 211, 'one': 212, 'organization': 213, 'outlaw': 214, 'paleo-indian': 215, 'part': 216, 'people': 217, 'per': 218, 'performance': 219, 'permanent': 220, 'political': 221, 'population': 222, 'populous': 223, 'possessions[h]': 224, 'post-industrial': 225, 'power': 226, 'power[23]': 227, 'ppp': 228, 'productivity[36][37]': 229, 'quarter': 230, 'race': 231, 'rank': 232, 'ratify': 233, 'remains': 234, 'representative': 235, 'republic': 236, 'revolution': 237, 'right': 238, 'russia': 239, 'scatter': 240, 'scientific': 241, 'second': 242, 'second-largest': 243, 'sector': 244, 'security': 245, 'self-governing': 246, 'services': 247, 'siberia': 248, 'single': 249, 'slavery[25][26]': 250, 'slightly': 251, 'smaller': 252, 'soar[28]': 253, 'socioeconomic': 254, 'sole': 255, 'soviet': 256, 'space': 257, 'span': 258, 'spanishâ\\x80\\x93american': 259, 'spending': 260, 'square': 261, 'state': 262, 'status': 263, 'strait': 264, 'stretching': 265, 'subsequent': 266, 'superpower': 267, 'superpower[29]': 268, 'survive': 269, 'sweeping': 270, 'ten': 271, 'territory': 272, 'third': 273, 'thirteen': 274, 'throughout': 275, 'time': 276, 'total': 277, 'tribe': 278, 'union': 279, 'unite': 280, 'us': 281, 'us)': 282, 'use': 283, 'value[32][33]': 284, 'various': 285, 'vigorous': 286, 'voting': 287, 'wage': 288, 'war': 289, 'warfare': 290, 'washington': 291, 'wealth': 292, 'weapon': 293, 'west': 294, 'wildlife': 295, 'worker': 296, 'world': 297, \"world's\": 298, 'world[31]': 299, 'years': 300, 'york': 301, 'zone': 302, '£¬000': 303, '£¬[24]': 304, '£¬[27]': 305, '£¬[34]': 306, '£¬[38]': 307, '100': 308, 'atlantic': 309, 'celtic': 310, 'channel': 311, 'continental': 312, 'cover': 313, 'england': 314, 'english': 315, 'europe': 316, 'five-eighths': 317, 'irish': 318, 'isle': 319, 'kingdom[5][6][7]': 320, 'land': 321, 'scilly': 322, 'scotland': 323, 'separate': 324, 'southwest': 325, 'wales': 326, 'wight': 327, '(3': 328, '(beijing': 329, '(prc)': 330, '1404': 331, '22': 332, 'administrative': 333, 'area[k][16]': 334, 'around': 335, 'autonomous': 336, 'billion[10]': 337, 'chongqing)': 338, 'communist': 339, 'covering': 340, 'direct-controlled': 341, 'exercise': 342, 'four': 343, 'fourth-largest': 344, 'governed': 345, 'hong': 346, 'jurisdiction': 347, 'kilometer': 348, 'kong': 349, 'macau': 350, 'mi)': 351, 'municipality': 352, 'officially': 353, 'party': 354, \"people's\": 355, 'province': 356, 'region': 357, 'shanghai': 358, 'special': 359, 'sq': 360, 'third-': 361, 'tianjin': 362, '£¬600': 363, '£¬700': 364, 'also': 365, 'arabian': 366, 'area': 367, 'bangladesh': 368, 'bay': 369, 'bengal': 370, 'bhutan': 371, 'bound': 372, 'india': 373, 'myanmar': 374, 'nepal': 375, 'northeast;': 376, 'pakistan': 377, 'second-most': 378, 'seventh-largest': 379, 'southeast': 380, 'west;[f]': 381, '£¬[19][e]': 382, '(east': 383, '1948': 384, 'asia[3]': 385, 'consist': 386, 'distinct': 387, 'divide': 388, 'jeju': 389, 'korea': 390, 'korean': 391, 'minor': 392, 'near': 393, 'northeast': 394, 'peninsula': 395, 'sea)': 396, 'several': 397, 'since': 398, 'sovereign': 399, 'two': 400, 'via': 401, 'alps': 402, 'austria': 403, 'baltic': 404, 'belgium': 405, 'central': 406, 'constance': 407, 'czech': 408, 'denmark': 409, 'france': 410, 'germany': 411, 'lake': 412, 'luxembourg': 413, 'lying': 414, 'netherlands': 415, 'poland': 416, 'rhine': 417, 'switzerland': 418, 'western': 419, '(6': 420, '14679': 421, '2019': 422, '77%': 423, 'asia[13]': 424, 'considerable': 425, 'crimea[8]': 426, \"earth's\": 427, 'federation[12]': 428, 'inhabit': 429, 'kilometre': 430, 'live': 431, 'margin': 432, 'ninth': 433, 'one-eighth': 434, 'russian': 435, 'transcontinental': 436, '£¬100': 437, '£¬125': 438, '£¬200': 439, '£¬612': 440, '£¬[14]': 441, '£¬[15][16][17]': 442, 'andorra': 443, 'guiana': 444, 'italy': 445, 'mediterranean': 446, 'metropolitan': 447, 'overseas': 448, 'spain': 449, 'territories[xiii]': 450, 'whose': 451, 'apennines': 452, 'delimit': 453, 'italian': 454, 'length': 455, 'middle': 456, 'seasonal': 457, 'surround': 458, 'temperate': 459, 'traverse': 460, '£¬[10][11][12][13]': 461, '(32': 462, '208': 463, '85': 464, '[9]': 465, 'brazil': 466, 'federative': 467, 'fifth': 468, 'fifth-largest': 469, 'latin': 470, 'miles)[10]': 471, '(385': 472, '(5': 473, '998': 474, 'arctic': 475, 'bi-national': 476, \"canada's\": 477, 'long': 478, 'miles)': 479, 'northern': 480, 'northward': 481, 'southern': 482, 'three': 483, '£¬525': 484, '£¬891': 485, '(195': 486, '(morocco)[h]': 487, '505': 488, 'africa': 489, 'african': 490, 'alboran': 491, 'archipelagoes:': 492, 'balearic': 493, 'biscay;': 494, 'boundary': 495, 'canary': 496, 'ceuta': 497, 'enclave': 498, 'except': 499, 'gibraltar;': 500, 'iberian': 501, 'kingdom': 502, 'km2': 503, 'melilla': 504, 'mostly': 505, 'physical': 506, 'portugal': 507, 'situate': 508, 'small': 509, 'spain[11][a][b]': 510, 'spanish': 511, '£¬360': 512, '£¬990': 513, 'australia': 514, 'australian': 515, 'commonwealth': 516, 'guinea': 517, 'indonesia': 518, 'neighbour': 519, 'north-east;': 520, 'north;': 521, 'oceania': 522, 'papua': 523, 'sixth-largest': 524, 'solomon': 525, 'south-east': 526, 'tasmania': 527, 'timor': 528, 'vanuatu': 529, 'zealand': 530, '£¬[12]': 531, '(735': 532, '(indonesian:': 533, '14th': 534, '261': 535, '4th': 536, '7th': 537, 'area[12]': 538, 'combine': 539, 'constitutional': 540, 'country[13]': 541, 'elect': 542, 'home': 543, 'java': 544, 'muslim-majority': 545, 'parliament': 546, 'presidential': 547, 'republik': 548, 'seventeen': 549, 'thousand': 550, 'well': 551, '£¬358': 552, '£¬569': 553, '£¬904': 554, '£¬[11]': 555, '(spanish:': 556, 'belize': 557, 'estados': 558, 'guatemala': 559, 'gulf': 560, 'mexican': 561, 'mexicanos[10][11][12][13]': 562, 'ocean;': 563, 'portion': 564, 'sea;': 565, 'states;': 566, 'unidos': 567, 'armenia': 568, 'artsakh': 569, 'azerbaijan': 570, 'caspian': 571, 'caucasus': 572, 'de': 573, 'eurasia': 574, 'facto': 575, 'georgia': 576, 'independent': 577, 'iran': 578, 'next': 579, 'cyprus': 580, 'geographically': 581, 'larger': 582, 'mediterranean;': 583, 'puerto': 584, 'rico': 585, 'sardinia': 586, 'sicily': 587, 'syria': 588, 'third-largest': 589, 'turkey': 590, '(which': 591, 'bridge)': 592, 'connect': 593, 'furthest': 594, 'nordic': 595, 'norway': 596, 'scandinavian': 597, 'south-west': 598, 'sweden': 599, '80%': 600, 'aegean': 601, 'albania': 602, 'bulgaria': 603, 'greece': 604, 'ionian': 605, 'macedonia': 606, 'mount': 607, 'mountainous': 608, 'olympus': 609, 'peak': 610, 'southeastern': 611, 'arabia': 612, 'iraq': 613, 'jordan': 614, 'kuwait': 615, 'north-west': 616, 'saudi': 617, 'southwestern': 618, 'israel': 619, 'side': 620, 'moldova': 621, 'romania': 622, 'ukraine': 623, '(the': 624, 'island)': 625, 'newzealand': 626, 'south-western': 627, 'completely': 628, 'size': 629, 'vatican': 630, 'belarus': 631, 'black': 632, 'hungary': 633, 'north-east': 634, 'self-proclaimed': 635, 'slovakia': 636, 'transnistria': 637, 'tajikistan': 638, 'face': 639, 'lebanon': 640, 'syrian': 641, 'aden': 642, 'djibouti': 643, 'ethiopia': 644, 'guardafui': 645, 'horn': 646, 'kenya': 647, 'somali': 648, 'somalia': 649, 'yemen': 650, 'levant': 651, 'palestine': 652, 'river': 653, 'afghanistan': 654, 'venezuela': 655, 'kosovo': 656, 'partially-recognised': 657, 'landlocked': 658, 'mountain': 659, 'principality': 660, 'pyrenees': 661, 'liechtenstein': 662, 'slovenia': 663, 'bahamas': 664, 'group': 665, 'indie': 666, 'nassau': 667, 'providence': 668, 'barbados': 669, '1994': 670, 'alexander': 671, 'europe[8]': 672, 'latvia': 673, 'lithuania': 674, 'lukashenko': 675, 'minsk': 676, 'president': 677, 'argentina': 678, 'bolivia': 679, 'chile': 680, 'lock': 681, 'paraguay': 682, 'peru': 683, 'balkan': 684, 'danube': 685, 'serbia': 686, 'south-eastern': 687, 'borneo': 688, 'brunei': 689, 'malaysia': 690, 'philippines': 691, 'rather': 692, '13': 693, 'cambodia': 694, 'kampuchea': 695, 'laos': 696, 'thailand': 697, 'vietnam': 698, '\"\"special': 699, 'easter': 700, 'fern¨¢ndez': 701, 'islands\"': 702, 'juan': 703, 'region:': 704, 'territories\"\"': 705, 'unasul[h]': 706, 'valpara¨ªso': 707, 'colombia': 708, 'equatorial': 709, 'km': 710, 'tropical': 711, '£¬141': 712, '£¬748': 713, '15': 714, '1960': 715, 'august': 716, 'brazzaville': 717, 'congo': 718, 'former': 719, 'france;': 720, 'croatia': 721, 'crossroads': 722, 'democratic': 723, 'history': 724, 'influence': 725, 'parliamentary': 726, 'point': 727, 'unitary': 728, 'vary': 729, 'ecuador': 730, 'empire': 731, 'finding': 732, 'gold': 733, 'inca': 734, 'interest': 735, '(290': 736, '70': 737, '751': 738, 'almost': 739, 'another': 740, 'country[4]': 741, 'dominica': 742, 'english-speaking': 743, 'french-speaking': 744, 'guadeloupe': 745, 'main': 746, 'martinique': 747, 'mi': 748, 'portsmouth': 749, 'roseau': 750, 'town': 751, '(officially': 752, 'call': 753, 'djibouti)': 754, 'ancient': 755, 'cairo': 756, 'egypt': 757, 'famous': 758, 'monument': 759, 'pyramid': 760, 'sphinx': 761, 'eritrea': 762, '(estonian:': 763, 'eesti': 764, 'estonia': 765, \"estonia's\": 766, 'finland': 767, 'neighbor': 768, 'tallinn': 769, 'vabariik)': 770, 'eswatini': 771, '\"\"ethiopia\"\"': 772, '1935': 773, '1993\"': 774, 'abyssinia': 775, 'avoid': 776, 'brief': 777, 'burn': 778, 'colonize': 779, 'escape': 780, 'greek': 781, 'invade': 782, 'light': 783, 'lost': 784, 'meaning': 785, 'port': 786, 'red': 787, 'scramble': 788, 'sun': 789, 'take': 790, 'word': 791, '322': 792, 'fiji': 793, 'important': 794, 'levu': 795, 'vanua': 796, 'viti': 797, '60th': 798, '70th': 799, 'fennoscandia': 800, 'latitude': 801, 'accra': 802, 'c': 803, \"d'ivoire\": 804, 'ghana': 805, 'te': 806, 'there;': 807, 'togo': 808, 'twenty-three': 809, '23': 810, 'beauty': 811, 'center': 812, 'colonial': 813, 'crosse': 814, 'culture': 815, 'destination': 816, 'ever-changing': 817, 'language': 818, 'mayan': 819, 'mix': 820, 'natural': 821, 'period': 822, 'popular': 823, 'product': 824, 'range': 825, 'tourist': 826, 'weather': 827, '[4]': 828, 'community': 829, 'countries:': 830, 'economic': 831, 'french[3]': 832, 'guinea-bissau': 833, 'ivory': 834, 'leone': 835, 'liberia': 836, 'mali': 837, 'national': 838, 'senegal': 839, 'sierra': 840, '(43': 841, '(while': 842, '112': 843, 'el': 844, 'honduras': 845, 'salvador': 846, 'speak': 847, 'spoken)': 848, 'tegucigalpa': 849, 'widely': 850, '£¬433': 851, '£¬483': 852, '£¬492': 853, '£¬763': 854, '(eu)': 855, '2004': 856, 'bigger': 857, 'budapest': 858, 'hungarian': 859, \"hungary's\": 860, 'inhabitant': 861, '1001': 862, '301': 863, 'consider': 864, 'culturally': 865, 'formerly': 866, 'greenland': 867, 'iceland': 868, 'possession': 869, 'asia[8][9][10]': 870, 'historically': 871, 'islamic': 872, 'persia': 873, 'turkmenistan': 874, 'distinguish': 875, 'five-sixths': 876, 'ireland': 877, 'order': 878, 'proper': 879, 'sixth': 880, 'sometimes': 881, 'still': 882, '140': 883, '191': 884, 'antilles': 885, 'caribbean;': 886, 'cuba': 887, 'greater': 888, 'hispaniola': 889, 'jamaica': 890, 'hashemite': 891, '\"\"kazakh': 892, '1998': 893, 'almaty': 894, 'astana': 895, 'big': 896, 'kazakhstan': 897, 'march': 898, 'move': 899, 'nazarbayev': 900, 'nur-sultan': 901, 'nursultan': 902, 'republic\"\"': 903, 'socialist': 904, 'time\"': 905, 'halfway': 906, 'victoria': 907, 'angola': 908, 'botswana': 909, 'malawi': 910, 'mozambique': 911, 'namibia': 912, 'tanzania': 913, 'zambia': 914, 'zimbabwe': 915, 'harare': 916, '780': 917, 'tunis': 918, 'tunisia': 919, '£¬[a]': 920, '£¬[b][18]': 921, 'kampala': 922, 'uganda': 923, \"africa's\": 924, 'kiswahili': 925, 'city-state': 926, 'malacca': 927, 'malay': 928, 'singapore': 929, 'straits': 930, '1962': 931, 'samoa': 932, 'arab': 933, 'bahrain': 934, 'emirate': 935, 'maritime': 936, 'nearby': 937, 'northeastern': 938, 'persian': 939, 'qatar': 940, 'rest': 941, 'sharing': 942, '(along': 943, 'exclave': 944, 'kaliningrad': 945, 'lusatian': 946, 'neisse)': 947, 'oder': 948, 'carpathian': 949, 'circle': 950, 'europe[9]': 951, 'lower': 952, 'westernmost': 953, 'touch': 954, 'nigeria': 955, 'coastline': 956, 'desert': 957, 'interior': 958, 'lengthy': 959, 'maghreb': 960, 'morocco': 961, 'rugged': 962, 'simply': 963, 'tract': 964, 'maldives': 965, 'parts': 966, 'algeria': 967, 'chad': 968, 'libya': 969, 'niger': 970, 'sudan': 971, '(has': 972, 'coast)': 973, 'formally': 974, 'kirghizia': 975, 'kyrgyz': 976, 'kyrgyzstan': 977, 'uzbekistan': 978, 'cameroon': 979, 'equator': 980, 'gabon': 981, 'gabonese': 982, 'gambia': 983, '(isle': 984, 'isla': 985, 'juventud': 986, 'la': 987, 'youth)': 988, 'malta': 989, 'valletta': 990, 'agal¨¦ga': 991, 'brandon': 992, 'mascarene': 993, 'mauritius': 994, 'rodrigues': 995, 'rule': 996, 'st': 997, 'mongolia': 998}\n"
     ]
    },
    {
     "name": "stderr",
     "output_type": "stream",
     "text": [
      "c:\\users\\administrator\\appdata\\local\\programs\\python\\python38\\lib\\site-packages\\ipykernel\\ipkernel.py:283: DeprecationWarning: `should_run_async` will not call `transform_cell` automatically in the future. Please pass the result to `transformed_cell` argument and any exception that happen during thetransform in `preprocessing_exc_tuple` in IPython 7.17 and above.\n",
      "  and should_run_async(code)\n"
     ]
    }
   ],
   "source": [
    "print(dictionary.token2id)"
   ]
  },
  {
   "cell_type": "code",
   "execution_count": 30,
   "metadata": {
    "colab": {
     "base_uri": "https://localhost:8080/"
    },
    "id": "PfjZmBAY_Rky",
    "outputId": "c92b98ed-7606-457f-f1fb-a9ae5ecbec4b"
   },
   "outputs": [
    {
     "name": "stdout",
     "output_type": "stream",
     "text": [
      "[(0, 1), (1, 1), (2, 1), (3, 1), (4, 1), (5, 1), (6, 1), (7, 2), (8, 1), (9, 1)]\n"
     ]
    },
    {
     "name": "stderr",
     "output_type": "stream",
     "text": [
      "c:\\users\\administrator\\appdata\\local\\programs\\python\\python38\\lib\\site-packages\\ipykernel\\ipkernel.py:283: DeprecationWarning: `should_run_async` will not call `transform_cell` automatically in the future. Please pass the result to `transformed_cell` argument and any exception that happen during thetransform in `preprocessing_exc_tuple` in IPython 7.17 and above.\n",
      "  and should_run_async(code)\n"
     ]
    }
   ],
   "source": [
    "print(corpus_[0][:10]) "
   ]
  },
  {
   "cell_type": "code",
   "execution_count": 31,
   "metadata": {
    "colab": {
     "base_uri": "https://localhost:8080/"
    },
    "id": "jQ6n6jH5WxFX",
    "outputId": "55241cd1-42e7-4f0a-fa78-716bbe495638"
   },
   "outputs": [
    {
     "name": "stdout",
     "output_type": "stream",
     "text": [
      "['japan', ',', 'japan', 'is', 'an', 'island', 'country', 'in', 'east', 'asia', 'located', 'in', 'the', 'pacific', 'ocean', '£¬', 'it', 'lies', 'off', 'the', 'eastern', 'coast', 'of', 'the', 'asian', 'continent', 'and', 'stretches', 'from', 'the', 'sea', 'of', 'okhotsk', 'in', 'the', 'north', 'to', 'the', 'east', 'china', 'sea', 'and', 'the', 'philippine', 'sea', 'in', 'the', 'south', '']\n",
      "[(0, 1), (1, 1), (2, 1), (3, 1), (4, 1), (5, 1), (6, 1), (7, 2), (8, 1), (9, 1), (10, 2), (13, 1), (14, 1), (15, 1), (16, 1), (17, 1), (18, 3), (19, 1)]\n"
     ]
    },
    {
     "name": "stderr",
     "output_type": "stream",
     "text": [
      "c:\\users\\administrator\\appdata\\local\\programs\\python\\python38\\lib\\site-packages\\ipykernel\\ipkernel.py:283: DeprecationWarning: `should_run_async` will not call `transform_cell` automatically in the future. Please pass the result to `transformed_cell` argument and any exception that happen during thetransform in `preprocessing_exc_tuple` in IPython 7.17 and above.\n",
      "  and should_run_async(code)\n"
     ]
    }
   ],
   "source": [
    "# before\n",
    "print([w.lower() for w in docs[0]])\n",
    "\n",
    "# after\n",
    "print(dictionary.doc2bow([w.lower() for w in docs[0]]))"
   ]
  },
  {
   "cell_type": "markdown",
   "metadata": {
    "id": "GOrrQe5nB84o"
   },
   "source": [
    "## Training"
   ]
  },
  {
   "cell_type": "code",
   "execution_count": 32,
   "metadata": {
    "id": "8M-MoIdKB0UD"
   },
   "outputs": [
    {
     "name": "stderr",
     "output_type": "stream",
     "text": [
      "c:\\users\\administrator\\appdata\\local\\programs\\python\\python38\\lib\\site-packages\\ipykernel\\ipkernel.py:283: DeprecationWarning: `should_run_async` will not call `transform_cell` automatically in the future. Please pass the result to `transformed_cell` argument and any exception that happen during thetransform in `preprocessing_exc_tuple` in IPython 7.17 and above.\n",
      "  and should_run_async(code)\n"
     ]
    }
   ],
   "source": [
    "ldamodel = gensim.models.ldamodel.LdaModel(corpus=corpus_,\n",
    "                                           num_topics=8,\n",
    "                                           id2word=dictionary,\n",
    "                                           alpha=0.1,                 \n",
    "                                           eta=0.1,                   \n",
    "                                          )"
   ]
  },
  {
   "cell_type": "code",
   "execution_count": 33,
   "metadata": {
    "colab": {
     "base_uri": "https://localhost:8080/"
    },
    "id": "GksWhDmLEmLp",
    "outputId": "7abb2d0d-3f1f-4c48-c4d5-a9ef44db4305"
   },
   "outputs": [
    {
     "name": "stdout",
     "output_type": "stream",
     "text": [
      "(0, '0.040*\"country\" + 0.029*\"island\" + 0.016*\"state\" + 0.013*\"ocean\" + 0.012*\"part\" + 0.011*\"finland\" + 0.010*\"north\" + 0.009*\"square\" + 0.009*\"large\" + 0.009*\"ecuador\"')\n",
      "(1, '0.036*\"country\" + 0.019*\"north\" + 0.017*\"island\" + 0.016*\"sea\" + 0.015*\"south\" + 0.014*\"state\" + 0.014*\"west\" + 0.013*\"europe\" + 0.012*\"east\" + 0.012*\"border\"')\n",
      "(2, '0.043*\"country\" + 0.024*\"sea\" + 0.021*\"island\" + 0.017*\"china\" + 0.017*\"south\" + 0.015*\"east\" + 0.015*\"\" + 0.013*\"north\" + 0.010*\"asia\" + 0.009*\"republic\"')\n",
      "(3, '0.044*\"country\" + 0.015*\"south\" + 0.013*\"america\" + 0.012*\"republic\" + 0.011*\"border\" + 0.011*\"unite\" + 0.011*\"east\" + 0.011*\"state\" + 0.010*\"world\\'s\" + 0.010*\"north\"')\n",
      "(4, '0.027*\"country\" + 0.022*\"state\" + 0.017*\"unite\" + 0.015*\"north\" + 0.013*\"border\" + 0.011*\"africa\" + 0.011*\"europe\" + 0.010*\"west\" + 0.010*\"morocco\" + 0.009*\"guinea\"')\n",
      "(5, '0.041*\"country\" + 0.022*\"east\" + 0.016*\"part\" + 0.016*\"turkey\" + 0.016*\"island\" + 0.015*\"europe\" + 0.015*\"west\" + 0.015*\"border\" + 0.014*\"jordan\" + 0.012*\"asia\"')\n",
      "(6, '0.040*\"country\" + 0.025*\"republic\" + 0.019*\"ireland\" + 0.016*\"africa\" + 0.013*\"border\" + 0.013*\"east\" + 0.012*\"south\" + 0.012*\"north\" + 0.011*\"hungary\" + 0.010*\"andorra\"')\n",
      "(7, '0.038*\"country\" + 0.019*\"romania\" + 0.016*\"sea\" + 0.016*\"south\" + 0.015*\"ukraine\" + 0.011*\"north\" + 0.011*\"border\" + 0.011*\"moldova\" + 0.011*\"africa\" + 0.011*\"europe\"')\n"
     ]
    },
    {
     "name": "stderr",
     "output_type": "stream",
     "text": [
      "c:\\users\\administrator\\appdata\\local\\programs\\python\\python38\\lib\\site-packages\\ipykernel\\ipkernel.py:283: DeprecationWarning: `should_run_async` will not call `transform_cell` automatically in the future. Please pass the result to `transformed_cell` argument and any exception that happen during thetransform in `preprocessing_exc_tuple` in IPython 7.17 and above.\n",
      "  and should_run_async(code)\n"
     ]
    }
   ],
   "source": [
    "# The top keywords of words for each topic (topic ID, the word generative probability for the topic).\n",
    "\n",
    "topics = ldamodel.print_topics(num_words=10)\n",
    "for topic in topics:\n",
    "    print(topic)"
   ]
  },
  {
   "cell_type": "code",
   "execution_count": 34,
   "metadata": {
    "colab": {
     "base_uri": "https://localhost:8080/"
    },
    "id": "QV-llIYuEvTf",
    "outputId": "01e077a0-19bf-4245-bb4f-8ae71b7b0e17"
   },
   "outputs": [
    {
     "name": "stdout",
     "output_type": "stream",
     "text": [
      "document ID 0:[(0, 0.97798324), (1, 0.0031452135), (2, 0.0031451962), (3, 0.0031457052), (4, 0.0031451108), (5, 0.0031452614), (6, 0.0031452167), (7, 0.0031450647)]\n",
      "document ID 1:[(0, 0.0020503164), (1, 0.0021182285), (2, 0.0020500226), (3, 0.98558193), (4, 0.0020499486), (5, 0.0020499749), (6, 0.0020498359), (7, 0.0020497264)]\n",
      "document ID 2:[(0, 0.0010124901), (1, 0.992913), (2, 0.001012423), (3, 0.0010124235), (4, 0.0010123962), (5, 0.0010124168), (6, 0.0010124363), (7, 0.0010124388)]\n",
      "document ID 3:[(0, 0.13808775), (1, 0.8475515), (2, 0.002393746), (3, 0.0023937405), (4, 0.002393736), (5, 0.0023931996), (6, 0.0023932657), (7, 0.0023930918)]\n",
      "document ID 4:[(0, 0.0014539418), (1, 0.0014537749), (2, 0.0014538491), (3, 0.9898236), (4, 0.0014537155), (5, 0.0014537706), (6, 0.0014537004), (7, 0.0014536969)]\n",
      "document ID 5:[(0, 0.0031453294), (1, 0.0031456097), (2, 0.003145431), (3, 0.97798145), (4, 0.003145984), (5, 0.0031454698), (6, 0.0031453932), (7, 0.0031453483)]\n",
      "document ID 6:[(0, 0.004202405), (1, 0.0042026434), (2, 0.0042026215), (3, 0.004202389), (4, 0.004202459), (5, 0.0042030085), (6, 0.970582), (7, 0.004202504)]\n",
      "document ID 7:[(0, 0.010205589), (1, 0.01020667), (2, 0.010204911), (3, 0.010205281), (4, 0.0102066), (5, 0.92856073), (6, 0.010205115), (7, 0.010205133)]\n",
      "document ID 8:[(0, 0.004386417), (1, 0.0043864246), (2, 0.0043864357), (3, 0.0043862793), (4, 0.004386334), (5, 0.9692955), (6, 0.0043863663), (7, 0.0043862383)]\n",
      "document ID 9:[(0, 0.0040329685), (1, 0.0040330067), (2, 0.004032861), (3, 0.0040328414), (4, 0.0040327143), (5, 0.9717698), (6, 0.0040328475), (7, 0.0040328936)]\n"
     ]
    },
    {
     "name": "stderr",
     "output_type": "stream",
     "text": [
      "c:\\users\\administrator\\appdata\\local\\programs\\python\\python38\\lib\\site-packages\\ipykernel\\ipkernel.py:283: DeprecationWarning: `should_run_async` will not call `transform_cell` automatically in the future. Please pass the result to `transformed_cell` argument and any exception that happen during thetransform in `preprocessing_exc_tuple` in IPython 7.17 and above.\n",
      "  and should_run_async(code)\n"
     ]
    }
   ],
   "source": [
    "# for each document, show the probabilities of topics  [(topic ID, probability)]\n",
    "\n",
    "for n,item in enumerate(corpus_[10:20]):\n",
    "    print(\"document ID \"+str(n)+\":\" ,end=\"\")\n",
    "    print(ldamodel.get_document_topics(item,minimum_probability=0))\n",
    "    \n",
    "    \n"
   ]
  },
  {
   "cell_type": "code",
   "execution_count": 35,
   "metadata": {
    "id": "h2A-Iyb1GuWm"
   },
   "outputs": [
    {
     "name": "stderr",
     "output_type": "stream",
     "text": [
      "c:\\users\\administrator\\appdata\\local\\programs\\python\\python38\\lib\\site-packages\\ipykernel\\ipkernel.py:283: DeprecationWarning: `should_run_async` will not call `transform_cell` automatically in the future. Please pass the result to `transformed_cell` argument and any exception that happen during thetransform in `preprocessing_exc_tuple` in IPython 7.17 and above.\n",
      "  and should_run_async(code)\n"
     ]
    }
   ],
   "source": [
    "# the name of documents\n",
    "name = [x for x in docs]"
   ]
  },
  {
   "cell_type": "code",
   "execution_count": 36,
   "metadata": {
    "colab": {
     "base_uri": "https://localhost:8080/"
    },
    "id": "InaDZANTIaPr",
    "outputId": "3a6cbace-c9b7-4827-d3bc-04ea6a0e27ef"
   },
   "outputs": [
    {
     "name": "stdout",
     "output_type": "stream",
     "text": [
      "[(1, 0.9809714)]\n",
      "Greece\n",
      "Greece  , Greece £¬ is a country in Southeastern Europe It borders Albania £¬ North Macedonia and Bulgaria to the north £¬ and Turkey to the east The Aegean Sea is to the East and South of mainland Greece £¬ the Ionian Sea is to the West Both are part of the Eastern Mediterranean Sea and have many islands 80% of the country is mountainous £¬ with Mount Olympus being the highest peak\n"
     ]
    },
    {
     "name": "stderr",
     "output_type": "stream",
     "text": [
      "c:\\users\\administrator\\appdata\\local\\programs\\python\\python38\\lib\\site-packages\\ipykernel\\ipkernel.py:283: DeprecationWarning: `should_run_async` will not call `transform_cell` automatically in the future. Please pass the result to `transformed_cell` argument and any exception that happen during thetransform in `preprocessing_exc_tuple` in IPython 7.17 and above.\n",
      "  and should_run_async(code)\n"
     ]
    }
   ],
   "source": [
    "n=20\n",
    "\n",
    "# nth document's topic distribution\n",
    "print(ldamodel.get_document_topics(corpus_[n]))\n",
    "\n",
    "# we use name of the country as nth document's name\n",
    "print(name[n][0])\n",
    "\n",
    "# show the original document\n",
    "print(\" \".join(docs[n]))"
   ]
  },
  {
   "cell_type": "markdown",
   "metadata": {
    "id": "g0CJNkqCJUkp"
   },
   "source": [
    "## Visualization\n",
    "We can further analyze our result through visualization."
   ]
  },
  {
   "cell_type": "code",
   "execution_count": 37,
   "metadata": {
    "colab": {
     "base_uri": "https://localhost:8080/"
    },
    "id": "MhvfbEGhJSRI",
    "outputId": "911fb636-3544-44da-84aa-c46708d8b5df"
   },
   "outputs": [
    {
     "name": "stderr",
     "output_type": "stream",
     "text": [
      "c:\\users\\administrator\\appdata\\local\\programs\\python\\python38\\lib\\site-packages\\ipykernel\\ipkernel.py:283: DeprecationWarning: `should_run_async` will not call `transform_cell` automatically in the future. Please pass the result to `transformed_cell` argument and any exception that happen during thetransform in `preprocessing_exc_tuple` in IPython 7.17 and above.\n",
      "  and should_run_async(code)\n"
     ]
    }
   ],
   "source": [
    "import pyLDAvis.gensim_models\n",
    "pyLDAvis.enable_notebook()"
   ]
  },
  {
   "cell_type": "code",
   "execution_count": 38,
   "metadata": {
    "colab": {
     "base_uri": "https://localhost:8080/",
     "height": 799
    },
    "id": "P-5FnEzeJa0P",
    "outputId": "d37af8d3-744a-481e-df4b-81781f550e30"
   },
   "outputs": [
    {
     "name": "stderr",
     "output_type": "stream",
     "text": [
      "c:\\users\\administrator\\appdata\\local\\programs\\python\\python38\\lib\\site-packages\\ipykernel\\ipkernel.py:283: DeprecationWarning: `should_run_async` will not call `transform_cell` automatically in the future. Please pass the result to `transformed_cell` argument and any exception that happen during thetransform in `preprocessing_exc_tuple` in IPython 7.17 and above.\n",
      "  and should_run_async(code)\n",
      "WARNING: You are using pip version 21.0.1; however, version 21.1.1 is available.\n",
      "You should consider upgrading via the 'c:\\users\\administrator\\appdata\\local\\programs\\python\\python38\\python.exe -m pip install --upgrade pip' command.\n"
     ]
    },
    {
     "name": "stdout",
     "output_type": "stream",
     "text": [
      "Requirement already satisfied: pandas==1.2 in c:\\users\\administrator\\appdata\\local\\programs\\python\\python38\\lib\\site-packages (1.2.0)\n",
      "Requirement already satisfied: pytz>=2017.3 in c:\\users\\administrator\\appdata\\local\\programs\\python\\python38\\lib\\site-packages (from pandas==1.2) (2021.1)\n",
      "Requirement already satisfied: python-dateutil>=2.7.3 in c:\\users\\administrator\\appdata\\local\\programs\\python\\python38\\lib\\site-packages (from pandas==1.2) (2.8.1)\n",
      "Requirement already satisfied: numpy>=1.16.5 in c:\\users\\administrator\\appdata\\local\\programs\\python\\python38\\lib\\site-packages (from pandas==1.2) (1.20.3)\n",
      "Requirement already satisfied: six>=1.5 in c:\\users\\administrator\\appdata\\roaming\\python\\python38\\site-packages (from python-dateutil>=2.7.3->pandas==1.2) (1.15.0)\n"
     ]
    },
    {
     "data": {
      "text/html": [
       "\n",
       "<link rel=\"stylesheet\" type=\"text/css\" href=\"https://cdn.jsdelivr.net/gh/bmabey/pyLDAvis@3.3.1/pyLDAvis/js/ldavis.v1.0.0.css\">\n",
       "\n",
       "\n",
       "<div id=\"ldavis_el1090014486394421603666250061\"></div>\n",
       "<script type=\"text/javascript\">\n",
       "\n",
       "var ldavis_el1090014486394421603666250061_data = {\"mdsDat\": {\"x\": [-0.06566425029661936, -0.014755446512777794, -0.010854997237249408, -0.04858065600086611, -0.04724167734236103, 0.14268914394530632, 0.03273146056529865, 0.011676422879268658], \"y\": [0.07202607620512896, -0.01791278899863606, -0.0058015807921267485, 0.06265829499385277, -0.06057925894871968, 0.04882567818434193, -0.05813502377604047, -0.04108139686780086], \"topics\": [1, 2, 3, 4, 5, 6, 7, 8], \"cluster\": [1, 1, 1, 1, 1, 1, 1, 1], \"Freq\": [10.139709619486787, 17.040867427849797, 14.630741043670348, 12.767134348696993, 22.184744397244565, 12.02387471793037, 6.419315100464326, 4.793613344656815]}, \"tinfo\": {\"Term\": [\"country\", \"island\", \"ireland\", \"turkey\", \"romania\", \"republic\", \"sea\", \"jordan\", \"africa\", \"china\", \"ukraine\", \"\", \"iraq\", \"part\", \"east\", \"south\", \"europe\", \"hungary\", \"morocco\", \"finland\", \"european\", \"eastern\", \"tunisia\", \"border\", \"brazil\", \"cambodia\", \"middle\", \"bulgaria\", \"small\", \"west\", \"finland\", \"samoa\", \"barbados\", \"empire\", \"ecuador\", \"cuba\", \"estonia\", \"newzealand\", \"la\", \"juventud\", \"70th\", \"60th\", \"interest\", \"finding\", \"gold\", \"(isle\", \"(the\", \"ancient\", \"monument\", \"famous\", \"latitude\", \"sphinx\", \"inca\", \"pyramid\", \"youth)\", \"south-western\", \"1962\", \"fennoscandia\", \"island)\", \"isla\", \"egypt\", \"zealand\", \"sweden\", \"island\", \"make\", \"brazil\", \"square\", \"country\", \"ocean\", \"part\", \"smaller\", \"many\", \"state\", \"large\", \"populous\", \"people\", \"million\", \"pacific\", \"area\", \"new\", \"america\", \"kilometre\", \"russia\", \"capital\", \"north\", \"south\", \"republic\", \"city\", \"unite\", \"spain\", \"european\", \"europe\", \"world's\", \"bulgaria\", \"mauritius\", \"malta\", \"somalia\", \"kosovo\", \"nigeria\", \"uganda\", \"eswatini\", \"france\", \"colombia\", \"islands\\\"\", \"south-eastern\", \"mascarene\", \"\\\"\\\"special\", \"guardafui\", \"somali\", \"agal\\u00a8\\u00a6ga\", \"region:\", \"yemen\", \"rodrigues\", \"kampala\", \"rule\", \"valpara\\u00a8\\u00aaso\", \"easter\", \"aden\", \"fern\\u00a8\\u00a2ndez\", \"unasul[h]\", \"juan\", \"st\", \"territories\\\"\\\"\", \"danube\", \"luxembourg\", \"northwest\", \"greece\", \"korea\", \"macedonia\", \"channel\", \"rhine\", \"germany\", \"include\", \"territory\", \"north\", \"two\", \"west\", \"southwest\", \"sea\", \"europe\", \"island\", \"country\", \"european\", \"south\", \"africa\", \"state\", \"unite\", \"border\", \"east\", \"republic\", \"mediterranean\", \"capital\", \"continent\", \"spain\", \"officially\", \"large\", \"area\", \"part\", \"singapore\", \"levu\", \"brunei\", \"fiji\", \"venezuela\", \"dominica\", \"djibouti\", \"call\", \"china\", \"japan\", \"pakistan\", \"important\", \"djibouti)\", \"malay\", \"okhotsk\", \"asian\", \"malacca\", \"stretch\", \"(officially\", \"straits\", \"rather\", \"322\", \"viti\", \"city-state\", \"philippines\", \"vanua\", \"philippine\", \"borneo\", \"70\", \"country[4]\", \"india\", \"kazakhstan\", \"\", \"england\", \"sea\", \"landlocked\", \"korea\", \"\\u00a3\\u00ac000\", \"ethiopia\", \"island\", \"country\", \"nur-sultan\", \"lie\", \"south\", \"asia\", \"commonwealth\", \"east\", \"world\", \"laos\", \"also\", \"north\", \"ocean\", \"republic\", \"capital\", \"populous\", \"border\", \"africa\", \"state\", \"pacific\", \"eastern\", \"unite\", \"peru\", \"bolivia\", \"kyrgyzstan\", \"vatican\", \"arab\", \"qatar\", \"guatemala\", \"argentina\", \"(has\", \"kyrgyz\", \"coast)\", \"formally\", \"kirghizia\", \"uzbekistan\", \"lock\", \"completely\", \"culture\", \"indonesia\", \"paraguay\", \"persian\", \"kuwait\", \"product\", \"brazil\", \"elect\", \"\\u00a3\\u00ac569\", \"oder\", \"thousand\", \"kaliningrad\", \"mix\", \"\\u00a3\\u00ac904\", \"size\", \"land\", \"surround\", \"america\", \"chile\", \"small\", \"poland\", \"world's\", \"country\", \"square\", \"large\", \"south\", \"populous\", \"republic\", \"know\", \"central\", \"unite\", \"million\", \"border\", \"east\", \"state\", \"territory\", \"north\", \"sovereign\", \"island\", \"kilometre\", \"pacific\", \"officially\", \"morocco\", \"malawi\", \"mongolia\", \"libya\", \"zambia\", \"mozambique\", \"democratic\", \"croatia\", \"point\", \"maghreb\", \"niger\", \"chad\", \"lengthy\", \"crossroads\", \"simply\", \"interior\", \"rugged\", \"algeria\", \"parliamentary\", \"desert\", \"influence\", \"unitary\", \"tract\", \"sudan\", \"coastline\", \"vary\", \"sierra\", \"economic\", \"national\", \"community\", \"thailand\", \"guinea\", \"tajikistan\", \"along\", \"state\", \"unite\", \"kingdom\", \"power\", \"north\", \"tanzania\", \"southern\", \"country\", \"war\", \"border\", \"africa\", \"europe\", \"member\", \"mediterranean\", \"west\", \"southeast\", \"portugal\", \"mexico\", \"asia\", \"large\", \"republic\", \"central\", \"ocean\", \"east\", \"region\", \"sea\", \"south\", \"america\", \"jordan\", \"iraq\", \"iceland\", \"cyprus\", \"larger\", \"greenland\", \"maldives\", \"palestine\", \"southwestern\", \"group\", \"turkey\", \"denmark\", \"syria\", \"bahamas\", \"israel\", \"eritrea\", \"norway\", \"asia[8][9][10]\", \"consider\", \"turkmenistan\", \"scandinavian\", \"syrian\", \"puerto\", \"persia\", \"third-largest\", \"furthest\", \"mediterranean;\", \"historically\", \"islamic\", \"1001\", \"iran\", \"georgia\", \"middle\", \"belgium\", \"kenya\", \"belarus\", \"ghana\", \"part\", \"name\", \"eastern\", \"kilometer\", \"austria\", \"western\", \"east\", \"country\", \"asia\", \"europe\", \"west\", \"mediterranean\", \"border\", \"island\", \"coast\", \"africa\", \"south\", \"kingdom\", \"sea\", \"officially\", \"state\", \"\", \"gabon\", \"ireland\", \"kampuchea\", \"equator\", \"gabonese\", \"cameroon\", \"\\u00a3\\u00ac[a]\", \"\\u00a3\\u00ac[b][18]\", \"tunis\", \"harare\", \"facto\", \"caucasus\", \"caspian\", \"artsakh\", \"pyrenees\", \"principality\", \"zimbabwe\", \"andorra\", \"lebanon\", \"azerbaijan\", \"tunisia\", \"hungary\", \"budapest\", \"hungarian\", \"hungary's\", \"inhabitant\", \"bigger\", \"(eu)\", \"2004\", \"distinguish\", \"cambodia\", \"republic\", \"country\", \"africa\", \"locate\", \"language\", \"european\", \"border\", \"east\", \"capital\", \"southern\", \"south\", \"north\", \"official\", \"union\", \"sea\", \"city\", \"call\", \"million\", \"officially\", \"member\", \"congo\", \"island\", \"europe\", \"part\", \"moldova\", \"romania\", \"lower\", \"carpathian\", \"self-proclaimed\", \"europe[9]\", \"transnistria\", \"parts\", \"circle\", \"gambia\", \"africa's\", \"ukraine\", \"kiswahili\", \"traverse\", \"delimit\", \"\\u00a3\\u00ac[10][11][12][13]\", \"apennines\", \"13\", \"black\", \"seasonal\", \"touch\", \"south-west\", \"north-west\", \"divide\", \"surround\", \"balkan\", \"federation\", \"paraguay\", \"italy\", \"temperate\", \"italian\", \"lake\", \"malaysia\", \"country\", \"tanzania\", \"small\", \"sea\", \"south\", \"eastern\", \"\", \"slovakia\", \"peninsula\", \"africa\", \"europe\", \"border\", \"west\", \"north\", \"european\", \"southeast\", \"state\", \"mainland\", \"hungary\", \"officially\", \"east\", \"republic\", \"island\"], \"Freq\": [103.0, 35.0, 5.0, 7.0, 4.0, 26.0, 31.0, 5.0, 23.0, 11.0, 4.0, 15.0, 4.0, 16.0, 31.0, 33.0, 23.0, 4.0, 6.0, 3.0, 11.0, 8.0, 3.0, 29.0, 5.0, 4.0, 7.0, 5.0, 7.0, 23.0, 3.0437156015633913, 1.299867618821391, 1.2998724388440501, 1.2998071731318288, 2.5378409358651632, 2.06273560130089, 1.467294232384974, 0.6809080566431018, 0.6809021944533814, 0.6809005660673478, 0.6808881903334936, 0.6808871481664321, 0.6808876692499628, 0.6808816767893597, 0.6808768567667006, 0.6808736651300751, 0.6808702780871254, 0.6808754237869912, 0.6808732743174271, 0.6808716459313935, 0.6808648718454943, 0.680865197522701, 0.680857120727975, 0.6808620710215167, 0.6808550363938521, 0.680852105298992, 0.6808565996444443, 0.6808360819804227, 0.6808295684362888, 0.6808315224995289, 1.9188391659208865, 1.299838568414554, 1.2030010564220006, 8.009173195126367, 1.3965661317821276, 1.740640453068721, 2.631058350298998, 11.12767522610065, 3.5656453719262955, 3.3606969662960644, 1.4043859020565954, 1.3957748664407459, 4.532141204098326, 2.6189538404223924, 1.9720846535266796, 1.8333397802021485, 2.3330624034659433, 1.935582231116981, 2.0351438375371984, 1.6516171097026804, 2.3793288890740674, 1.633697307623362, 1.6919336030154035, 2.0148159781915913, 2.67221170376204, 2.125896787412545, 1.7880986567115769, 1.5227819424234081, 1.6805532689756009, 1.4732424008880176, 1.5085343462558791, 1.5502771754630356, 1.4817285067273798, 4.423815667559002, 2.445692520285537, 2.4455326983463452, 1.6566740472460275, 1.6566706537664968, 1.6566582839862716, 1.6565645801643891, 1.6565881155869415, 4.349788334666869, 2.4430169258761314, 0.86782541238368, 0.8678027526977808, 0.8677991402840868, 0.8678041757698421, 0.8677974982778622, 0.8677908207858822, 0.8677921891244027, 0.8677872083721881, 0.8677773563348408, 0.8677773563348408, 0.8677861684349126, 0.8677743459900957, 0.8677826107547594, 0.8677725397832486, 0.8677626877459012, 0.8677717735136772, 0.8677650960216973, 0.8677620309434113, 0.8677529999091762, 0.8677467602855228, 1.6566373757736788, 1.260163040937892, 2.7240563621838336, 1.9898514504002034, 2.984917293464802, 1.2600243461454563, 1.582930671963664, 1.2308177624947587, 2.7182296483623847, 2.3962600323617567, 4.0382485232705845, 9.070777791696257, 1.8611339256531967, 6.412302282385338, 1.9492886422332563, 7.589379917826763, 6.122792064366292, 8.057603903987033, 16.898626054584035, 3.761926023510681, 6.884394835210709, 5.280727047702711, 6.553745574306972, 5.32982609889582, 5.608200887502281, 5.804550678232105, 5.096101181416359, 2.8319736088804004, 2.821900010159708, 2.20898134081898, 2.303333207824753, 2.828291574122411, 2.7032155813131875, 2.4658975163460273, 2.550806752889671, 2.271193470676552, 1.5385820703462654, 1.5385517132178195, 1.5384952282822284, 1.53853723954048, 1.4964228798340327, 2.2711445985193017, 3.2850352826121036, 6.972522253868991, 2.1845745268344503, 2.13437229502768, 0.805942004616053, 0.8059369294304924, 0.8059289407124804, 0.8059252753006867, 0.8059185083866058, 0.8059100497440048, 0.8059077001210602, 0.8059081700456491, 0.8058995234332125, 0.8058954820817475, 0.8058915347152005, 0.8058911587755293, 0.8058769670529432, 0.8058620234510148, 0.8058533768385782, 0.8058400309802521, 0.8058039407718212, 0.7922945486888464, 0.7892910726710669, 2.3402261446718327, 2.541458004028963, 5.998878731120925, 1.8001837318713212, 9.544263138258712, 2.563931677570642, 2.5030134734074183, 1.9879870261747754, 1.799854032779718, 8.329744917830162, 17.284460967541424, 1.0795425326253807, 1.5884678549348403, 6.721895305179062, 3.9852943486768395, 1.0726569155934134, 6.083189217412296, 3.026811533017298, 1.5385992695862207, 1.9117928894138172, 5.195591894417326, 3.3333172145786114, 3.6552557835503667, 2.5937151220782693, 2.1113933585679683, 2.59044557475823, 2.473189991324813, 2.604782598027253, 2.022546784204434, 1.9649479393676785, 1.9494637361921237, 2.8698769115528058, 2.531719071117066, 1.5467428481502303, 1.5467472768784611, 1.3930771323776212, 2.2246974865210274, 2.7800258890457274, 1.190286896894331, 0.8101984316643465, 0.8101924446798864, 0.810180552724452, 0.8101745657399919, 0.8101523400853524, 0.8101536523011245, 0.8101444667907199, 0.8101329028892286, 1.2451604799429126, 2.376705873773511, 1.7774379261210118, 1.186749245186313, 1.546632457998405, 1.1277584211258873, 2.863651431876158, 0.6719131149426963, 0.6631243037687932, 0.6522131886172794, 0.6577213373407763, 0.651217052819306, 0.6658083181103358, 0.6462495369939023, 1.010920123009938, 3.250479191271042, 1.3596314587925598, 4.631580386404857, 1.5003776721677575, 2.560532705040202, 1.8029083623108542, 3.5407052341194283, 15.358115658825696, 2.723710508917583, 3.2811473141340577, 5.159307314325871, 2.331420651371453, 4.303589757798095, 2.1712519222864026, 2.2490312157983134, 3.874280653052125, 2.744937239300547, 4.017156018530994, 3.8370931141795173, 3.815944460634991, 2.371847066823475, 3.470618477517341, 2.034200170403985, 3.0499742615682996, 1.9594722706430538, 1.9877889028425182, 2.0368736460126082, 5.828621338360524, 4.168465488732128, 2.985352911619628, 2.98522607744758, 3.4680729396516643, 2.512896475802095, 2.466549274191421, 3.161976479201658, 1.563799786613108, 1.5637896683814052, 1.563793231139047, 1.563780262701231, 1.563768006814943, 1.5637742772683927, 1.5637573185420177, 1.5637504780473455, 1.5637437800629788, 1.5637403598156427, 1.5637409298568654, 1.5637296715427174, 1.5637382221610576, 1.563718983269792, 1.5636939014559936, 1.5636827856521511, 1.5636327645348602, 1.5636448779108425, 1.5459877085277658, 1.5442405321802262, 1.543706546064873, 1.5421538962845756, 4.406874114317677, 5.743652133789047, 2.9852753860133423, 2.475017236554456, 13.318461368209144, 10.226184969388033, 4.44983242085947, 2.3975908174415914, 9.414919972535913, 2.4151748790378584, 3.996856858806699, 16.76416674534435, 3.559863827535052, 7.721940294243289, 6.74846664722787, 6.526682418840192, 3.3214933947114225, 4.322145182121565, 6.013127150949276, 3.6713972381044155, 2.69343964683133, 2.4075956109409944, 4.566849913011707, 4.308199408629106, 5.062611344136406, 3.1962484975921255, 4.114043653202074, 4.966400926653516, 3.1742483266436925, 3.9836971721603276, 3.953554247366403, 3.0926112980394405, 4.5693482694230445, 3.8128895905925577, 2.323127693673129, 1.573892554652078, 1.5738769523869263, 1.5738205679633586, 1.5738539351838807, 1.573815161237811, 1.5492598220130611, 1.5174480391919714, 5.318157203993074, 3.0726971228108932, 2.31679719044628, 1.4085326425934825, 2.288329699093176, 2.3690460868814665, 2.3233122947311107, 0.8244385204852862, 0.8244321096535655, 0.8244201376184244, 0.8244171252999051, 0.8244074704328558, 0.8244032222913541, 0.8244016002736898, 0.8244020637073082, 0.8244006734064531, 0.8244001327338983, 0.8243971976543154, 0.8243918681677042, 0.824389859955358, 3.2979660255826095, 1.573742402159728, 3.8221530107121584, 2.3505532317742786, 1.5738540896617537, 2.044314906458645, 1.1769031906486596, 5.360033065748424, 2.336916852031797, 2.9645422207801393, 1.6302640020783554, 1.7955341624928611, 3.1731432700337843, 7.259053654478516, 13.645355524801577, 4.096880476102893, 5.076744745603529, 5.008748220338469, 3.3370575781588303, 4.872744356357253, 5.275137588067603, 2.5517288386387538, 3.648826983709635, 3.9766126551110923, 2.3232021520078128, 3.1173254713035785, 2.4275120997848756, 2.5576692852368135, 2.357432131449525, 1.1176199663848967, 3.370373402238594, 0.585431365596693, 0.5854203554831487, 0.5854187885006967, 0.5854112422430989, 0.5854052217315728, 0.5853950363456348, 0.5853954899458182, 0.5853484804722583, 0.5846164934852733, 0.5844872999057441, 0.583873743803026, 0.583335815221807, 0.579538068303867, 0.5770809985827527, 1.3475848678380191, 1.7424770640740594, 1.1176446257403254, 1.1159608618592725, 1.6498413500954512, 1.9217296299603885, 0.5337121200953495, 0.5256577065829354, 0.5179647711803692, 0.5158911585598112, 0.5155662158829231, 0.5135752822048981, 0.5046241423661376, 0.4611751415917808, 1.6497394137633108, 4.456809180737308, 7.1716386081471635, 2.8061280929931063, 1.16562241198286, 1.144966366827853, 1.6147925711188365, 2.3566985570249437, 2.32084154499414, 1.5829660029000947, 1.3761357004772379, 2.1380911443839077, 2.109909047457472, 1.0411626864410894, 1.0690136552335894, 1.6787256201059033, 1.0940410041203483, 0.9334764359020765, 1.1896082948483642, 1.22057607421065, 0.9679714102910507, 0.7844950844417397, 1.2316752583364385, 1.1134616897938558, 1.048718016042542, 1.4899312685701767, 2.4565402081481538, 0.5287008543141432, 0.5286935871186044, 0.5286934023593958, 0.5286857040590368, 0.5286823783932818, 0.5286616237755142, 0.5286506613958032, 0.5286409923305524, 0.4741069100386035, 1.9772148358486685, 0.4195053906355107, 0.4520502017483319, 0.44031140225627546, 0.4356825990096832, 0.4242110845060875, 0.5286664891013411, 1.0092279005064497, 0.41029111017674597, 0.34524364384386885, 0.5286676592429956, 0.5286754191297574, 0.5286761581665919, 0.9124254686775737, 0.5286920474585326, 0.5571027173126224, 0.8587622797086253, 1.3146636331944959, 0.3775585221215707, 0.7460612563921656, 0.8357693041287054, 1.0092852990339256, 5.036577905554493, 0.8153931348067797, 1.0906210448185534, 2.1739894284893917, 2.0926286170387955, 1.0476683471729222, 1.3371361420837518, 0.6631766741617319, 0.9851341295616115, 1.4665089741758421, 1.3946689279178985, 1.4963408118625858, 1.3649345199204967, 1.512019355132711, 0.8769476975076195, 0.8194928184731046, 1.0148150805613212, 0.6786718747105096, 0.6687289963125781, 0.799277143317061, 0.8373146301495477, 0.8172359847398922, 0.6911591953430617], \"Total\": [103.0, 35.0, 5.0, 7.0, 4.0, 26.0, 31.0, 5.0, 23.0, 11.0, 4.0, 15.0, 4.0, 16.0, 31.0, 33.0, 23.0, 4.0, 6.0, 3.0, 11.0, 8.0, 3.0, 29.0, 5.0, 4.0, 7.0, 5.0, 7.0, 23.0, 3.72278353727338, 1.8441894487008363, 1.844213180455996, 1.8441245659245902, 3.8184403990446985, 3.180071168842113, 2.5488730625997635, 1.2252130019437406, 1.2252089579255334, 1.2252072316286247, 1.225193886092851, 1.2251928796357756, 1.2251960242503097, 1.2251895249381606, 1.2251858323110474, 1.2251811068886471, 1.2251765591938122, 1.2251866432971175, 1.225185449332242, 1.225182962628166, 1.2251714357128167, 1.225178704803645, 1.2251657632652608, 1.225175327581235, 1.225164105047661, 1.2251589738660655, 1.2251717521379977, 1.2251441313129994, 1.2251385243116342, 1.225142343280589, 3.8847191197756383, 2.5988690064156104, 2.6120135013030974, 35.13540706012942, 3.4524872735053673, 5.325542635541216, 10.297553704113154, 103.2866166908994, 17.135836229956414, 16.321730843534304, 4.284865245537996, 4.241177935363214, 35.21787447233231, 14.506168882201266, 8.77924397908042, 7.793036251041197, 12.785391930176575, 9.03107928553124, 9.977521255484099, 6.780307818139559, 14.786496860580682, 7.069205608282909, 8.227486869796863, 12.673961296695374, 35.28071180466697, 33.05238090602838, 26.66640280696014, 8.56710358032144, 24.894839456104858, 6.962859139303505, 11.961704195781632, 23.38153167848945, 11.950590070565204, 5.312013392718751, 2.97301207777345, 2.9728710087172323, 2.183991114101897, 2.1840105125501124, 2.184013665561812, 2.183904499341876, 2.1839669052003976, 6.471793939691191, 3.7082283011149615, 1.3951388540172796, 1.3951130491173969, 1.395110490217193, 1.3951186086168017, 1.3951091550974455, 1.3951016706291821, 1.3951042821802744, 1.39510376136519, 1.3950894439682142, 1.3950901022779365, 1.3951047754851238, 1.3950869870406413, 1.3951007040617163, 1.3950896899773138, 1.3950747928421516, 1.39508943684848, 1.3950806902774333, 1.3950788553363511, 1.395065648146672, 1.3950643592396448, 2.6645152079325802, 2.143635780646358, 5.287312873536833, 3.673069043476264, 5.941976669067699, 2.1556997867072987, 2.8958464036787777, 2.1381020000326534, 5.82339028778872, 5.286636318450177, 11.285968996614718, 35.28071180466697, 3.9756430801038576, 23.388488822552954, 4.3855609703428575, 31.158656468485976, 23.38153167848945, 35.13540706012942, 103.2866166908994, 11.961704195781632, 33.05238090602838, 23.606706788213664, 35.21787447233231, 24.894839456104858, 29.422249719220375, 31.508849268822278, 26.66640280696014, 12.62581792572618, 12.673961296695374, 5.974615357801166, 6.962859139303505, 14.916879825186571, 14.506168882201266, 9.977521255484099, 16.321730843534304, 2.804149136535358, 2.071530137979017, 2.0714994465759116, 2.0714500037151327, 2.0715088849819034, 2.074739468656423, 3.5929888196666244, 5.332434066109333, 11.450370102174979, 3.5996147207191616, 3.532330317163278, 1.338880781559425, 1.338875559855537, 1.3388675336530698, 1.3388626087620341, 1.3388557044387805, 1.338849089562187, 1.3388456672222837, 1.3388497577935043, 1.3388393226902293, 1.338835616761248, 1.3388340924761843, 1.3388340489881814, 1.3388181240399324, 1.338803429136838, 1.3387981755622975, 1.3387809435316147, 1.3387480932435492, 1.3399328722332684, 1.3401505105876188, 4.183212983389738, 4.89442515348977, 15.305565606999092, 3.6291514616131777, 31.158656468485976, 6.097528639445563, 5.941976669067699, 4.578877431115468, 4.05184284609471, 35.13540706012942, 103.2866166908994, 2.0335432034710386, 3.578033034883095, 33.05238090602838, 16.20393552242275, 2.0928221489342436, 31.508849268822278, 11.00530417939141, 4.025216541731353, 5.875236765200588, 35.28071180466697, 17.135836229956414, 26.66640280696014, 12.673961296695374, 8.77924397908042, 29.422249719220375, 23.606706788213664, 35.21787447233231, 9.03107928553124, 8.022492953075929, 24.894839456104858, 3.5513558115978285, 3.3986228536284706, 2.079298028322938, 2.079306586346258, 2.081980661157763, 3.5660866508743014, 4.5546415797339845, 1.9553878978323738, 1.342749445222968, 1.34274276898377, 1.3427313416534916, 1.3427257946443536, 1.3427033082797015, 1.3427063846332812, 1.342702518374307, 1.342688878425748, 2.0888184363270543, 4.167582337616642, 3.1206989400737046, 2.0855657258715037, 2.8288437296568762, 2.0921646083421455, 5.325542635541216, 1.3206387221467581, 1.3192681525408705, 1.3050816393309723, 1.3183981780567837, 1.3057271833771609, 1.347555947257274, 1.3165707522211525, 2.060191963526653, 7.124073275039452, 3.233496322552126, 14.786496860580682, 3.6567899332640077, 7.234104611190549, 4.703871453300596, 11.950590070565204, 103.2866166908994, 10.297553704113154, 14.506168882201266, 33.05238090602838, 8.77924397908042, 26.66640280696014, 7.813753023378108, 8.443795056834563, 24.894839456104858, 12.785391930176575, 29.422249719220375, 31.508849268822278, 35.21787447233231, 11.285968996614718, 35.28071180466697, 7.610988148477004, 35.13540706012942, 7.069205608282909, 9.03107928553124, 14.916879825186571, 6.292661511469383, 4.721780821633183, 3.449407584258712, 3.44926603568468, 4.283613280729627, 3.1538103643493782, 3.1248011455821754, 4.098215883667029, 2.0278288285506525, 2.0278170474104664, 2.027821779735981, 2.027810000656763, 2.0277959088784336, 2.02780450212175, 2.0277851485873684, 2.027778208830632, 2.027771320557421, 2.027770345389889, 2.0277718397325843, 2.027758000989899, 2.027769489229257, 2.027749745586142, 2.0277230231168195, 2.0277143020968365, 2.0276620686164346, 2.0276785587863255, 2.019192835747458, 2.0183479431016975, 2.018036569249816, 2.017296816206155, 6.135744705640236, 8.293997562489716, 4.185861204557182, 3.727991204307748, 35.21787447233231, 24.894839456104858, 9.189988469882199, 3.8524529135826953, 35.28071180466697, 4.074666874534162, 9.273899744764064, 103.2866166908994, 7.9459191015695945, 29.422249719220375, 23.606706788213664, 23.38153167848945, 7.578252800109447, 12.62581792572618, 23.388488822552954, 9.587917645396114, 5.515190652190421, 4.621536165530882, 16.20393552242275, 14.506168882201266, 26.66640280696014, 8.443795056834563, 17.135836229956414, 31.508849268822278, 9.150212540487702, 31.158656468485976, 33.05238090602838, 14.786496860580682, 5.103210664826637, 4.353972523896646, 2.8544018390368695, 2.1051532382494313, 2.1051392387497843, 2.1050846185146495, 2.105136328309395, 2.105096405730079, 2.101479713512568, 2.0953140429697092, 7.403353530259384, 4.390775671441404, 3.386584072505232, 2.0763572511017, 3.3806259858718257, 3.5160708627832027, 3.473549702350524, 1.355694438403428, 1.3556882209116037, 1.3556763167573187, 1.355673884281237, 1.3556654979325768, 1.3556612615206571, 1.3556586791148169, 1.3556596931782645, 1.3556578410987503, 1.355658373758365, 1.3556544720437915, 1.355649864596575, 1.3556470598673187, 5.609969914944603, 2.637652651105992, 7.066832389041718, 4.392583540242551, 2.8939831395118816, 3.966192814103876, 2.1259514749862505, 16.321730843534304, 5.748367379999613, 8.022492953075929, 3.5447723908117426, 4.088626038086606, 9.302369558731723, 31.508849268822278, 103.2866166908994, 16.20393552242275, 23.38153167848945, 23.388488822552954, 12.62581792572618, 29.422249719220375, 35.13540706012942, 8.103169650537072, 23.606706788213664, 33.05238090602838, 9.189988469882199, 31.158656468485976, 14.916879825186571, 35.21787447233231, 15.305565606999092, 1.6706213565011903, 5.101491593668038, 1.1384198065494449, 1.1384118998781756, 1.1384108650880385, 1.1384036087407514, 1.1383987067260906, 1.1383907925416752, 1.1383931405627883, 1.1383495747262529, 1.1388094459441842, 1.138896013890668, 1.1390865297085773, 1.1393278181840645, 1.140694672265732, 1.141571473332649, 2.7080364867881346, 3.6504944382057154, 2.4200685634583716, 2.4208635091503803, 3.624421546430308, 4.249626277663379, 1.2045619116967832, 1.2197572575742899, 1.224030649292002, 1.228520153898613, 1.2301575940724654, 1.2366861825983957, 1.2522714207546557, 1.1724307807166399, 4.356941183881527, 26.66640280696014, 103.2866166908994, 23.606706788213664, 5.119482596886509, 5.215880879678454, 11.961704195781632, 29.422249719220375, 31.508849268822278, 12.673961296695374, 9.273899744764064, 33.05238090602838, 35.28071180466697, 6.131523451374747, 7.474917285332276, 31.158656468485976, 8.56710358032144, 5.332434066109333, 12.785391930176575, 14.916879825186571, 7.578252800109447, 3.7482303845759475, 35.13540706012942, 23.38153167848945, 16.321730843534304, 2.048101746041202, 4.390916831060869, 1.0868470000013182, 1.086839661554071, 1.0868401208921652, 1.086833243106602, 1.0868299683578597, 1.0868154100368141, 1.0868002493629225, 1.0867995358248503, 1.092699252768901, 4.581667380995181, 1.0985235744762374, 1.2368436414382074, 1.2597754988146392, 1.268870647315207, 1.2913845500145353, 1.6190243540611233, 3.1056976866537473, 1.318651436204452, 1.1844641658751875, 1.836239896758146, 1.8365812149323488, 1.8559517246268689, 3.233496322552126, 1.8757212784252943, 1.9961173920131716, 3.1206989400737046, 4.777977225692785, 1.382637280768331, 2.768296413966217, 3.1221559251749307, 4.454271965887812, 103.2866166908994, 4.074666874534162, 7.234104611190549, 31.158656468485976, 33.05238090602838, 8.022492953075929, 15.305565606999092, 3.100423730422773, 8.195659744209733, 23.606706788213664, 23.38153167848945, 29.422249719220375, 23.388488822552954, 35.28071180466697, 11.961704195781632, 9.587917645396114, 35.21787447233231, 4.21642916737809, 4.249626277663379, 14.916879825186571, 31.508849268822278, 26.66640280696014, 35.13540706012942], \"Category\": [\"Default\", \"Default\", \"Default\", \"Default\", \"Default\", \"Default\", \"Default\", \"Default\", \"Default\", \"Default\", \"Default\", \"Default\", \"Default\", \"Default\", \"Default\", \"Default\", \"Default\", \"Default\", \"Default\", \"Default\", \"Default\", \"Default\", \"Default\", \"Default\", \"Default\", \"Default\", \"Default\", \"Default\", \"Default\", \"Default\", \"Topic1\", \"Topic1\", \"Topic1\", \"Topic1\", \"Topic1\", \"Topic1\", \"Topic1\", \"Topic1\", \"Topic1\", \"Topic1\", \"Topic1\", \"Topic1\", \"Topic1\", \"Topic1\", \"Topic1\", \"Topic1\", \"Topic1\", \"Topic1\", \"Topic1\", \"Topic1\", \"Topic1\", \"Topic1\", \"Topic1\", \"Topic1\", \"Topic1\", \"Topic1\", \"Topic1\", \"Topic1\", \"Topic1\", \"Topic1\", \"Topic1\", \"Topic1\", \"Topic1\", \"Topic1\", \"Topic1\", \"Topic1\", \"Topic1\", \"Topic1\", \"Topic1\", \"Topic1\", \"Topic1\", \"Topic1\", \"Topic1\", \"Topic1\", \"Topic1\", \"Topic1\", \"Topic1\", \"Topic1\", \"Topic1\", \"Topic1\", \"Topic1\", \"Topic1\", \"Topic1\", \"Topic1\", \"Topic1\", \"Topic1\", \"Topic1\", \"Topic1\", \"Topic1\", \"Topic1\", \"Topic1\", \"Topic1\", \"Topic1\", \"Topic2\", \"Topic2\", \"Topic2\", \"Topic2\", \"Topic2\", \"Topic2\", \"Topic2\", \"Topic2\", \"Topic2\", \"Topic2\", \"Topic2\", \"Topic2\", \"Topic2\", \"Topic2\", \"Topic2\", \"Topic2\", \"Topic2\", \"Topic2\", \"Topic2\", \"Topic2\", \"Topic2\", \"Topic2\", \"Topic2\", \"Topic2\", \"Topic2\", \"Topic2\", \"Topic2\", \"Topic2\", \"Topic2\", \"Topic2\", \"Topic2\", \"Topic2\", \"Topic2\", \"Topic2\", \"Topic2\", \"Topic2\", \"Topic2\", \"Topic2\", \"Topic2\", \"Topic2\", \"Topic2\", \"Topic2\", \"Topic2\", \"Topic2\", \"Topic2\", \"Topic2\", \"Topic2\", \"Topic2\", \"Topic2\", \"Topic2\", \"Topic2\", \"Topic2\", \"Topic2\", \"Topic2\", \"Topic2\", \"Topic2\", \"Topic2\", \"Topic2\", \"Topic2\", \"Topic2\", \"Topic2\", \"Topic2\", \"Topic2\", \"Topic2\", \"Topic2\", \"Topic3\", \"Topic3\", \"Topic3\", \"Topic3\", \"Topic3\", \"Topic3\", \"Topic3\", \"Topic3\", \"Topic3\", \"Topic3\", \"Topic3\", \"Topic3\", \"Topic3\", \"Topic3\", \"Topic3\", \"Topic3\", \"Topic3\", \"Topic3\", \"Topic3\", \"Topic3\", \"Topic3\", \"Topic3\", \"Topic3\", \"Topic3\", \"Topic3\", \"Topic3\", \"Topic3\", \"Topic3\", \"Topic3\", \"Topic3\", \"Topic3\", \"Topic3\", \"Topic3\", \"Topic3\", \"Topic3\", \"Topic3\", \"Topic3\", \"Topic3\", \"Topic3\", \"Topic3\", \"Topic3\", \"Topic3\", \"Topic3\", \"Topic3\", \"Topic3\", \"Topic3\", \"Topic3\", \"Topic3\", \"Topic3\", \"Topic3\", \"Topic3\", \"Topic3\", \"Topic3\", \"Topic3\", \"Topic3\", \"Topic3\", \"Topic3\", \"Topic3\", \"Topic3\", \"Topic3\", \"Topic3\", \"Topic4\", \"Topic4\", \"Topic4\", \"Topic4\", \"Topic4\", \"Topic4\", \"Topic4\", \"Topic4\", \"Topic4\", \"Topic4\", \"Topic4\", \"Topic4\", \"Topic4\", \"Topic4\", \"Topic4\", \"Topic4\", \"Topic4\", \"Topic4\", \"Topic4\", \"Topic4\", \"Topic4\", \"Topic4\", \"Topic4\", \"Topic4\", \"Topic4\", \"Topic4\", \"Topic4\", \"Topic4\", \"Topic4\", \"Topic4\", \"Topic4\", \"Topic4\", \"Topic4\", \"Topic4\", \"Topic4\", \"Topic4\", \"Topic4\", \"Topic4\", \"Topic4\", \"Topic4\", \"Topic4\", \"Topic4\", \"Topic4\", \"Topic4\", \"Topic4\", \"Topic4\", \"Topic4\", \"Topic4\", \"Topic4\", \"Topic4\", \"Topic4\", \"Topic4\", \"Topic4\", \"Topic4\", \"Topic4\", \"Topic4\", \"Topic4\", \"Topic4\", \"Topic5\", \"Topic5\", \"Topic5\", \"Topic5\", \"Topic5\", \"Topic5\", \"Topic5\", \"Topic5\", \"Topic5\", \"Topic5\", \"Topic5\", \"Topic5\", \"Topic5\", \"Topic5\", \"Topic5\", \"Topic5\", \"Topic5\", \"Topic5\", \"Topic5\", \"Topic5\", \"Topic5\", \"Topic5\", \"Topic5\", \"Topic5\", \"Topic5\", \"Topic5\", \"Topic5\", \"Topic5\", \"Topic5\", \"Topic5\", \"Topic5\", \"Topic5\", \"Topic5\", \"Topic5\", \"Topic5\", \"Topic5\", \"Topic5\", \"Topic5\", \"Topic5\", \"Topic5\", \"Topic5\", \"Topic5\", \"Topic5\", \"Topic5\", \"Topic5\", \"Topic5\", \"Topic5\", \"Topic5\", \"Topic5\", \"Topic5\", \"Topic5\", \"Topic5\", \"Topic5\", \"Topic5\", \"Topic5\", \"Topic5\", \"Topic5\", \"Topic5\", \"Topic5\", \"Topic5\", \"Topic5\", \"Topic5\", \"Topic6\", \"Topic6\", \"Topic6\", \"Topic6\", \"Topic6\", \"Topic6\", \"Topic6\", \"Topic6\", \"Topic6\", \"Topic6\", \"Topic6\", \"Topic6\", \"Topic6\", \"Topic6\", \"Topic6\", \"Topic6\", \"Topic6\", \"Topic6\", \"Topic6\", \"Topic6\", \"Topic6\", \"Topic6\", \"Topic6\", \"Topic6\", \"Topic6\", \"Topic6\", \"Topic6\", \"Topic6\", \"Topic6\", \"Topic6\", \"Topic6\", \"Topic6\", \"Topic6\", \"Topic6\", \"Topic6\", \"Topic6\", \"Topic6\", \"Topic6\", \"Topic6\", \"Topic6\", \"Topic6\", \"Topic6\", \"Topic6\", \"Topic6\", \"Topic6\", \"Topic6\", \"Topic6\", \"Topic6\", \"Topic6\", \"Topic6\", \"Topic6\", \"Topic6\", \"Topic6\", \"Topic6\", \"Topic6\", \"Topic6\", \"Topic6\", \"Topic6\", \"Topic6\", \"Topic7\", \"Topic7\", \"Topic7\", \"Topic7\", \"Topic7\", \"Topic7\", \"Topic7\", \"Topic7\", \"Topic7\", \"Topic7\", \"Topic7\", \"Topic7\", \"Topic7\", \"Topic7\", \"Topic7\", \"Topic7\", \"Topic7\", \"Topic7\", \"Topic7\", \"Topic7\", \"Topic7\", \"Topic7\", \"Topic7\", \"Topic7\", \"Topic7\", \"Topic7\", \"Topic7\", \"Topic7\", \"Topic7\", \"Topic7\", \"Topic7\", \"Topic7\", \"Topic7\", \"Topic7\", \"Topic7\", \"Topic7\", \"Topic7\", \"Topic7\", \"Topic7\", \"Topic7\", \"Topic7\", \"Topic7\", \"Topic7\", \"Topic7\", \"Topic7\", \"Topic7\", \"Topic7\", \"Topic7\", \"Topic7\", \"Topic7\", \"Topic7\", \"Topic7\", \"Topic7\", \"Topic7\", \"Topic7\", \"Topic8\", \"Topic8\", \"Topic8\", \"Topic8\", \"Topic8\", \"Topic8\", \"Topic8\", \"Topic8\", \"Topic8\", \"Topic8\", \"Topic8\", \"Topic8\", \"Topic8\", \"Topic8\", \"Topic8\", \"Topic8\", \"Topic8\", \"Topic8\", \"Topic8\", \"Topic8\", \"Topic8\", \"Topic8\", \"Topic8\", \"Topic8\", \"Topic8\", \"Topic8\", \"Topic8\", \"Topic8\", \"Topic8\", \"Topic8\", \"Topic8\", \"Topic8\", \"Topic8\", \"Topic8\", \"Topic8\", \"Topic8\", \"Topic8\", \"Topic8\", \"Topic8\", \"Topic8\", \"Topic8\", \"Topic8\", \"Topic8\", \"Topic8\", \"Topic8\", \"Topic8\", \"Topic8\", \"Topic8\", \"Topic8\", \"Topic8\", \"Topic8\", \"Topic8\", \"Topic8\", \"Topic8\", \"Topic8\", \"Topic8\"], \"logprob\": [30.0, 29.0, 28.0, 27.0, 26.0, 25.0, 24.0, 23.0, 22.0, 21.0, 20.0, 19.0, 18.0, 17.0, 16.0, 15.0, 14.0, 13.0, 12.0, 11.0, 10.0, 9.0, 8.0, 7.0, 6.0, 5.0, 4.0, 3.0, 2.0, 1.0, -4.5208, -5.3717, -5.3716, -5.3717, -4.7026, -4.9099, -5.2505, -6.0182, -6.0182, -6.0183, -6.0183, -6.0183, -6.0183, -6.0183, -6.0183, -6.0183, -6.0183, -6.0183, -6.0183, -6.0183, -6.0183, -6.0183, -6.0183, -6.0183, -6.0183, -6.0183, -6.0183, -6.0183, -6.0184, -6.0184, -4.9822, -5.3717, -5.4491, -3.5533, -5.2999, -5.0797, -4.6665, -3.2245, -4.3626, -4.4218, -5.2943, -5.3005, -4.1227, -4.6711, -4.9548, -5.0278, -4.7867, -4.9735, -4.9233, -5.1322, -4.7671, -5.1431, -5.108, -4.9334, -4.651, -4.8797, -5.0528, -5.2134, -5.1148, -5.2464, -5.2228, -5.1955, -5.2407, -4.6661, -5.2587, -5.2588, -5.6483, -5.6483, -5.6483, -5.6483, -5.6483, -4.6829, -5.2598, -6.2948, -6.2949, -6.2949, -6.2949, -6.2949, -6.2949, -6.2949, -6.2949, -6.2949, -6.2949, -6.2949, -6.2949, -6.2949, -6.2949, -6.2949, -6.2949, -6.2949, -6.2949, -6.2949, -6.2949, -5.6483, -5.9218, -5.1509, -5.465, -5.0595, -5.9219, -5.6938, -5.9454, -5.1531, -5.2792, -4.7573, -3.948, -5.5319, -4.2948, -5.4856, -4.1263, -4.341, -4.0665, -3.3258, -4.8281, -4.2238, -4.489, -4.273, -4.4797, -4.4288, -4.3944, -4.5246, -5.1121, -5.1157, -5.3605, -5.3187, -5.1134, -5.1586, -5.2505, -5.2167, -5.1803, -5.5697, -5.5697, -5.5698, -5.5697, -5.5975, -5.1803, -4.8112, -4.0586, -5.2192, -5.2424, -6.2163, -6.2163, -6.2163, -6.2163, -6.2164, -6.2164, -6.2164, -6.2164, -6.2164, -6.2164, -6.2164, -6.2164, -6.2164, -6.2164, -6.2164, -6.2164, -6.2165, -6.2334, -6.2372, -5.1503, -5.0678, -4.209, -5.4127, -3.7446, -5.059, -5.0831, -5.3135, -5.4129, -3.8807, -3.1508, -5.924, -5.5378, -4.0952, -4.618, -5.9304, -4.195, -4.8931, -5.5697, -5.3525, -4.3528, -4.7966, -4.7044, -5.0475, -5.2532, -5.0487, -5.0951, -5.0432, -5.2962, -5.3251, -5.333, -4.8101, -4.9354, -5.4282, -5.4282, -5.5328, -5.0647, -4.8419, -5.6901, -6.0748, -6.0748, -6.0748, -6.0748, -6.0749, -6.0749, -6.0749, -6.0749, -5.6451, -4.9986, -5.2892, -5.6931, -5.4282, -5.7441, -4.8122, -6.262, -6.2751, -6.2917, -6.2833, -6.2932, -6.2711, -6.3009, -5.8535, -4.6855, -5.5571, -4.3314, -5.4586, -4.9241, -5.2749, -4.6, -3.1327, -4.8623, -4.6761, -4.2235, -5.0178, -4.4049, -5.089, -5.0538, -4.51, -4.8546, -4.4738, -4.5196, -4.5251, -5.0007, -4.62, -5.1542, -4.7492, -5.1917, -5.1773, -5.1529, -4.6541, -4.9893, -5.3231, -5.3232, -5.1733, -5.4954, -5.514, -5.2657, -5.9697, -5.9697, -5.9697, -5.9698, -5.9698, -5.9698, -5.9698, -5.9698, -5.9698, -5.9698, -5.9698, -5.9698, -5.9698, -5.9698, -5.9698, -5.9698, -5.9698, -5.9698, -5.9812, -5.9823, -5.9827, -5.9837, -4.9337, -4.6688, -5.3232, -5.5106, -3.8277, -4.0919, -4.924, -5.5424, -4.1746, -5.5351, -5.0313, -3.5976, -5.1471, -4.3728, -4.5075, -4.541, -5.2164, -4.9531, -4.6229, -5.1163, -5.426, -5.5382, -4.898, -4.9563, -4.795, -5.2549, -5.0025, -4.8142, -5.2618, -5.0346, -5.0422, -5.2878, -4.285, -4.466, -4.9614, -5.3508, -5.3508, -5.3508, -5.3508, -5.3508, -5.3666, -5.3873, -4.1332, -4.6818, -4.9642, -5.4618, -4.9765, -4.9419, -4.9614, -5.9974, -5.9974, -5.9974, -5.9974, -5.9974, -5.9974, -5.9974, -5.9974, -5.9974, -5.9974, -5.9975, -5.9975, -5.9975, -4.611, -5.3509, -4.4635, -4.9497, -5.3508, -5.0893, -5.6415, -4.1254, -4.9555, -4.7176, -5.3156, -5.219, -4.6496, -3.8221, -3.1909, -4.3941, -4.1797, -4.1932, -4.5993, -4.2207, -4.1413, -4.8676, -4.5099, -4.4239, -4.9614, -4.6674, -4.9175, -4.8653, -4.9468, -5.0656, -3.9617, -5.7122, -5.7122, -5.7122, -5.7122, -5.7122, -5.7122, -5.7122, -5.7123, -5.7136, -5.7138, -5.7148, -5.7158, -5.7223, -5.7265, -4.8785, -4.6215, -5.0655, -5.067, -4.6761, -4.5235, -5.8047, -5.8199, -5.8346, -5.8386, -5.8393, -5.8431, -5.8607, -5.9507, -4.6761, -3.6823, -3.2066, -4.145, -5.0235, -5.0414, -4.6976, -4.3195, -4.3348, -4.7175, -4.8575, -4.4169, -4.4301, -5.1364, -5.11, -4.6587, -5.0869, -5.2456, -5.0031, -4.9774, -5.2093, -5.4195, -4.9684, -5.0693, -5.1292, -4.486, -3.986, -5.5221, -5.5221, -5.5221, -5.5221, -5.5221, -5.5221, -5.5222, -5.5222, -5.6311, -4.203, -5.7534, -5.6787, -5.705, -5.7156, -5.7423, -5.5221, -4.8756, -5.7756, -5.9482, -5.5221, -5.5221, -5.5221, -4.9764, -5.5221, -5.4697, -5.037, -4.6112, -5.8588, -5.1777, -5.0641, -4.8755, -3.268, -5.0888, -4.798, -4.1082, -4.1463, -4.8382, -4.5942, -5.2955, -4.8997, -4.5019, -4.5521, -4.4817, -4.5736, -4.4713, -5.016, -5.0838, -4.87, -5.2724, -5.2871, -5.1088, -5.0623, -5.0866, -5.2541], \"loglift\": [30.0, 29.0, 28.0, 27.0, 26.0, 25.0, 24.0, 23.0, 22.0, 21.0, 20.0, 19.0, 18.0, 17.0, 16.0, 15.0, 14.0, 13.0, 12.0, 11.0, 10.0, 9.0, 8.0, 7.0, 6.0, 5.0, 4.0, 3.0, 2.0, 1.0, 2.0873, 1.9389, 1.9389, 1.9389, 1.8802, 1.8558, 1.7365, 1.7013, 1.7013, 1.7013, 1.7013, 1.7013, 1.7013, 1.7012, 1.7012, 1.7012, 1.7012, 1.7012, 1.7012, 1.7012, 1.7012, 1.7012, 1.7012, 1.7012, 1.7012, 1.7012, 1.7012, 1.7012, 1.7012, 1.7012, 1.5834, 1.5959, 1.5134, 0.8101, 1.3836, 1.1704, 0.9242, 0.0606, 0.7189, 0.7084, 1.1732, 1.1773, 0.2384, 0.5769, 0.7954, 0.8416, 0.5876, 0.7484, 0.6989, 0.8764, 0.4618, 0.8238, 0.7071, 0.4497, -0.2917, -0.4552, -0.4135, 0.5613, -0.4068, 0.7356, 0.2181, -0.4248, 0.2011, 1.5866, 1.5743, 1.5743, 1.4932, 1.4932, 1.4932, 1.4932, 1.4932, 1.3722, 1.3522, 1.2948, 1.2948, 1.2948, 1.2948, 1.2948, 1.2948, 1.2948, 1.2948, 1.2948, 1.2948, 1.2948, 1.2948, 1.2948, 1.2948, 1.2948, 1.2948, 1.2948, 1.2948, 1.2948, 1.2948, 1.2943, 1.2383, 1.1064, 1.1566, 1.0811, 1.2326, 1.1656, 1.2173, 1.0077, 0.9783, 0.7418, 0.4113, 1.0106, 0.4755, 0.9587, 0.3572, 0.4296, 0.297, -0.0407, 0.6128, 0.2007, 0.2721, 0.088, 0.2282, 0.112, 0.0779, 0.1146, 0.2748, 0.2674, 0.7746, 0.6633, 0.1067, 0.0894, 0.3718, -0.0865, 1.7113, 1.6246, 1.6246, 1.6246, 1.6246, 1.5953, 1.4633, 1.4376, 1.426, 1.4226, 1.4183, 1.4145, 1.4145, 1.4145, 1.4145, 1.4145, 1.4145, 1.4145, 1.4144, 1.4144, 1.4144, 1.4144, 1.4144, 1.4144, 1.4144, 1.4144, 1.4144, 1.4144, 1.3966, 1.3926, 1.3412, 1.2667, 0.9854, 1.2209, 0.7389, 1.0557, 1.0575, 1.0877, 1.1106, 0.4827, 0.1343, 1.2888, 1.11, 0.3293, 0.5194, 1.2537, 0.2773, 0.6312, 0.9603, 0.7993, 0.0065, 0.2848, -0.0652, 0.3356, 0.497, -0.5079, -0.334, -0.6822, 0.4257, 0.5153, -0.6251, 1.8452, 1.7638, 1.7624, 1.7624, 1.6565, 1.5864, 1.5646, 1.5619, 1.5531, 1.5531, 1.5531, 1.5531, 1.5531, 1.5531, 1.5531, 1.5531, 1.541, 1.4967, 1.4954, 1.4945, 1.4545, 1.4403, 1.4379, 1.3826, 1.3704, 1.3646, 1.3629, 1.3626, 1.3532, 1.3467, 1.3464, 1.2736, 1.1919, 0.8975, 1.1674, 1.0197, 1.0993, 0.8418, 0.1524, 0.7284, 0.5719, 0.201, 0.7324, 0.2343, 0.7777, 0.7354, 0.198, 0.5198, 0.0671, -0.0473, -0.1641, 0.4984, -0.2607, 0.7388, -0.3858, 0.7752, 0.5446, 0.0672, 1.4292, 1.3811, 1.3613, 1.3613, 1.2946, 1.2786, 1.2692, 1.2464, 1.2459, 1.2459, 1.2459, 1.2459, 1.2459, 1.2459, 1.2459, 1.2459, 1.2459, 1.2459, 1.2459, 1.2459, 1.2459, 1.2459, 1.2459, 1.2459, 1.2459, 1.2459, 1.2387, 1.238, 1.2378, 1.2372, 1.1748, 1.1383, 1.1677, 1.0961, 0.5334, 0.6161, 0.7805, 1.0315, 0.1847, 0.9827, 0.6641, -0.3125, 0.7028, 0.1681, 0.2535, 0.2297, 0.6809, 0.4338, 0.1475, 0.5458, 0.7891, 0.8537, 0.2393, 0.2917, -0.1558, 0.5343, 0.079, -0.3418, 0.4471, -0.5511, -0.6177, -0.0589, 2.0078, 1.9856, 1.9123, 1.8274, 1.8274, 1.8274, 1.8274, 1.8274, 1.8134, 1.7956, 1.7875, 1.7613, 1.7386, 1.7302, 1.728, 1.7234, 1.7161, 1.6209, 1.6209, 1.6209, 1.6209, 1.6209, 1.6209, 1.6209, 1.6209, 1.6209, 1.6209, 1.6209, 1.6209, 1.6209, 1.587, 1.6018, 1.5037, 1.493, 1.5092, 1.4555, 1.5269, 1.0047, 1.2182, 1.1227, 1.3415, 1.2954, 1.0427, 0.6503, 0.0942, 0.7432, 0.591, 0.5772, 0.7876, 0.3202, 0.2221, 0.9628, 0.2512, 0.0006, 0.7431, -0.1838, 0.3026, -0.5042, 0.2476, 2.3439, 2.3313, 2.0808, 2.0808, 2.0808, 2.0808, 2.0808, 2.0808, 2.0808, 2.0807, 2.0791, 2.0788, 2.0776, 2.0764, 2.0687, 2.0637, 2.0479, 2.0063, 1.9733, 1.9715, 1.9588, 1.9523, 1.9318, 1.9041, 1.8859, 1.8782, 1.8762, 1.8671, 1.837, 1.8128, 1.7747, 0.9569, 0.0785, 0.6161, 1.2661, 1.2295, 0.7434, 0.2214, 0.1375, 0.6656, 0.8379, 0.0077, -0.0708, 0.9728, 0.801, -0.1752, 0.6878, 1.0032, 0.3712, 0.2427, 0.688, 1.1819, -0.605, -0.2986, 0.0009, 2.7197, 2.4571, 2.3173, 2.3173, 2.3173, 2.3173, 2.3173, 2.3172, 2.3172, 2.3172, 2.2029, 2.1975, 2.0752, 2.0314, 1.9867, 1.9689, 1.9246, 1.9187, 1.9138, 1.8704, 1.8051, 1.7928, 1.7926, 1.7821, 1.7727, 1.7715, 1.7617, 1.7476, 1.7474, 1.7399, 1.7267, 1.72, 1.5533, 0.0171, 1.429, 1.1458, 0.3754, 0.2782, 1.0022, 0.6002, 1.4956, 0.9193, 0.2592, 0.2186, 0.0592, 0.1967, -0.112, 0.4249, 0.5783, -0.509, 1.2113, 1.1887, 0.1113, -0.5899, -0.4473, -0.8907]}, \"token.table\": {\"Topic\": [1, 2, 3, 4, 6, 8, 2, 7, 4, 1, 3, 1, 6, 7, 8, 1, 7, 3, 1, 3, 1, 2, 1, 2, 3, 5, 6, 7, 8, 2, 5, 5, 1, 2, 3, 8, 1, 2, 3, 4, 5, 1, 2, 7, 4, 1, 2, 3, 4, 6, 4, 7, 1, 3, 4, 5, 6, 7, 8, 6, 3, 2, 6, 7, 6, 7, 6, 2, 8, 1, 4, 6, 8, 2, 6, 7, 2, 6, 8, 4, 1, 2, 3, 4, 5, 6, 7, 8, 3, 1, 4, 3, 7, 2, 1, 3, 7, 3, 5, 7, 7, 1, 2, 3, 4, 5, 6, 7, 8, 7, 7, 2, 4, 5, 6, 7, 5, 2, 3, 2, 4, 3, 4, 5, 8, 8, 1, 2, 3, 4, 5, 7, 3, 2, 3, 4, 5, 6, 4, 5, 2, 4, 3, 5, 4, 2, 4, 5, 7, 6, 2, 3, 5, 7, 1, 2, 3, 4, 5, 6, 7, 8, 3, 5, 5, 1, 6, 4, 6, 2, 8, 5, 2, 6, 5, 2, 8, 2, 3, 3, 3, 2, 3, 4, 5, 6, 7, 8, 2, 3, 6, 7, 8, 5, 1, 4, 1, 5, 4, 1, 2, 3, 7, 6, 1, 4, 2, 2, 3, 7, 1, 2, 3, 4, 5, 6, 7, 8, 8, 1, 2, 4, 5, 7, 8, 7, 1, 5, 8, 1, 2, 3, 1, 1, 4, 2, 7, 6, 7, 7, 8, 6, 7, 2, 4, 6, 6, 1, 2, 3, 6, 6, 2, 4, 5, 6, 2, 5, 6, 7, 7, 6, 7, 5, 6, 7, 8, 7, 6, 3, 1, 2, 3, 4, 5, 1, 3, 6, 1, 4, 5, 7, 1, 5, 3, 4, 6, 7, 6, 1, 3, 7, 1, 6, 1, 2, 3, 4, 6, 7, 8, 1, 2, 6, 7, 3, 5, 8, 4, 5, 6, 8, 2, 3, 6, 2, 1, 4, 2, 7, 1, 3, 4, 2, 6, 3, 6, 1, 2, 4, 6, 2, 5, 6, 4, 3, 4, 5, 6, 7, 2, 3, 2, 4, 6, 4, 4, 1, 2, 6, 8, 1, 2, 3, 4, 2, 3, 4, 7, 4, 5, 7, 3, 5, 7, 1, 2, 3, 4, 5, 6, 1, 6, 7, 5, 3, 5, 2, 3, 6, 1, 2, 3, 5, 7, 4, 8, 2, 2, 5, 2, 3, 5, 8, 1, 2, 5, 3, 5, 3, 3, 5, 8, 6, 2, 1, 2, 4, 5, 2, 2, 2, 5, 6, 7, 8, 6, 1, 2, 5, 7, 4, 5, 3, 4, 5, 6, 7, 1, 2, 4, 5, 6, 7, 4, 8, 5, 1, 5, 5, 3, 4, 5, 6, 7, 5, 1, 2, 3, 4, 5, 6, 1, 5, 2, 1, 2, 3, 4, 5, 6, 7, 8, 6, 8, 2, 3, 5, 1, 6, 3, 1, 2, 3, 4, 5, 6, 8, 4, 3, 4, 5, 6, 7, 8, 1, 2, 3, 4, 5, 6, 7, 8, 3, 1, 2, 3, 4, 5, 3, 6, 6, 4, 8, 5, 1, 2, 3, 4, 5, 6, 7, 8, 8, 2, 3, 4, 5, 6, 8, 1, 3, 4, 5, 6, 7, 6, 4, 4, 3, 3, 5, 2, 4, 6, 8, 1, 3, 4, 5, 2, 5, 6, 5, 7, 4, 6, 1, 7, 4, 6, 3, 1, 2, 3, 5, 6, 7, 2, 1, 2, 3, 4, 5, 6, 7, 8, 2, 2, 2, 7, 8, 5, 2, 1, 2, 4, 5, 6, 7, 8, 1, 6, 1, 2, 3, 4, 5, 6, 7, 8, 8, 5, 5, 3, 4, 4, 6, 7, 8, 1, 2, 3, 4, 8, 1, 2, 3, 5, 2, 2, 1, 2, 3, 4, 5, 6, 7, 8, 2, 6, 8, 1, 1, 3, 4, 5, 7, 8, 2, 3, 4, 5, 7, 2, 3, 6, 6, 1, 2, 3, 4, 5, 7, 1, 2, 5, 6, 7, 1, 1, 2, 3, 4, 5, 6, 2, 1, 2, 3, 4, 5, 6, 7, 8, 3, 3, 5, 4, 8, 1, 6, 6, 7, 6, 4, 5, 5, 8, 5, 2, 1, 2, 3, 4, 5, 7, 3, 5, 7, 6, 4, 5, 8, 7, 5, 7, 2, 6, 6, 1, 2, 8, 2, 4, 6, 7, 8, 2, 1, 2, 3, 5, 6, 7, 5, 1, 2, 3, 4, 5, 6, 7, 4, 2, 3, 5, 4, 3, 3, 1, 2, 3, 4, 5, 1, 2, 3, 4, 5, 6, 7, 8, 2, 4, 5, 6, 7, 1, 2, 3, 4, 5, 1, 2, 3, 4, 5, 2, 1, 5, 1, 5, 7, 3, 5, 6, 4, 4, 7, 7], \"Freq\": [0.06533571026886516, 0.13067142053773032, 0.392014261613191, 0.13067142053773032, 0.13067142053773032, 0.06533571026886516, 0.7167849341436681, 0.8086125761500016, 0.74474057953079, 0.8162058608131042, 0.7469097963972098, 0.8162088904623002, 0.7376551239655792, 0.6176559342616577, 0.6176559342616577, 0.8162120929208011, 0.7985489275139495, 0.7469185357765218, 0.8161980179784257, 0.7463060431775946, 0.8161973474982026, 0.7168074465475249, 0.04236084299989184, 0.2118042149994592, 0.08472168599978368, 0.29652590099924286, 0.16944337199956735, 0.12708252899967554, 0.04236084299989184, 0.7167922948650091, 0.9863049849540286, 0.5364819524490753, 0.17020590658117224, 0.17020590658117224, 0.3404118131623445, 0.17020590658117224, 0.13525854155028427, 0.13525854155028427, 0.13525854155028427, 0.3381463538757107, 0.2028878123254264, 0.8162021725186993, 0.27393549474671114, 0.5478709894934223, 0.4803118581533379, 0.20045058775502073, 0.20045058775502073, 0.20045058775502073, 0.20045058775502073, 0.10022529387751036, 0.511407481404861, 0.8777105096879542, 0.06171340280984307, 0.24685361123937227, 0.12342680561968614, 0.3085670140492153, 0.24685361123937227, 0.06171340280984307, 0.06171340280984307, 0.7376293445429181, 0.7469064789317071, 0.24458094007246983, 0.48916188014493966, 0.24458094007246983, 0.41307574599732694, 0.41307574599732694, 0.4816126894682537, 0.5331282485847365, 0.5331282485847365, 0.5422366625493601, 0.2521309595549607, 0.5042619191099214, 0.2521309595549607, 0.22765645566863404, 0.4553129113372681, 0.8129039765461893, 0.3219888414436938, 0.3219888414436938, 0.3219888414436938, 0.8827104769207066, 0.03398788364394651, 0.20392730186367908, 0.10196365093183954, 0.13595153457578604, 0.2719030691515721, 0.16993941821973255, 0.06797576728789302, 0.03398788364394651, 0.7469665167381695, 0.37554858478693737, 0.563322877180406, 0.9654842067691127, 0.830177336913608, 0.7530101496887892, 0.18753162019490718, 0.5625948605847215, 0.18753162019490718, 0.22951882015288455, 0.4590376403057691, 0.4590376403057691, 0.8784230762463525, 0.157803858886762, 0.236705788330143, 0.236705788330143, 0.078901929443381, 0.078901929443381, 0.157803858886762, 0.157803858886762, 0.9200989210957768, 0.8778964318503871, 0.8780432873619647, 0.11843016004877825, 0.2368603200975565, 0.35529048014633474, 0.11843016004877825, 0.11843016004877825, 0.9862856970585232, 0.690644364790644, 0.345322182395322, 0.5469277799654254, 0.5469277799654254, 0.6113339514388588, 0.0873334216341227, 0.1746668432682454, 0.0873334216341227, 0.9201322879583397, 0.23345112863978695, 0.23345112863978695, 0.11672556431989348, 0.11672556431989348, 0.11672556431989348, 0.11672556431989348, 0.7469274444705482, 0.1234084985415208, 0.2468169970830416, 0.1234084985415208, 0.2468169970830416, 0.3702254956245624, 0.7447506206033451, 0.9863576534548927, 0.539341118614152, 0.269670559307076, 0.47782368917934265, 0.9914257455485979, 0.7447741737255337, 0.26679256539699975, 0.26679256539699975, 0.26679256539699975, 0.26679256539699975, 0.7376327274773925, 0.3347495830653873, 0.16737479153269366, 0.16737479153269366, 0.16737479153269366, 0.10649976107668567, 0.16459053984578695, 0.16459053984578695, 0.1452269469227532, 0.16459053984578695, 0.1355451504612363, 0.06777257523061815, 0.0484089823075844, 0.7461848442392697, 0.73202585836343, 0.9862883714417946, 0.6289167423659309, 0.31445837118296543, 0.47873955084309977, 0.9500496038298509, 0.7506055863542309, 0.37530279317711546, 0.6400407279764306, 0.2277501914990159, 0.6832505744970477, 0.9863109892914499, 0.5388071180574731, 0.5388071180574731, 0.2783198195681513, 0.5566396391363027, 0.7468954023687598, 0.4819882279713839, 0.19042269518668034, 0.19042269518668034, 0.12694846345778688, 0.15868557932223362, 0.22215981105112706, 0.06347423172889344, 0.03173711586444672, 0.7167997922888109, 0.2492990659758914, 0.37394859896383714, 0.1246495329879457, 0.1246495329879457, 0.9909094251244405, 0.7856610779496632, 0.26188702598322106, 0.5148377368697662, 0.5148377368697662, 0.7572093587975783, 0.5422627182988744, 0.275546504624388, 0.551093009248776, 0.8784166786266137, 0.5688167497332144, 0.392330247697794, 0.392330247697794, 0.9157647926063618, 0.24680127980872474, 0.4936025596174495, 0.24680127980872474, 0.08553759554768436, 0.2566127866430531, 0.04276879777384218, 0.04276879777384218, 0.2993815844168953, 0.2138439888692109, 0.04276879777384218, 0.04276879777384218, 0.9201043548701198, 0.16720025568809102, 0.33440051137618204, 0.08360012784404551, 0.2508003835321365, 0.16720025568809102, 0.08360012784404551, 0.8781100328605919, 0.8162046245361417, 0.5009725399924783, 0.5009725399924783, 0.8162304943894968, 0.7167999223469208, 0.9655072516416098, 0.8162002528143336, 0.8058486264278591, 0.7447536972840154, 0.6180666500316393, 0.15451666250790982, 0.7376492575659855, 0.5985796818103154, 0.8784174770878224, 0.9201328920710553, 0.7582499534809414, 0.3791249767404707, 0.5151638224027006, 0.17172127413423355, 0.17172127413423355, 0.47037762233329783, 0.816202712786612, 0.5445037858877712, 0.2722518929438856, 0.9500805727283318, 0.9545108556449993, 0.7167897912118225, 0.658668733309025, 0.21955624443634164, 0.21955624443634164, 0.12056912152019214, 0.7234147291211528, 0.12056912152019214, 0.12056912152019214, 0.8784647723354025, 0.7376510907623791, 0.8198352531131339, 0.2353148099766179, 0.2353148099766179, 0.4706296199532358, 0.2353148099766179, 0.8169730068265981, 0.7006721943098378, 0.7468924894382882, 0.8162160827403808, 0.37831238608566087, 0.18915619304283043, 0.18915619304283043, 0.18915619304283043, 0.2390507019295204, 0.4781014038590408, 0.2390507019295204, 0.23994726894151305, 0.4798945378830261, 0.9863054013896758, 0.8139874603005721, 0.8161959231069935, 0.9863011602010208, 0.17825407536251908, 0.17825407536251908, 0.5347622260875572, 0.17825407536251908, 0.9187012499610693, 0.19602110120914407, 0.19602110120914407, 0.5880633036274322, 0.8162316856360374, 0.737653597817153, 0.22769054550326115, 0.22769054550326115, 0.22769054550326115, 0.08538395456372293, 0.1423065909395382, 0.028461318187907644, 0.028461318187907644, 0.8162342299715599, 0.7167745325997598, 0.591606409096516, 0.295803204548258, 0.36123299331492886, 0.36123299331492886, 0.36123299331492886, 0.20929358863886266, 0.20929358863886266, 0.20929358863886266, 0.20929358863886266, 0.2778075092992762, 0.5556150185985524, 0.9797753470108522, 0.7168053591916148, 0.8161884570912428, 0.7658567675780314, 0.7167920414094111, 0.8784105777560249, 0.2043140856463993, 0.6129422569391979, 0.2043140856463993, 0.34554451487532395, 0.6910890297506479, 0.28210555989209873, 0.5642111197841975, 0.28291722023994076, 0.14145861011997038, 0.28291722023994076, 0.28291722023994076, 0.10881406470500375, 0.435256258820015, 0.2176281294100075, 0.7447661697364998, 0.12797947375711544, 0.2559589475142309, 0.2559589475142309, 0.12797947375711544, 0.12797947375711544, 0.5048824940052654, 0.5048824940052654, 0.915746507861239, 0.7070026452972676, 0.3535013226486338, 0.7447442824487012, 0.9618630772295322, 0.816187307096704, 0.32029149855607264, 0.32029149855607264, 0.32029149855607264, 0.1403691345376374, 0.1403691345376374, 0.1403691345376374, 0.42110740361291227, 0.16400086971808436, 0.4920026091542531, 0.16400086971808436, 0.16400086971808436, 0.1917221698632135, 0.383444339726427, 0.1917221698632135, 0.49686767886026495, 0.49686767886026495, 0.24843383943013247, 0.20680856705597372, 0.20680856705597372, 0.06893618901865792, 0.20680856705597372, 0.27574475607463167, 0.9500559218058064, 0.8162123037240011, 0.41321143338640015, 0.41321143338640015, 0.9862925510616068, 0.9654699023356706, 0.8697502509122929, 0.27948316582065125, 0.5589663316413025, 0.27948316582065125, 0.19533223935718919, 0.19533223935718919, 0.19533223935718919, 0.19533223935718919, 0.19533223935718919, 0.7447666078788336, 0.9200927085401966, 0.4664971582525441, 0.46388648649793657, 0.9862822696722128, 0.23716750840660555, 0.23716750840660555, 0.23716750840660555, 0.23716750840660555, 0.28964625233351937, 0.28964625233351937, 0.28964625233351937, 0.7469101691864368, 0.8471380081162829, 0.746899879834656, 0.44900715881666337, 0.44900715881666337, 0.22450357940833168, 0.9500572352984719, 0.6727503460915321, 0.2357835524093285, 0.2357835524093285, 0.2357835524093285, 0.2357835524093285, 0.7167891052445018, 0.672718424170628, 0.23760836863386445, 0.31681115817848593, 0.23760836863386445, 0.07920278954462148, 0.07920278954462148, 0.7376489677319265, 0.13195653752611125, 0.13195653752611125, 0.3958696125783338, 0.13195653752611125, 0.21637826994806794, 0.4327565398961359, 0.14150611546280112, 0.14150611546280112, 0.14150611546280112, 0.5660244618512045, 0.14150611546280112, 0.15642852490736112, 0.15642852490736112, 0.23464278736104166, 0.23464278736104166, 0.07821426245368056, 0.07821426245368056, 0.7420842170117936, 0.4882569930585288, 0.869714560172717, 0.8162029679221428, 0.953491617031051, 0.951230306651266, 0.17396243731382166, 0.17396243731382166, 0.17396243731382166, 0.3479248746276433, 0.17396243731382166, 0.9910623179358335, 0.2949718587479672, 0.1474859293739836, 0.1474859293739836, 0.1474859293739836, 0.1474859293739836, 0.1474859293739836, 0.8161846131354702, 0.9862799679863369, 0.9157451858184794, 0.085032298004916, 0.255096894014748, 0.14172049667486, 0.085032298004916, 0.255096894014748, 0.056688198669944005, 0.056688198669944005, 0.056688198669944005, 0.5444899424373321, 0.5444899424373321, 0.5673959668653418, 0.18913198895511393, 0.18913198895511393, 0.2878899355674421, 0.5757798711348842, 0.49175252253953006, 0.23342893491286443, 0.11671446745643221, 0.17507170118464832, 0.05835723372821611, 0.23342893491286443, 0.11671446745643221, 0.05835723372821611, 0.7662355900682449, 0.16309160487281352, 0.16309160487281352, 0.16309160487281352, 0.32618320974562703, 0.16309160487281352, 0.16309160487281352, 0.06703814817302067, 0.201114444519062, 0.13407629634604135, 0.13407629634604135, 0.201114444519062, 0.13407629634604135, 0.06703814817302067, 0.06703814817302067, 0.7469026272416704, 0.22145747332815638, 0.11072873666407819, 0.22145747332815638, 0.22145747332815638, 0.22145747332815638, 0.566198464023078, 0.283099232011539, 0.9500752528748773, 0.6408820711019192, 0.3204410355509596, 0.9863042581081278, 0.1838040357826646, 0.1838040357826646, 0.06126801192755487, 0.06126801192755487, 0.06126801192755487, 0.3063400596377744, 0.06126801192755487, 0.06126801192755487, 0.9201194524524883, 0.24403160482754402, 0.24403160482754402, 0.12201580241377201, 0.12201580241377201, 0.12201580241377201, 0.12201580241377201, 0.25663938105418, 0.12831969052709, 0.12831969052709, 0.12831969052709, 0.12831969052709, 0.12831969052709, 0.7376488015795792, 0.4794862073129467, 0.8447477975039166, 0.746948188074792, 0.7469356428558944, 0.9862765396374493, 0.21259084350579427, 0.42518168701158854, 0.21259084350579427, 0.21259084350579427, 0.22781004887957215, 0.22781004887957215, 0.22781004887957215, 0.11390502443978608, 0.18131739464035365, 0.5439521839210609, 0.18131739464035365, 0.5191497585729203, 0.8759854493215813, 0.4779738630567941, 0.7376473964287297, 0.816209710959671, 0.8766587802270752, 0.5608388678692532, 0.2804194339346266, 0.7469176853982127, 0.10928707891485769, 0.10928707891485769, 0.21857415782971537, 0.32786123674457307, 0.21857415782971537, 0.10928707891485769, 0.716792562455313, 0.07500074211276762, 0.18750185528191904, 0.15000148422553525, 0.15000148422553525, 0.18750185528191904, 0.03750037105638381, 0.15000148422553525, 0.03750037105638381, 0.4677045342012345, 0.7167995804480127, 0.22774286976380617, 0.22774286976380617, 0.45548573952761234, 0.9863045106339767, 0.7168011810656135, 0.2430875954773028, 0.1215437977386514, 0.1215437977386514, 0.2430875954773028, 0.1215437977386514, 0.1215437977386514, 0.1215437977386514, 0.5422436402639996, 0.7376405281497244, 0.03209380998219243, 0.25675047985753946, 0.32093809982192434, 0.06418761996438486, 0.12837523992876973, 0.09628142994657729, 0.06418761996438486, 0.06418761996438486, 0.9200985322285674, 0.9904947980164792, 0.9862977847496691, 0.7132288272196117, 0.48539166141013, 0.3225365585315141, 0.3225365585315141, 0.3225365585315141, 0.3225365585315141, 0.13823410826173074, 0.13823410826173074, 0.13823410826173074, 0.41470232478519226, 0.13823410826173074, 0.23337956801356602, 0.23337956801356602, 0.23337956801356602, 0.23337956801356602, 0.7167936366594746, 0.915754641621993, 0.06051001305129043, 0.2117850456795165, 0.2117850456795165, 0.15127503262822609, 0.12102002610258086, 0.12102002610258086, 0.06051001305129043, 0.06051001305129043, 0.716787790518223, 0.5445911516057815, 0.5445911516057815, 0.8162206059222157, 0.10429793381466682, 0.10429793381466682, 0.20859586762933363, 0.41719173525866726, 0.10429793381466682, 0.10429793381466682, 0.10782950296228816, 0.21565900592457632, 0.10782950296228816, 0.43131801184915264, 0.10782950296228816, 0.456042000903625, 0.2280210004518125, 0.2280210004518125, 0.9517103530145683, 0.13138898399153398, 0.13138898399153398, 0.13138898399153398, 0.26277796798306796, 0.26277796798306796, 0.13138898399153398, 0.14361916275962897, 0.28723832551925793, 0.14361916275962897, 0.14361916275962897, 0.14361916275962897, 0.8162074610660707, 0.2913313284107185, 0.09711044280357282, 0.09711044280357282, 0.2913313284107185, 0.09711044280357282, 0.09711044280357282, 0.7168121452409698, 0.14197336082641995, 0.19876270515698796, 0.08518401649585199, 0.11357868866113598, 0.3691307381486919, 0.08518401649585199, 0.028394672165283994, 0.028394672165283994, 0.7469156179179334, 0.7469120784285092, 0.9863322450957823, 0.3092627608775885, 0.3092627608775885, 0.3828464131219513, 0.3828464131219513, 0.5905655838393217, 0.29528279191966084, 0.7376450913038832, 0.23889946444265558, 0.7166983933279668, 0.4908376712951904, 0.2454188356475952, 0.7232554871110524, 0.7168128075073413, 0.08860559516865188, 0.3544223806746075, 0.08860559516865188, 0.17721119033730376, 0.17721119033730376, 0.08860559516865188, 0.16297940151922516, 0.6519176060769006, 0.16297940151922516, 0.7376482498019534, 0.7584961938235701, 0.9863280029862233, 0.9201071272546385, 0.8784311538504433, 0.5518121924779417, 0.5518121924779417, 0.13507392236676882, 0.6753696118338441, 0.7376392046089061, 0.2515316339649576, 0.5030632679299152, 0.2515316339649576, 0.9157909609155089, 0.2182611518566393, 0.2182611518566393, 0.2182611518566393, 0.4365223037132786, 0.7168044163819188, 0.13378074456586417, 0.13378074456586417, 0.13378074456586417, 0.26756148913172834, 0.13378074456586417, 0.13378074456586417, 0.9863150047748517, 0.08033793523860418, 0.20084483809651044, 0.08033793523860418, 0.16067587047720835, 0.4016896761930209, 0.04016896761930209, 0.04016896761930209, 0.744764463358919, 0.7167941332755303, 0.7469385739041646, 0.9863496318652732, 0.9618591183873394, 0.9654798077380546, 0.7469185600379271, 0.12585076530699454, 0.2517015306139891, 0.12585076530699454, 0.12585076530699454, 0.5034030612279782, 0.042756075759615736, 0.2565364545576944, 0.08551215151923147, 0.042756075759615736, 0.2565364545576944, 0.21378037879807868, 0.042756075759615736, 0.042756075759615736, 0.21499898357861824, 0.10749949178930912, 0.21499898357861824, 0.32249847536792736, 0.10749949178930912, 0.09086527584331609, 0.09086527584331609, 0.27259582752994826, 0.18173055168663219, 0.27259582752994826, 0.08367787649775062, 0.16735575299550123, 0.08367787649775062, 0.33471150599100247, 0.25103362949325186, 0.7167999186887862, 0.8162171874608571, 0.7003433324609103, 0.38478276416833, 0.36927124316040866, 0.36927124316040866, 0.43678828055302993, 0.21839414027651496, 0.21839414027651496, 0.7579960132244762, 0.7595490013073174, 0.8784268587900016, 0.8784329656842258], \"Term\": [\"\", \"\", \"\", \"\", \"\", \"\", \"\\\"\\\"special\", \"(eu)\", \"(has\", \"(isle\", \"(officially\", \"(the\", \"1001\", \"13\", \"13\", \"1962\", \"2004\", \"322\", \"60th\", \"70\", \"70th\", \"aden\", \"africa\", \"africa\", \"africa\", \"africa\", \"africa\", \"africa\", \"africa\", \"agal\\u00a8\\u00a6ga\", \"algeria\", \"along\", \"also\", \"also\", \"also\", \"also\", \"america\", \"america\", \"america\", \"america\", \"america\", \"ancient\", \"andorra\", \"andorra\", \"arab\", \"area\", \"area\", \"area\", \"area\", \"area\", \"argentina\", \"artsakh\", \"asia\", \"asia\", \"asia\", \"asia\", \"asia\", \"asia\", \"asia\", \"asia[8][9][10]\", \"asian\", \"austria\", \"austria\", \"austria\", \"azerbaijan\", \"azerbaijan\", \"bahamas\", \"balkan\", \"balkan\", \"barbados\", \"belarus\", \"belarus\", \"belarus\", \"belgium\", \"belgium\", \"bigger\", \"black\", \"black\", \"black\", \"bolivia\", \"border\", \"border\", \"border\", \"border\", \"border\", \"border\", \"border\", \"border\", \"borneo\", \"brazil\", \"brazil\", \"brunei\", \"budapest\", \"bulgaria\", \"call\", \"call\", \"call\", \"cambodia\", \"cambodia\", \"cambodia\", \"cameroon\", \"capital\", \"capital\", \"capital\", \"capital\", \"capital\", \"capital\", \"capital\", \"carpathian\", \"caspian\", \"caucasus\", \"central\", \"central\", \"central\", \"central\", \"central\", \"chad\", \"channel\", \"channel\", \"chile\", \"chile\", \"china\", \"china\", \"china\", \"china\", \"circle\", \"city\", \"city\", \"city\", \"city\", \"city\", \"city\", \"city-state\", \"coast\", \"coast\", \"coast\", \"coast\", \"coast\", \"coast)\", \"coastline\", \"colombia\", \"colombia\", \"commonwealth\", \"community\", \"completely\", \"congo\", \"congo\", \"congo\", \"congo\", \"consider\", \"continent\", \"continent\", \"continent\", \"continent\", \"country\", \"country\", \"country\", \"country\", \"country\", \"country\", \"country\", \"country\", \"country[4]\", \"croatia\", \"crossroads\", \"cuba\", \"cuba\", \"culture\", \"cyprus\", \"danube\", \"danube\", \"democratic\", \"denmark\", \"denmark\", \"desert\", \"divide\", \"divide\", \"djibouti\", \"djibouti\", \"djibouti)\", \"dominica\", \"east\", \"east\", \"east\", \"east\", \"east\", \"east\", \"east\", \"easter\", \"eastern\", \"eastern\", \"eastern\", \"eastern\", \"economic\", \"ecuador\", \"ecuador\", \"egypt\", \"egypt\", \"elect\", \"empire\", \"england\", \"england\", \"equator\", \"eritrea\", \"estonia\", \"estonia\", \"eswatini\", \"ethiopia\", \"ethiopia\", \"ethiopia\", \"europe\", \"europe\", \"europe\", \"europe\", \"europe\", \"europe\", \"europe\", \"europe\", \"europe[9]\", \"european\", \"european\", \"european\", \"european\", \"european\", \"european\", \"facto\", \"famous\", \"federation\", \"federation\", \"fennoscandia\", \"fern\\u00a8\\u00a2ndez\", \"fiji\", \"finding\", \"finland\", \"formally\", \"france\", \"france\", \"furthest\", \"gabon\", \"gabonese\", \"gambia\", \"georgia\", \"georgia\", \"germany\", \"germany\", \"germany\", \"ghana\", \"gold\", \"greece\", \"greece\", \"greenland\", \"group\", \"guardafui\", \"guatemala\", \"guatemala\", \"guatemala\", \"guinea\", \"guinea\", \"guinea\", \"guinea\", \"harare\", \"historically\", \"hungarian\", \"hungary\", \"hungary\", \"hungary\", \"hungary\", \"hungary's\", \"iceland\", \"important\", \"inca\", \"include\", \"include\", \"include\", \"include\", \"india\", \"india\", \"india\", \"indonesia\", \"indonesia\", \"influence\", \"inhabitant\", \"interest\", \"interior\", \"iran\", \"iran\", \"iran\", \"iran\", \"iraq\", \"ireland\", \"ireland\", \"ireland\", \"isla\", \"islamic\", \"island\", \"island\", \"island\", \"island\", \"island\", \"island\", \"island\", \"island)\", \"islands\\\"\", \"israel\", \"israel\", \"italian\", \"italian\", \"italian\", \"italy\", \"italy\", \"italy\", \"italy\", \"japan\", \"japan\", \"jordan\", \"juan\", \"juventud\", \"kaliningrad\", \"kampala\", \"kampuchea\", \"kazakhstan\", \"kazakhstan\", \"kazakhstan\", \"kenya\", \"kenya\", \"kilometer\", \"kilometer\", \"kilometre\", \"kilometre\", \"kilometre\", \"kilometre\", \"kingdom\", \"kingdom\", \"kingdom\", \"kirghizia\", \"know\", \"know\", \"know\", \"know\", \"know\", \"korea\", \"korea\", \"kosovo\", \"kuwait\", \"kuwait\", \"kyrgyz\", \"kyrgyzstan\", \"la\", \"lake\", \"lake\", \"lake\", \"land\", \"land\", \"land\", \"land\", \"landlocked\", \"landlocked\", \"landlocked\", \"landlocked\", \"language\", \"language\", \"language\", \"laos\", \"laos\", \"laos\", \"large\", \"large\", \"large\", \"large\", \"large\", \"larger\", \"latitude\", \"lebanon\", \"lebanon\", \"lengthy\", \"levu\", \"libya\", \"lie\", \"lie\", \"lie\", \"locate\", \"locate\", \"locate\", \"locate\", \"locate\", \"lock\", \"lower\", \"luxembourg\", \"macedonia\", \"maghreb\", \"mainland\", \"mainland\", \"mainland\", \"mainland\", \"make\", \"make\", \"make\", \"malacca\", \"malawi\", \"malay\", \"malaysia\", \"malaysia\", \"malaysia\", \"maldives\", \"malta\", \"many\", \"many\", \"many\", \"many\", \"mascarene\", \"mauritius\", \"mediterranean\", \"mediterranean\", \"mediterranean\", \"mediterranean\", \"mediterranean\", \"mediterranean;\", \"member\", \"member\", \"member\", \"member\", \"mexico\", \"mexico\", \"middle\", \"middle\", \"middle\", \"middle\", \"middle\", \"million\", \"million\", \"million\", \"million\", \"million\", \"million\", \"mix\", \"moldova\", \"mongolia\", \"monument\", \"morocco\", \"mozambique\", \"name\", \"name\", \"name\", \"name\", \"name\", \"national\", \"new\", \"new\", \"new\", \"new\", \"new\", \"new\", \"newzealand\", \"niger\", \"nigeria\", \"north\", \"north\", \"north\", \"north\", \"north\", \"north\", \"north\", \"north\", \"north-west\", \"north-west\", \"northwest\", \"northwest\", \"northwest\", \"norway\", \"norway\", \"nur-sultan\", \"ocean\", \"ocean\", \"ocean\", \"ocean\", \"ocean\", \"ocean\", \"ocean\", \"oder\", \"official\", \"official\", \"official\", \"official\", \"official\", \"official\", \"officially\", \"officially\", \"officially\", \"officially\", \"officially\", \"officially\", \"officially\", \"officially\", \"okhotsk\", \"pacific\", \"pacific\", \"pacific\", \"pacific\", \"pacific\", \"pakistan\", \"pakistan\", \"palestine\", \"paraguay\", \"paraguay\", \"parliamentary\", \"part\", \"part\", \"part\", \"part\", \"part\", \"part\", \"part\", \"part\", \"parts\", \"peninsula\", \"peninsula\", \"peninsula\", \"peninsula\", \"peninsula\", \"peninsula\", \"people\", \"people\", \"people\", \"people\", \"people\", \"people\", \"persia\", \"persian\", \"peru\", \"philippine\", \"philippines\", \"point\", \"poland\", \"poland\", \"poland\", \"poland\", \"populous\", \"populous\", \"populous\", \"populous\", \"portugal\", \"portugal\", \"portugal\", \"power\", \"principality\", \"product\", \"puerto\", \"pyramid\", \"pyrenees\", \"qatar\", \"qatar\", \"rather\", \"region\", \"region\", \"region\", \"region\", \"region\", \"region\", \"region:\", \"republic\", \"republic\", \"republic\", \"republic\", \"republic\", \"republic\", \"republic\", \"republic\", \"rhine\", \"rodrigues\", \"romania\", \"romania\", \"romania\", \"rugged\", \"rule\", \"russia\", \"russia\", \"russia\", \"russia\", \"russia\", \"russia\", \"russia\", \"samoa\", \"scandinavian\", \"sea\", \"sea\", \"sea\", \"sea\", \"sea\", \"sea\", \"sea\", \"sea\", \"self-proclaimed\", \"sierra\", \"simply\", \"singapore\", \"size\", \"slovakia\", \"slovakia\", \"slovakia\", \"slovakia\", \"small\", \"small\", \"small\", \"small\", \"small\", \"smaller\", \"smaller\", \"smaller\", \"smaller\", \"somali\", \"somalia\", \"south\", \"south\", \"south\", \"south\", \"south\", \"south\", \"south\", \"south\", \"south-eastern\", \"south-west\", \"south-west\", \"south-western\", \"southeast\", \"southeast\", \"southeast\", \"southeast\", \"southeast\", \"southeast\", \"southern\", \"southern\", \"southern\", \"southern\", \"southern\", \"southwest\", \"southwest\", \"southwest\", \"southwestern\", \"sovereign\", \"sovereign\", \"sovereign\", \"sovereign\", \"sovereign\", \"sovereign\", \"spain\", \"spain\", \"spain\", \"spain\", \"spain\", \"sphinx\", \"square\", \"square\", \"square\", \"square\", \"square\", \"square\", \"st\", \"state\", \"state\", \"state\", \"state\", \"state\", \"state\", \"state\", \"state\", \"straits\", \"stretch\", \"sudan\", \"surround\", \"surround\", \"sweden\", \"sweden\", \"syria\", \"syria\", \"syrian\", \"tajikistan\", \"tajikistan\", \"tanzania\", \"tanzania\", \"temperate\", \"territories\\\"\\\"\", \"territory\", \"territory\", \"territory\", \"territory\", \"territory\", \"territory\", \"thailand\", \"thailand\", \"thailand\", \"third-largest\", \"thousand\", \"tract\", \"transnistria\", \"tunis\", \"tunisia\", \"tunisia\", \"turkey\", \"turkey\", \"turkmenistan\", \"two\", \"two\", \"two\", \"uganda\", \"ukraine\", \"ukraine\", \"ukraine\", \"ukraine\", \"unasul[h]\", \"union\", \"union\", \"union\", \"union\", \"union\", \"union\", \"unitary\", \"unite\", \"unite\", \"unite\", \"unite\", \"unite\", \"unite\", \"unite\", \"uzbekistan\", \"valpara\\u00a8\\u00aaso\", \"vanua\", \"vary\", \"vatican\", \"venezuela\", \"viti\", \"war\", \"war\", \"war\", \"war\", \"war\", \"west\", \"west\", \"west\", \"west\", \"west\", \"west\", \"west\", \"west\", \"western\", \"western\", \"western\", \"western\", \"western\", \"world\", \"world\", \"world\", \"world\", \"world\", \"world's\", \"world's\", \"world's\", \"world's\", \"world's\", \"yemen\", \"youth)\", \"zambia\", \"zealand\", \"zimbabwe\", \"zimbabwe\", \"\\u00a3\\u00ac000\", \"\\u00a3\\u00ac000\", \"\\u00a3\\u00ac000\", \"\\u00a3\\u00ac569\", \"\\u00a3\\u00ac904\", \"\\u00a3\\u00ac[a]\", \"\\u00a3\\u00ac[b][18]\"]}, \"R\": 30, \"lambda.step\": 0.01, \"plot.opts\": {\"xlab\": \"PC1\", \"ylab\": \"PC2\"}, \"topic.order\": [1, 2, 3, 4, 5, 6, 7, 8]};\n",
       "\n",
       "function LDAvis_load_lib(url, callback){\n",
       "  var s = document.createElement('script');\n",
       "  s.src = url;\n",
       "  s.async = true;\n",
       "  s.onreadystatechange = s.onload = callback;\n",
       "  s.onerror = function(){console.warn(\"failed to load library \" + url);};\n",
       "  document.getElementsByTagName(\"head\")[0].appendChild(s);\n",
       "}\n",
       "\n",
       "if(typeof(LDAvis) !== \"undefined\"){\n",
       "   // already loaded: just create the visualization\n",
       "   !function(LDAvis){\n",
       "       new LDAvis(\"#\" + \"ldavis_el1090014486394421603666250061\", ldavis_el1090014486394421603666250061_data);\n",
       "   }(LDAvis);\n",
       "}else if(typeof define === \"function\" && define.amd){\n",
       "   // require.js is available: use it to load d3/LDAvis\n",
       "   require.config({paths: {d3: \"https://d3js.org/d3.v5\"}});\n",
       "   require([\"d3\"], function(d3){\n",
       "      window.d3 = d3;\n",
       "      LDAvis_load_lib(\"https://cdn.jsdelivr.net/gh/bmabey/pyLDAvis@3.3.1/pyLDAvis/js/ldavis.v3.0.0.js\", function(){\n",
       "        new LDAvis(\"#\" + \"ldavis_el1090014486394421603666250061\", ldavis_el1090014486394421603666250061_data);\n",
       "      });\n",
       "    });\n",
       "}else{\n",
       "    // require.js not available: dynamically load d3 & LDAvis\n",
       "    LDAvis_load_lib(\"https://d3js.org/d3.v5.js\", function(){\n",
       "         LDAvis_load_lib(\"https://cdn.jsdelivr.net/gh/bmabey/pyLDAvis@3.3.1/pyLDAvis/js/ldavis.v3.0.0.js\", function(){\n",
       "                 new LDAvis(\"#\" + \"ldavis_el1090014486394421603666250061\", ldavis_el1090014486394421603666250061_data);\n",
       "            })\n",
       "         });\n",
       "}\n",
       "</script>"
      ],
      "text/plain": [
       "<IPython.core.display.HTML object>"
      ]
     },
     "execution_count": 38,
     "metadata": {},
     "output_type": "execute_result"
    }
   ],
   "source": [
    "#If your Panda version is behind the version 1.2, please update to version 1.2\n",
    "!pip install --upgrade pandas==1.2\n",
    "\n",
    "lda_display = pyLDAvis.gensim_models.prepare(ldamodel, corpus_, dictionary, sort_topics=False)\n",
    "pyLDAvis.display(lda_display)"
   ]
  }
 ],
 "metadata": {
  "colab": {
   "name": "LDA_EN.ipynb",
   "provenance": []
  },
  "kernelspec": {
   "display_name": "Python 3",
   "language": "python",
   "name": "python3"
  },
  "language_info": {
   "codemirror_mode": {
    "name": "ipython",
    "version": 3
   },
   "file_extension": ".py",
   "mimetype": "text/x-python",
   "name": "python",
   "nbconvert_exporter": "python",
   "pygments_lexer": "ipython3",
   "version": "3.8.6"
  }
 },
 "nbformat": 4,
 "nbformat_minor": 1
}
