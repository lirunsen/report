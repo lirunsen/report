{
 "cells": [
  {
   "cell_type": "markdown",
   "metadata": {
    "id": "NyyHgWiHMCeI"
   },
   "source": [
    "# NLTK Corpus Analysis with Gensim's LDA Model "
   ]
  },
  {
   "cell_type": "markdown",
   "metadata": {
    "id": "U4k7IBGTN0yE"
   },
   "source": [
    "## Preparation\n",
    "First of all, we need to import necessary libraries (with pip command)."
   ]
  },
  {
   "cell_type": "code",
   "execution_count": 2,
   "metadata": {
    "colab": {
     "base_uri": "https://localhost:8080/",
     "height": 1000
    },
    "id": "b_V4GY1vBSq6",
    "outputId": "02db6859-33bc-4810-b047-e05126879f88"
   },
   "outputs": [
    {
     "name": "stdout",
     "output_type": "stream",
     "text": [
      "Requirement already satisfied: nltk in c:\\users\\administrator\\appdata\\local\\programs\\python\\python38\\lib\\site-packages (3.6.2)\n",
      "Requirement already satisfied: joblib in c:\\users\\administrator\\appdata\\local\\programs\\python\\python38\\lib\\site-packages (from nltk) (1.0.1)\n",
      "Requirement already satisfied: regex in c:\\users\\administrator\\appdata\\local\\programs\\python\\python38\\lib\\site-packages (from nltk) (2021.4.4)\n",
      "Requirement already satisfied: tqdm in c:\\users\\administrator\\appdata\\local\\programs\\python\\python38\\lib\\site-packages (from nltk) (4.60.0)"
     ]
    },
    {
     "name": "stderr",
     "output_type": "stream",
     "text": [
      "WARNING: You are using pip version 21.0.1; however, version 21.1.1 is available.\n",
      "You should consider upgrading via the 'c:\\users\\administrator\\appdata\\local\\programs\\python\\python38\\python.exe -m pip install --upgrade pip' command.\n"
     ]
    },
    {
     "name": "stdout",
     "output_type": "stream",
     "text": [
      "\n",
      "Requirement already satisfied: click in c:\\users\\administrator\\appdata\\local\\programs\\python\\python38\\lib\\site-packages (from nltk) (8.0.0)\n",
      "Requirement already satisfied: colorama in c:\\users\\administrator\\appdata\\roaming\\python\\python38\\site-packages (from click->nltk) (0.4.4)\n",
      "Requirement already satisfied: gensim in c:\\users\\administrator\\appdata\\local\\programs\\python\\python38\\lib\\site-packages (4.0.1)\n",
      "Requirement already satisfied: Cython==0.29.21 in c:\\users\\administrator\\appdata\\local\\programs\\python\\python38\\lib\\site-packages (from gensim) (0.29.21)\n",
      "Requirement already satisfied: scipy>=0.18.1 in c:\\users\\administrator\\appdata\\local\\programs\\python\\python38\\lib\\site-packages (from gensim) (1.6.2)\n",
      "Requirement already satisfied: smart-open>=1.8.1 in c:\\users\\administrator\\appdata\\local\\programs\\python\\python38\\lib\\site-packages (from gensim) (5.0.0)\n",
      "Requirement already satisfied: numpy>=1.11.3 in c:\\users\\administrator\\appdata\\local\\programs\\python\\python38\\lib\\site-packages (from gensim) (1.20.3)\n"
     ]
    },
    {
     "name": "stderr",
     "output_type": "stream",
     "text": [
      "WARNING: You are using pip version 21.0.1; however, version 21.1.1 is available.\n",
      "You should consider upgrading via the 'c:\\users\\administrator\\appdata\\local\\programs\\python\\python38\\python.exe -m pip install --upgrade pip' command.\n"
     ]
    },
    {
     "name": "stdout",
     "output_type": "stream",
     "text": [
      "Requirement already satisfied: pyLDAvis in c:\\users\\administrator\\appdata\\local\\programs\\python\\python38\\lib\\site-packages (3.3.1)\n",
      "Requirement already satisfied: scipy in c:\\users\\administrator\\appdata\\local\\programs\\python\\python38\\lib\\site-packages (from pyLDAvis) (1.6.2)\n",
      "Requirement already satisfied: numexpr in c:\\users\\administrator\\appdata\\local\\programs\\python\\python38\\lib\\site-packages (from pyLDAvis) (2.7.3)\n",
      "Requirement already satisfied: jinja2 in c:\\users\\administrator\\appdata\\local\\programs\\python\\python38\\lib\\site-packages (from pyLDAvis) (2.11.3)\n",
      "Requirement already satisfied: sklearn in c:\\users\\administrator\\appdata\\local\\programs\\python\\python38\\lib\\site-packages (from pyLDAvis) (0.0)\n",
      "Requirement already satisfied: future in c:\\users\\administrator\\appdata\\local\\programs\\python\\python38\\lib\\site-packages (from pyLDAvis) (0.18.2)\n",
      "Requirement already satisfied: funcy in c:\\users\\administrator\\appdata\\local\\programs\\python\\python38\\lib\\site-packages (from pyLDAvis) (1.16)\n",
      "Requirement already satisfied: setuptools in c:\\users\\administrator\\appdata\\local\\programs\\python\\python38\\lib\\site-packages (from pyLDAvis) (56.0.0)\n",
      "Requirement already satisfied: numpy>=1.20.0 in c:\\users\\administrator\\appdata\\local\\programs\\python\\python38\\lib\\site-packages (from pyLDAvis) (1.20.3)\n",
      "Requirement already satisfied: gensim in c:\\users\\administrator\\appdata\\local\\programs\\python\\python38\\lib\\site-packages (from pyLDAvis) (4.0.1)\n",
      "Requirement already satisfied: pandas>=1.2.0 in c:\\users\\administrator\\appdata\\local\\programs\\python\\python38\\lib\\site-packages (from pyLDAvis) (1.2.0)\n",
      "Requirement already satisfied: joblib in c:\\users\\administrator\\appdata\\local\\programs\\python\\python38\\lib\\site-packages (from pyLDAvis) (1.0.1)\n",
      "Requirement already satisfied: scikit-learn in c:\\users\\administrator\\appdata\\local\\programs\\python\\python38\\lib\\site-packages (from pyLDAvis) (0.24.1)\n",
      "Requirement already satisfied: pytz>=2017.3 in c:\\users\\administrator\\appdata\\local\\programs\\python\\python38\\lib\\site-packages (from pandas>=1.2.0->pyLDAvis) (2021.1)\n",
      "Requirement already satisfied: python-dateutil>=2.7.3 in c:\\users\\administrator\\appdata\\local\\programs\\python\\python38\\lib\\site-packages (from pandas>=1.2.0->pyLDAvis) (2.8.1)\n",
      "Requirement already satisfied: six>=1.5 in c:\\users\\administrator\\appdata\\roaming\\python\\python38\\site-packages (from python-dateutil>=2.7.3->pandas>=1.2.0->pyLDAvis) (1.15.0)\n",
      "Requirement already satisfied: smart-open>=1.8.1 in c:\\users\\administrator\\appdata\\local\\programs\\python\\python38\\lib\\site-packages (from gensim->pyLDAvis) (5.0.0)\n",
      "Requirement already satisfied: Cython==0.29.21 in c:\\users\\administrator\\appdata\\local\\programs\\python\\python38\\lib\\site-packages (from gensim->pyLDAvis) (0.29.21)\n",
      "Requirement already satisfied: MarkupSafe>=0.23 in c:\\users\\administrator\\appdata\\local\\programs\\python\\python38\\lib\\site-packages (from jinja2->pyLDAvis) (1.1.1)\n",
      "Requirement already satisfied: threadpoolctl>=2.0.0 in c:\\users\\administrator\\appdata\\local\\programs\\python\\python38\\lib\\site-packages (from scikit-learn->pyLDAvis) (2.1.0)\n"
     ]
    },
    {
     "name": "stderr",
     "output_type": "stream",
     "text": [
      "WARNING: You are using pip version 21.0.1; however, version 21.1.1 is available.\n",
      "You should consider upgrading via the 'c:\\users\\administrator\\appdata\\local\\programs\\python\\python38\\python.exe -m pip install --upgrade pip' command.\n"
     ]
    }
   ],
   "source": [
    "!pip install nltk\n",
    "!pip install gensim\n",
    "!pip install pyLDAvis"
   ]
  },
  {
   "cell_type": "code",
   "execution_count": 3,
   "metadata": {
    "colab": {
     "base_uri": "https://localhost:8080/"
    },
    "id": "oAE0HUrXQ0Ly",
    "outputId": "aecc505d-8ba3-4ca2-94a9-071506494319"
   },
   "outputs": [
    {
     "name": "stderr",
     "output_type": "stream",
     "text": [
      "[nltk_data] Downloading package stopwords to\n",
      "[nltk_data]     C:\\Users\\Administrator\\AppData\\Roaming\\nltk_data...\n",
      "[nltk_data]   Package stopwords is already up-to-date!\n",
      "[nltk_data] Downloading package wordnet to\n",
      "[nltk_data]     C:\\Users\\Administrator\\AppData\\Roaming\\nltk_data...\n",
      "[nltk_data]   Package wordnet is already up-to-date!\n",
      "[nltk_data] Downloading package punkt to\n",
      "[nltk_data]     C:\\Users\\Administrator\\AppData\\Roaming\\nltk_data...\n",
      "[nltk_data]   Package punkt is already up-to-date!\n"
     ]
    },
    {
     "data": {
      "text/plain": [
       "True"
      ]
     },
     "execution_count": 3,
     "metadata": {},
     "output_type": "execute_result"
    }
   ],
   "source": [
    "import nltk\n",
    "nltk.download(\"stopwords\")\n",
    "nltk.download(\"wordnet\")\n",
    "nltk.download(\"punkt\")"
   ]
  },
  {
   "cell_type": "markdown",
   "metadata": {
    "id": "54jPC3VDV1u6"
   },
   "source": [
    "## Datasets\n",
    "The dataset used in this project is a group of 101 documents which comes from Wikipedia."
   ]
  },
  {
   "cell_type": "code",
   "execution_count": 4,
   "metadata": {
    "colab": {
     "base_uri": "https://localhost:8080/"
    },
    "id": "DvcLk_jWgeI8",
    "outputId": "abf36a7f-fcf5-440c-bec7-e9dd5b00e160"
   },
   "outputs": [
    {
     "name": "stdout",
     "output_type": "stream",
     "text": [
      "['Japan', ',', 'Japan', 'is', 'an', 'island', 'country', 'in', 'East', 'Asia', 'Located', 'in', 'the', 'Pacific', 'Ocean', '£¬', 'it', 'lies', 'off', 'the', 'eastern', 'coast', 'of', 'the', 'Asian', 'continent', 'and', 'stretches', 'from', 'the', 'Sea', 'of', 'Okhotsk', 'in', 'the', 'north', 'to', 'the', 'East', 'China', 'Sea', 'and', 'the', 'Philippine', 'Sea', 'in', 'the', 'south', '']\n",
      "num of docs: 101\n"
     ]
    }
   ],
   "source": [
    "def loadDataset():\n",
    "    '''导入文本数据集'''\n",
    "    f = open('data4.csv','r',encoding='unicode_escape')\n",
    "    dataset = []\n",
    "    for line in f.readlines():\n",
    "        dataset.append(list(line.strip('\\n').split(' ')))\n",
    "    f.close()\n",
    "    return dataset\n",
    "docs = loadDataset()\n",
    "print(docs[0])\n",
    "print(\"num of docs:\", len(docs))"
   ]
  },
  {
   "cell_type": "markdown",
   "metadata": {
    "id": "QpSrSF8Wi28F"
   },
   "source": [
    "## Data preprocessing"
   ]
  },
  {
   "cell_type": "code",
   "execution_count": 5,
   "metadata": {
    "id": "Y_UwWcRAidvN"
   },
   "outputs": [],
   "source": [
    "en_stop = nltk.corpus.stopwords.words('english')\n",
    "\n",
    "en_stop = [\"``\",\"/\",\",.\",\".,\",\";\",\"--\",\":\",\")\",\"(\",'\"','&',\"'\",'),',',\"','-','.,','.,\"','.-',\"?\",\">\",\"<\"]                  \\\n",
    "         +[\"0\",\"1\",\"2\",\"3\",\"4\",\"5\",\"6\",\"7\",\"8\",\"9\",\"10\",\"11\",\"12\",\"86\",\"1986\",\"1987\",\"000\"]                                                      \\\n",
    "         +[\"said\",\"say\",\"u\",\"v\",\"mln\",\"ct\",\"net\",\"dlrs\",\"tonne\",\"pct\",\"shr\",\"nil\",\"company\",\"lt\",\"share\",\"year\",\"billion\",\"price\"]          \\\n",
    "         +en_stop"
   ]
  },
  {
   "cell_type": "code",
   "execution_count": 6,
   "metadata": {
    "id": "NZo1muSJm-4w"
   },
   "outputs": [],
   "source": [
    "from nltk.corpus import wordnet as wn \n",
    "\n",
    "def preprocess_word(word, stopwordset):\n",
    "    \n",
    "    word=word.lower()\n",
    "    \n",
    "    if word in [\",\",\".\",\"£¬\"]:\n",
    "        return None\n",
    "    \n",
    "    if word in stopwordset:\n",
    "        return None\n",
    "    \n",
    "    lemma = wn.morphy(word)\n",
    "    if lemma is None:\n",
    "        return word\n",
    "\n",
    "    elif lemma in stopwordset: \n",
    "        return None\n",
    "    else:\n",
    "        return lemma\n",
    "    \n",
    "def preprocess_document(document):\n",
    "    document=[preprocess_word(w, en_stop) for w in document]\n",
    "    document=[w for w in document if w is not None]\n",
    "    return document\n",
    "\n",
    "def preprocess_documents(documents):\n",
    "    return [preprocess_document(document) for document in documents]"
   ]
  },
  {
   "cell_type": "code",
   "execution_count": 7,
   "metadata": {
    "colab": {
     "base_uri": "https://localhost:8080/"
    },
    "id": "x_JATbtL5ptG",
    "outputId": "392fe59f-ef69-424d-ecdc-21608dcdbf6f"
   },
   "outputs": [
    {
     "name": "stdout",
     "output_type": "stream",
     "text": [
      "['Japan', ',', 'Japan', 'is', 'an', 'island', 'country', 'in', 'East', 'Asia', 'Located', 'in', 'the', 'Pacific', 'Ocean', '£¬', 'it', 'lies', 'off', 'the', 'eastern', 'coast', 'of', 'the', 'Asian']\n",
      "['japan', 'japan', 'island', 'country', 'east', 'asia', 'locate', 'pacific', 'ocean', 'lie', 'eastern', 'coast', 'asian', 'continent', 'stretch', 'sea', 'okhotsk', 'north', 'east', 'china', 'sea', 'philippine', 'sea', 'south', '']\n"
     ]
    }
   ],
   "source": [
    "# before\n",
    "print(docs[0][:25]) \n",
    "\n",
    "# after\n",
    "print(preprocess_documents(docs)[0][:25])"
   ]
  },
  {
   "cell_type": "code",
   "execution_count": 8,
   "metadata": {
    "id": "tycOho5e580L"
   },
   "outputs": [
    {
     "name": "stderr",
     "output_type": "stream",
     "text": [
      "c:\\users\\administrator\\appdata\\local\\programs\\python\\python38\\lib\\site-packages\\gensim\\similarities\\__init__.py:15: UserWarning: The gensim.similarities.levenshtein submodule is disabled, because the optional Levenshtein package <https://pypi.org/project/python-Levenshtein/> is unavailable. Install Levenhstein (e.g. `pip install python-Levenshtein`) to suppress this warning.\n",
      "  warnings.warn(msg)\n"
     ]
    }
   ],
   "source": [
    "import gensim\n",
    "#to reshape our documents with the available format for the gensim LDA model.\n",
    "from gensim import corpora"
   ]
  },
  {
   "cell_type": "code",
   "execution_count": 9,
   "metadata": {
    "id": "uoGp2okR6MVJ"
   },
   "outputs": [],
   "source": [
    "dictionary = corpora.Dictionary(preprocess_documents(docs))\n",
    "\n",
    "corpus_ = [dictionary.doc2bow(doc) for doc in preprocess_documents(docs)]"
   ]
  },
  {
   "cell_type": "code",
   "execution_count": 10,
   "metadata": {
    "colab": {
     "base_uri": "https://localhost:8080/"
    },
    "id": "lIcDqzWY9eqj",
    "outputId": "4bd39321-d6c3-4a45-8703-297d484655a9"
   },
   "outputs": [
    {
     "name": "stdout",
     "output_type": "stream",
     "text": [
      "{'': 0, 'asia': 1, 'asian': 2, 'china': 3, 'coast': 4, 'continent': 5, 'country': 6, 'east': 7, 'eastern': 8, 'island': 9, 'japan': 10, 'lie': 11, 'locate': 12, 'north': 13, 'ocean': 14, 'okhotsk': 15, 'pacific': 16, 'philippine': 17, 'sea': 18, 'south': 19, 'stretch': 20, '(101': 21, '(98': 22, '(oas)': 23, '(us': 24, '(usa)': 25, '16th': 26, '17': 27, '1775': 28, '1776': 29, '1783': 30, '1788': 31, '1791': 32, '1848[24]': 33, '1964': 34, '1965': 35, '1968': 36, '1969': 37, '1991': 38, '19th': 39, '31%': 40, '327': 41, '38': 42, '39': 43, '43%': 44, '50': 45, 'abolition': 46, 'accounting': 47, 'acquiring': 48, 'across': 49, 'act': 50, 'activity': 51, 'admit': 52, 'adopt': 53, 'ago[22]': 54, 'alaska': 55, 'along': 56, 'although': 57, 'amendment': 58, 'america': 59, 'american': 60, 'approximately': 61, 'archipelago': 62, 'area[d]': 63, 'average': 64, 'bank': 65, 'base': 66, 'become': 67, 'begin': 68, 'bering': 69, 'bill': 70, 'border': 71, 'britain': 72, 'british': 73, 'canada': 74, 'capital': 75, \"capital's\": 76, 'caput': 77, 'caribbean': 78, 'century': 79, 'characterize': 80, 'city': 81, 'civil': 82, 'climate': 83, 'cold': 84, 'collapse': 85, 'collectively': 86, 'colonization': 87, 'colony': 88, 'color': 89, 'commonly': 90, 'compete': 91, 'comprise': 92, 'concentrate': 93, 'confirm': 94, 'constitution': 95, 'contiguous': 96, 'continue': 97, 'corner': 98, 'council': 99, 'countries[21]': 100, \"country's\": 101, 'country[35]': 102, 'culminate': 103, 'cultural': 104, 'current': 105, 'dc': 106, 'declaration': 107, 'democracy': 108, 'despite': 109, 'develop': 110, 'development': 111, 'discrimination': 112, 'disparity': 113, 'displace': 114, 'dispute': 115, 'district': 116, 'diverse': 117, 'dominance': 118, 'drive': 119, 'economy': 120, 'embark': 121, 'emerge': 122, 'end': 123, 'entire': 124, 'establish': 125, \"europe's\": 126, 'european': 127, 'expansion': 128, 'exporter': 129, 'extend': 130, 'extremely': 131, 'fair': 132, 'federal': 133, 'federation': 134, 'first': 135, 'five': 136, 'following': 137, 'force': 138, 'foremost': 139, 'forty-eight': 140, 'founding': 141, 'fourth': 142, 'french': 143, 'fund': 144, 'fundamental': 145, 'gain': 146, 'gdp': 147, 'gdp[30]': 148, 'geography': 149, 'global': 150, 'good': 151, 'gradually': 152, 'great': 153, 'guarantee': 154, 'half': 155, 'hawaii': 156, 'high': 157, 'highly': 158, 'hold': 159, 'housing': 160, 'human': 161, 'ii': 162, 'importer': 163, 'include': 164, 'income': 165, 'independence': 166, 'indian': 167, 'industrial': 168, 'international': 169, 'internationally[39]': 170, 'km2)': 171, 'know': 172, 'knowledge-based': 173, 'landing': 174, 'large': 175, 'largely': 176, 'leading': 177, 'least': 178, 'led': 179, 'left': 180, 'legislation': 181, 'liberty': 182, 'mainland': 183, 'major': 184, 'make': 185, 'making': 186, 'manufacturing': 187, 'many': 188, 'measure': 189, 'megadiverse': 190, 'member': 191, 'mexico': 192, 'mid-pacific': 193, 'migrate': 194, 'mile': 195, 'military': 196, 'million': 197, 'monetary': 198, 'moon': 199, 'name': 200, 'nation': 201, 'native': 202, 'new': 203, 'nine': 204, 'nominal': 205, 'northwest': 206, 'notably': 207, 'nuclear': 208, 'numerous': 209, 'official': 210, 'old': 211, 'one': 212, 'organization': 213, 'outlaw': 214, 'paleo-indian': 215, 'part': 216, 'people': 217, 'per': 218, 'performance': 219, 'permanent': 220, 'political': 221, 'population': 222, 'populous': 223, 'possessions[h]': 224, 'post-industrial': 225, 'power': 226, 'power[23]': 227, 'ppp': 228, 'productivity[36][37]': 229, 'quarter': 230, 'race': 231, 'rank': 232, 'ratify': 233, 'remains': 234, 'representative': 235, 'republic': 236, 'revolution': 237, 'right': 238, 'russia': 239, 'scatter': 240, 'scientific': 241, 'second': 242, 'second-largest': 243, 'sector': 244, 'security': 245, 'self-governing': 246, 'services': 247, 'siberia': 248, 'single': 249, 'slavery[25][26]': 250, 'slightly': 251, 'smaller': 252, 'soar[28]': 253, 'socioeconomic': 254, 'sole': 255, 'soviet': 256, 'space': 257, 'span': 258, 'spanishâ\\x80\\x93american': 259, 'spending': 260, 'square': 261, 'state': 262, 'status': 263, 'strait': 264, 'stretching': 265, 'subsequent': 266, 'superpower': 267, 'superpower[29]': 268, 'survive': 269, 'sweeping': 270, 'ten': 271, 'territory': 272, 'third': 273, 'thirteen': 274, 'throughout': 275, 'time': 276, 'total': 277, 'tribe': 278, 'union': 279, 'unite': 280, 'us': 281, 'us)': 282, 'use': 283, 'value[32][33]': 284, 'various': 285, 'vigorous': 286, 'voting': 287, 'wage': 288, 'war': 289, 'warfare': 290, 'washington': 291, 'wealth': 292, 'weapon': 293, 'west': 294, 'wildlife': 295, 'worker': 296, 'world': 297, \"world's\": 298, 'world[31]': 299, 'years': 300, 'york': 301, 'zone': 302, '£¬000': 303, '£¬[24]': 304, '£¬[27]': 305, '£¬[34]': 306, '£¬[38]': 307, '100': 308, 'atlantic': 309, 'celtic': 310, 'channel': 311, 'continental': 312, 'cover': 313, 'england': 314, 'english': 315, 'europe': 316, 'five-eighths': 317, 'irish': 318, 'isle': 319, 'kingdom[5][6][7]': 320, 'land': 321, 'scilly': 322, 'scotland': 323, 'separate': 324, 'southwest': 325, 'wales': 326, 'wight': 327, '(3': 328, '(beijing': 329, '(prc)': 330, '1404': 331, '22': 332, 'administrative': 333, 'area[k][16]': 334, 'around': 335, 'autonomous': 336, 'billion[10]': 337, 'chongqing)': 338, 'communist': 339, 'covering': 340, 'direct-controlled': 341, 'exercise': 342, 'four': 343, 'fourth-largest': 344, 'governed': 345, 'hong': 346, 'jurisdiction': 347, 'kilometer': 348, 'kong': 349, 'macau': 350, 'mi)': 351, 'municipality': 352, 'officially': 353, 'party': 354, \"people's\": 355, 'province': 356, 'region': 357, 'shanghai': 358, 'special': 359, 'sq': 360, 'third-': 361, 'tianjin': 362, '£¬600': 363, '£¬700': 364, 'also': 365, 'arabian': 366, 'area': 367, 'bangladesh': 368, 'bay': 369, 'bengal': 370, 'bhutan': 371, 'bound': 372, 'india': 373, 'myanmar': 374, 'nepal': 375, 'northeast;': 376, 'pakistan': 377, 'second-most': 378, 'seventh-largest': 379, 'southeast': 380, 'west;[f]': 381, '£¬[19][e]': 382, '(east': 383, '1948': 384, 'asia[3]': 385, 'consist': 386, 'distinct': 387, 'divide': 388, 'jeju': 389, 'korea': 390, 'korean': 391, 'minor': 392, 'near': 393, 'northeast': 394, 'peninsula': 395, 'sea)': 396, 'several': 397, 'since': 398, 'sovereign': 399, 'two': 400, 'via': 401, 'alps': 402, 'austria': 403, 'baltic': 404, 'belgium': 405, 'central': 406, 'constance': 407, 'czech': 408, 'denmark': 409, 'france': 410, 'germany': 411, 'lake': 412, 'luxembourg': 413, 'lying': 414, 'netherlands': 415, 'poland': 416, 'rhine': 417, 'switzerland': 418, 'western': 419, '(6': 420, '14679': 421, '2019': 422, '77%': 423, 'asia[13]': 424, 'considerable': 425, 'crimea[8]': 426, \"earth's\": 427, 'federation[12]': 428, 'inhabit': 429, 'kilometre': 430, 'live': 431, 'margin': 432, 'ninth': 433, 'one-eighth': 434, 'russian': 435, 'transcontinental': 436, '£¬100': 437, '£¬125': 438, '£¬200': 439, '£¬612': 440, '£¬[14]': 441, '£¬[15][16][17]': 442, 'andorra': 443, 'guiana': 444, 'italy': 445, 'mediterranean': 446, 'metropolitan': 447, 'overseas': 448, 'spain': 449, 'territories[xiii]': 450, 'whose': 451, 'apennines': 452, 'delimit': 453, 'italian': 454, 'length': 455, 'middle': 456, 'seasonal': 457, 'surround': 458, 'temperate': 459, 'traverse': 460, '£¬[10][11][12][13]': 461, '(32': 462, '208': 463, '85': 464, '[9]': 465, 'brazil': 466, 'federative': 467, 'fifth': 468, 'fifth-largest': 469, 'latin': 470, 'miles)[10]': 471, '(385': 472, '(5': 473, '998': 474, 'arctic': 475, 'bi-national': 476, \"canada's\": 477, 'long': 478, 'miles)': 479, 'northern': 480, 'northward': 481, 'southern': 482, 'three': 483, '£¬525': 484, '£¬891': 485, '(195': 486, '(morocco)[h]': 487, '505': 488, 'africa': 489, 'african': 490, 'alboran': 491, 'archipelagoes:': 492, 'balearic': 493, 'biscay;': 494, 'boundary': 495, 'canary': 496, 'ceuta': 497, 'enclave': 498, 'except': 499, 'gibraltar;': 500, 'iberian': 501, 'kingdom': 502, 'km2': 503, 'melilla': 504, 'mostly': 505, 'physical': 506, 'portugal': 507, 'situate': 508, 'small': 509, 'spain[11][a][b]': 510, 'spanish': 511, '£¬360': 512, '£¬990': 513, 'australia': 514, 'australian': 515, 'commonwealth': 516, 'guinea': 517, 'indonesia': 518, 'neighbour': 519, 'north-east;': 520, 'north;': 521, 'oceania': 522, 'papua': 523, 'sixth-largest': 524, 'solomon': 525, 'south-east': 526, 'tasmania': 527, 'timor': 528, 'vanuatu': 529, 'zealand': 530, '£¬[12]': 531, '(735': 532, '(indonesian:': 533, '14th': 534, '261': 535, '4th': 536, '7th': 537, 'area[12]': 538, 'combine': 539, 'constitutional': 540, 'country[13]': 541, 'elect': 542, 'home': 543, 'java': 544, 'muslim-majority': 545, 'parliament': 546, 'presidential': 547, 'republik': 548, 'seventeen': 549, 'thousand': 550, 'well': 551, '£¬358': 552, '£¬569': 553, '£¬904': 554, '£¬[11]': 555, '(spanish:': 556, 'belize': 557, 'estados': 558, 'guatemala': 559, 'gulf': 560, 'mexican': 561, 'mexicanos[10][11][12][13]': 562, 'ocean;': 563, 'portion': 564, 'sea;': 565, 'states;': 566, 'unidos': 567, 'armenia': 568, 'artsakh': 569, 'azerbaijan': 570, 'caspian': 571, 'caucasus': 572, 'de': 573, 'eurasia': 574, 'facto': 575, 'georgia': 576, 'independent': 577, 'iran': 578, 'next': 579, 'cyprus': 580, 'geographically': 581, 'larger': 582, 'mediterranean;': 583, 'puerto': 584, 'rico': 585, 'sardinia': 586, 'sicily': 587, 'syria': 588, 'third-largest': 589, 'turkey': 590, '(which': 591, 'bridge)': 592, 'connect': 593, 'furthest': 594, 'nordic': 595, 'norway': 596, 'scandinavian': 597, 'south-west': 598, 'sweden': 599, '80%': 600, 'aegean': 601, 'albania': 602, 'bulgaria': 603, 'greece': 604, 'ionian': 605, 'macedonia': 606, 'mount': 607, 'mountainous': 608, 'olympus': 609, 'peak': 610, 'southeastern': 611, 'arabia': 612, 'iraq': 613, 'jordan': 614, 'kuwait': 615, 'north-west': 616, 'saudi': 617, 'southwestern': 618, 'israel': 619, 'side': 620, 'moldova': 621, 'romania': 622, 'ukraine': 623, '(the': 624, 'island)': 625, 'newzealand': 626, 'south-western': 627, 'completely': 628, 'size': 629, 'vatican': 630, 'belarus': 631, 'black': 632, 'hungary': 633, 'north-east': 634, 'self-proclaimed': 635, 'slovakia': 636, 'transnistria': 637, 'tajikistan': 638, 'face': 639, 'lebanon': 640, 'syrian': 641, 'aden': 642, 'djibouti': 643, 'ethiopia': 644, 'guardafui': 645, 'horn': 646, 'kenya': 647, 'somali': 648, 'somalia': 649, 'yemen': 650, 'levant': 651, 'palestine': 652, 'river': 653, 'afghanistan': 654, 'venezuela': 655, 'kosovo': 656, 'partially-recognised': 657, 'landlocked': 658, 'mountain': 659, 'principality': 660, 'pyrenees': 661, 'liechtenstein': 662, 'slovenia': 663, 'bahamas': 664, 'group': 665, 'indie': 666, 'nassau': 667, 'providence': 668, 'barbados': 669, '1994': 670, 'alexander': 671, 'europe[8]': 672, 'latvia': 673, 'lithuania': 674, 'lukashenko': 675, 'minsk': 676, 'president': 677, 'argentina': 678, 'bolivia': 679, 'chile': 680, 'lock': 681, 'paraguay': 682, 'peru': 683, 'balkan': 684, 'danube': 685, 'serbia': 686, 'south-eastern': 687, 'borneo': 688, 'brunei': 689, 'malaysia': 690, 'philippines': 691, 'rather': 692, '13': 693, 'cambodia': 694, 'kampuchea': 695, 'laos': 696, 'thailand': 697, 'vietnam': 698, '\"\"special': 699, 'easter': 700, 'fern¨¢ndez': 701, 'islands\"': 702, 'juan': 703, 'region:': 704, 'territories\"\"': 705, 'unasul[h]': 706, 'valpara¨ªso': 707, 'colombia': 708, 'equatorial': 709, 'km': 710, 'tropical': 711, '£¬141': 712, '£¬748': 713, '15': 714, '1960': 715, 'august': 716, 'brazzaville': 717, 'congo': 718, 'former': 719, 'france;': 720, 'croatia': 721, 'crossroads': 722, 'democratic': 723, 'history': 724, 'influence': 725, 'parliamentary': 726, 'point': 727, 'unitary': 728, 'vary': 729, 'ecuador': 730, 'empire': 731, 'finding': 732, 'gold': 733, 'inca': 734, 'interest': 735, '(290': 736, '70': 737, '751': 738, 'almost': 739, 'another': 740, 'country[4]': 741, 'dominica': 742, 'english-speaking': 743, 'french-speaking': 744, 'guadeloupe': 745, 'main': 746, 'martinique': 747, 'mi': 748, 'portsmouth': 749, 'roseau': 750, 'town': 751, '(officially': 752, 'call': 753, 'djibouti)': 754, 'ancient': 755, 'cairo': 756, 'egypt': 757, 'famous': 758, 'monument': 759, 'pyramid': 760, 'sphinx': 761, 'eritrea': 762, '(estonian:': 763, 'eesti': 764, 'estonia': 765, \"estonia's\": 766, 'finland': 767, 'neighbor': 768, 'tallinn': 769, 'vabariik)': 770, 'eswatini': 771, '\"\"ethiopia\"\"': 772, '1935': 773, '1993\"': 774, 'abyssinia': 775, 'avoid': 776, 'brief': 777, 'burn': 778, 'colonize': 779, 'escape': 780, 'greek': 781, 'invade': 782, 'light': 783, 'lost': 784, 'meaning': 785, 'port': 786, 'red': 787, 'scramble': 788, 'sun': 789, 'take': 790, 'word': 791, '322': 792, 'fiji': 793, 'important': 794, 'levu': 795, 'vanua': 796, 'viti': 797, '60th': 798, '70th': 799, 'fennoscandia': 800, 'latitude': 801, 'accra': 802, 'c': 803, \"d'ivoire\": 804, 'ghana': 805, 'te': 806, 'there;': 807, 'togo': 808, 'twenty-three': 809, '23': 810, 'beauty': 811, 'center': 812, 'colonial': 813, 'crosse': 814, 'culture': 815, 'destination': 816, 'ever-changing': 817, 'language': 818, 'mayan': 819, 'mix': 820, 'natural': 821, 'period': 822, 'popular': 823, 'product': 824, 'range': 825, 'tourist': 826, 'weather': 827, '[4]': 828, 'community': 829, 'countries:': 830, 'economic': 831, 'french[3]': 832, 'guinea-bissau': 833, 'ivory': 834, 'leone': 835, 'liberia': 836, 'mali': 837, 'national': 838, 'senegal': 839, 'sierra': 840, '(43': 841, '(while': 842, '112': 843, 'el': 844, 'honduras': 845, 'salvador': 846, 'speak': 847, 'spoken)': 848, 'tegucigalpa': 849, 'widely': 850, '£¬433': 851, '£¬483': 852, '£¬492': 853, '£¬763': 854, '(eu)': 855, '2004': 856, 'bigger': 857, 'budapest': 858, 'hungarian': 859, \"hungary's\": 860, 'inhabitant': 861, '1001': 862, '301': 863, 'consider': 864, 'culturally': 865, 'formerly': 866, 'greenland': 867, 'iceland': 868, 'possession': 869, 'asia[8][9][10]': 870, 'historically': 871, 'islamic': 872, 'persia': 873, 'turkmenistan': 874, 'distinguish': 875, 'five-sixths': 876, 'ireland': 877, 'order': 878, 'proper': 879, 'sixth': 880, 'sometimes': 881, 'still': 882, '140': 883, '191': 884, 'antilles': 885, 'caribbean;': 886, 'cuba': 887, 'greater': 888, 'hispaniola': 889, 'jamaica': 890, 'hashemite': 891, '\"\"kazakh': 892, '1998': 893, 'almaty': 894, 'astana': 895, 'big': 896, 'kazakhstan': 897, 'march': 898, 'move': 899, 'nazarbayev': 900, 'nur-sultan': 901, 'nursultan': 902, 'republic\"\"': 903, 'socialist': 904, 'time\"': 905, 'halfway': 906, 'victoria': 907, 'angola': 908, 'botswana': 909, 'malawi': 910, 'mozambique': 911, 'namibia': 912, 'tanzania': 913, 'zambia': 914, 'zimbabwe': 915, 'harare': 916, '780': 917, 'tunis': 918, 'tunisia': 919, '£¬[a]': 920, '£¬[b][18]': 921, 'kampala': 922, 'uganda': 923, \"africa's\": 924, 'kiswahili': 925, 'city-state': 926, 'malacca': 927, 'malay': 928, 'singapore': 929, 'straits': 930, '1962': 931, 'samoa': 932, 'arab': 933, 'bahrain': 934, 'emirate': 935, 'maritime': 936, 'nearby': 937, 'northeastern': 938, 'persian': 939, 'qatar': 940, 'rest': 941, 'sharing': 942, '(along': 943, 'exclave': 944, 'kaliningrad': 945, 'lusatian': 946, 'neisse)': 947, 'oder': 948, 'carpathian': 949, 'circle': 950, 'europe[9]': 951, 'lower': 952, 'westernmost': 953, 'touch': 954, 'nigeria': 955, 'coastline': 956, 'desert': 957, 'interior': 958, 'lengthy': 959, 'maghreb': 960, 'morocco': 961, 'rugged': 962, 'simply': 963, 'tract': 964, 'maldives': 965, 'parts': 966, 'algeria': 967, 'chad': 968, 'libya': 969, 'niger': 970, 'sudan': 971, '(has': 972, 'coast)': 973, 'formally': 974, 'kirghizia': 975, 'kyrgyz': 976, 'kyrgyzstan': 977, 'uzbekistan': 978, 'cameroon': 979, 'equator': 980, 'gabon': 981, 'gabonese': 982, 'gambia': 983, '(isle': 984, 'isla': 985, 'juventud': 986, 'la': 987, 'youth)': 988, 'malta': 989, 'valletta': 990, 'agal¨¦ga': 991, 'brandon': 992, 'mascarene': 993, 'mauritius': 994, 'rodrigues': 995, 'rule': 996, 'st': 997, 'mongolia': 998}\n"
     ]
    }
   ],
   "source": [
    "print(dictionary.token2id)"
   ]
  },
  {
   "cell_type": "code",
   "execution_count": 11,
   "metadata": {
    "colab": {
     "base_uri": "https://localhost:8080/"
    },
    "id": "PfjZmBAY_Rky",
    "outputId": "c92b98ed-7606-457f-f1fb-a9ae5ecbec4b"
   },
   "outputs": [
    {
     "name": "stdout",
     "output_type": "stream",
     "text": [
      "[(0, 1), (1, 1), (2, 1), (3, 1), (4, 1), (5, 1), (6, 1), (7, 2), (8, 1), (9, 1)]\n"
     ]
    }
   ],
   "source": [
    "print(corpus_[0][:10]) "
   ]
  },
  {
   "cell_type": "code",
   "execution_count": 12,
   "metadata": {
    "colab": {
     "base_uri": "https://localhost:8080/"
    },
    "id": "jQ6n6jH5WxFX",
    "outputId": "55241cd1-42e7-4f0a-fa78-716bbe495638"
   },
   "outputs": [
    {
     "name": "stdout",
     "output_type": "stream",
     "text": [
      "['japan', ',', 'japan', 'is', 'an', 'island', 'country', 'in', 'east', 'asia', 'located', 'in', 'the', 'pacific', 'ocean', '£¬', 'it', 'lies', 'off', 'the', 'eastern', 'coast', 'of', 'the', 'asian', 'continent', 'and', 'stretches', 'from', 'the', 'sea', 'of', 'okhotsk', 'in', 'the', 'north', 'to', 'the', 'east', 'china', 'sea', 'and', 'the', 'philippine', 'sea', 'in', 'the', 'south', '']\n",
      "[(0, 1), (1, 1), (2, 1), (3, 1), (4, 1), (5, 1), (6, 1), (7, 2), (8, 1), (9, 1), (10, 2), (13, 1), (14, 1), (15, 1), (16, 1), (17, 1), (18, 3), (19, 1)]\n"
     ]
    }
   ],
   "source": [
    "# before\n",
    "print([w.lower() for w in docs[0]])\n",
    "\n",
    "# after\n",
    "print(dictionary.doc2bow([w.lower() for w in docs[0]]))"
   ]
  },
  {
   "cell_type": "markdown",
   "metadata": {
    "id": "GOrrQe5nB84o"
   },
   "source": [
    "## Training"
   ]
  },
  {
   "cell_type": "code",
   "execution_count": 13,
   "metadata": {
    "id": "8M-MoIdKB0UD"
   },
   "outputs": [],
   "source": [
    "ldamodel = gensim.models.ldamodel.LdaModel(corpus=corpus_,\n",
    "                                           num_topics=12,\n",
    "                                           id2word=dictionary,\n",
    "                                           alpha=0.1,                 \n",
    "                                           eta=0.1,                   \n",
    "                                          )"
   ]
  },
  {
   "cell_type": "code",
   "execution_count": 14,
   "metadata": {
    "colab": {
     "base_uri": "https://localhost:8080/"
    },
    "id": "GksWhDmLEmLp",
    "outputId": "7abb2d0d-3f1f-4c48-c4d5-a9ef44db4305"
   },
   "outputs": [
    {
     "name": "stdout",
     "output_type": "stream",
     "text": [
      "(0, '0.021*\"state\" + 0.019*\"island\" + 0.017*\"country\" + 0.011*\"unite\" + 0.010*\"ocean\" + 0.010*\"pacific\" + 0.009*\"independent\" + 0.009*\"larger\" + 0.009*\"levu\" + 0.009*\"fiji\"')\n",
      "(1, '0.041*\"country\" + 0.028*\"south\" + 0.019*\"north\" + 0.017*\"border\" + 0.016*\"republic\" + 0.014*\"officially\" + 0.013*\"sea\" + 0.013*\"brazil\" + 0.012*\"million\" + 0.012*\"america\"')\n",
      "(2, '0.041*\"country\" + 0.019*\"north\" + 0.015*\"west\" + 0.015*\"south\" + 0.015*\"bulgaria\" + 0.014*\"europe\" + 0.013*\"kilometre\" + 0.012*\"island\" + 0.011*\"area\" + 0.011*\"east\"')\n",
      "(3, '0.027*\"state\" + 0.018*\"unite\" + 0.014*\"country\" + 0.012*\"world\\'s\" + 0.012*\"large\" + 0.011*\"guinea\" + 0.008*\"populous\" + 0.006*\"republic\" + 0.006*\"west\" + 0.006*\"million\"')\n",
      "(4, '0.022*\"cambodia\" + 0.017*\"laos\" + 0.017*\"andorra\" + 0.014*\"country\" + 0.013*\"unite\" + 0.012*\"border\" + 0.011*\"landlocked\" + 0.011*\"vietnam\" + 0.011*\"thailand\" + 0.009*\"state\"')\n",
      "(5, '0.047*\"country\" + 0.016*\"republic\" + 0.016*\"island\" + 0.015*\"ireland\" + 0.015*\"north\" + 0.015*\"sea\" + 0.014*\"part\" + 0.014*\"east\" + 0.013*\"south\" + 0.011*\"call\"')\n",
      "(6, '0.025*\"sea\" + 0.023*\"country\" + 0.015*\"island\" + 0.014*\"east\" + 0.014*\"europe\" + 0.014*\"turkey\" + 0.012*\"ocean\" + 0.011*\"japan\" + 0.010*\"south\" + 0.009*\"asia\"')\n",
      "(7, '0.054*\"country\" + 0.023*\"africa\" + 0.019*\"east\" + 0.018*\"island\" + 0.017*\"border\" + 0.016*\"sea\" + 0.014*\"south\" + 0.013*\"north\" + 0.011*\"ocean\" + 0.010*\"west\"')\n",
      "(8, '0.018*\"europe\" + 0.015*\"island\" + 0.012*\"croatia\" + 0.012*\"bahamas\" + 0.010*\"country\" + 0.009*\"state\" + 0.009*\"capital\" + 0.008*\"unite\" + 0.008*\"group\" + 0.008*\"world\"')\n",
      "(9, '0.033*\"country\" + 0.017*\"africa\" + 0.015*\"jordan\" + 0.015*\"egypt\" + 0.014*\"singapore\" + 0.013*\"sea\" + 0.011*\"southern\" + 0.011*\"city\" + 0.011*\"capital\" + 0.010*\"zimbabwe\"')\n",
      "(10, '0.045*\"country\" + 0.011*\"africa\" + 0.011*\"north\" + 0.010*\"border\" + 0.010*\"america\" + 0.009*\"guatemala\" + 0.009*\"island\" + 0.009*\"republic\" + 0.008*\"eritrea\" + 0.008*\"iceland\"')\n",
      "(11, '0.032*\"island\" + 0.027*\"state\" + 0.014*\"unite\" + 0.012*\"thailand\" + 0.012*\"country\" + 0.012*\"belgium\" + 0.010*\"territory\" + 0.008*\"europe\" + 0.008*\"southeast\" + 0.008*\"dominica\"')\n"
     ]
    }
   ],
   "source": [
    "# The top keywords of words for each topic (topic ID, the word generative probability for the topic).\n",
    "\n",
    "topics = ldamodel.print_topics(num_words=10)\n",
    "for topic in topics:\n",
    "    print(topic)"
   ]
  },
  {
   "cell_type": "code",
   "execution_count": 15,
   "metadata": {
    "colab": {
     "base_uri": "https://localhost:8080/"
    },
    "id": "QV-llIYuEvTf",
    "outputId": "01e077a0-19bf-4245-bb4f-8ae71b7b0e17"
   },
   "outputs": [
    {
     "name": "stdout",
     "output_type": "stream",
     "text": [
      "document ID 0:[(0, 0.0031058567), (1, 0.9658345), (2, 0.0031061212), (3, 0.00310608), (4, 0.0031059016), (5, 0.0031059512), (6, 0.0031058923), (7, 0.0031060819), (8, 0.003105763), (9, 0.003105836), (10, 0.0031060376), (11, 0.0031059186)]\n",
      "document ID 1:[(0, 0.0020328918), (1, 0.97763854), (2, 0.0020329729), (3, 0.0020328818), (4, 0.0020327677), (5, 0.0020328502), (6, 0.0020328597), (7, 0.0020329526), (8, 0.0020327345), (9, 0.0020328036), (10, 0.0020329298), (11, 0.0020328441)]\n",
      "document ID 2:[(0, 0.0010082535), (1, 0.0010083921), (2, 0.0010084026), (3, 0.0010082605), (4, 0.0010083106), (5, 0.0010084264), (6, 0.7412564), (7, 0.24866015), (8, 0.0010082618), (9, 0.0010084212), (10, 0.001008387), (11, 0.0010083137)]\n",
      "document ID 3:[(0, 0.0023702204), (1, 0.0023703752), (2, 0.9739272), (3, 0.0023702916), (4, 0.0023700516), (5, 0.0023702474), (6, 0.0023701417), (7, 0.0023705617), (8, 0.0023700318), (9, 0.0023701743), (10, 0.0023701051), (11, 0.0023705687)]\n",
      "document ID 4:[(0, 0.0014454339), (1, 0.0014456926), (2, 0.0014456128), (3, 0.64992857), (4, 0.0014453696), (5, 0.0014454846), (6, 0.0014454924), (7, 0.33561662), (8, 0.001445365), (9, 0.0014453928), (10, 0.0014454304), (11, 0.0014455141)]\n",
      "document ID 5:[(0, 0.0031062404), (1, 0.0031065315), (2, 0.0031062537), (3, 0.0031062774), (4, 0.0031062437), (5, 0.96583056), (6, 0.0031061093), (7, 0.0031064681), (8, 0.0031060989), (9, 0.0031062867), (10, 0.0031065552), (11, 0.003106402)]\n",
      "document ID 6:[(0, 0.0041327467), (1, 0.95453864), (2, 0.004133211), (3, 0.0041326615), (4, 0.0041325497), (5, 0.0041333265), (6, 0.0041327802), (7, 0.0041331323), (8, 0.0041326196), (9, 0.0041326857), (10, 0.004133118), (11, 0.0041325334)]\n",
      "document ID 7:[(0, 0.009804457), (1, 0.009806401), (2, 0.009805293), (3, 0.009804961), (4, 0.009804603), (5, 0.009805), (6, 0.009805032), (7, 0.009805333), (8, 0.009805041), (9, 0.009804744), (10, 0.009804581), (11, 0.8921445)]\n",
      "document ID 8:[(0, 0.9525799), (1, 0.004311078), (2, 0.004311011), (3, 0.004310646), (4, 0.0043105786), (5, 0.004311476), (6, 0.0043112114), (7, 0.0043110643), (8, 0.0043105795), (9, 0.004310818), (10, 0.004310833), (11, 0.004310801)]\n",
      "document ID 9:[(0, 0.00396849), (1, 0.95634353), (2, 0.003968914), (3, 0.0039685024), (4, 0.003968565), (5, 0.003969009), (6, 0.0039687357), (7, 0.0039688926), (8, 0.00396859), (9, 0.0039688866), (10, 0.0039691157), (11, 0.0039688037)]\n"
     ]
    }
   ],
   "source": [
    "# for each document, show the probabilities of topics  [(topic ID, probability)]\n",
    "\n",
    "for n,item in enumerate(corpus_[10:20]):\n",
    "    print(\"document ID \"+str(n)+\":\" ,end=\"\")\n",
    "    print(ldamodel.get_document_topics(item,minimum_probability=0))\n",
    "    \n",
    "    \n"
   ]
  },
  {
   "cell_type": "code",
   "execution_count": 16,
   "metadata": {
    "id": "h2A-Iyb1GuWm"
   },
   "outputs": [],
   "source": [
    "# the name of documents\n",
    "name = [x for x in docs]"
   ]
  },
  {
   "cell_type": "code",
   "execution_count": 18,
   "metadata": {
    "colab": {
     "base_uri": "https://localhost:8080/"
    },
    "id": "InaDZANTIaPr",
    "outputId": "3a6cbace-c9b7-4827-d3bc-04ea6a0e27ef"
   },
   "outputs": [
    {
     "name": "stdout",
     "output_type": "stream",
     "text": [
      "[(5, 0.9704251)]\n",
      "Greece\n",
      "Greece  , Greece £¬ is a country in Southeastern Europe It borders Albania £¬ North Macedonia and Bulgaria to the north £¬ and Turkey to the east The Aegean Sea is to the East and South of mainland Greece £¬ the Ionian Sea is to the West Both are part of the Eastern Mediterranean Sea and have many islands 80% of the country is mountainous £¬ with Mount Olympus being the highest peak\n"
     ]
    }
   ],
   "source": [
    "n=20\n",
    "\n",
    "# nth document's topic distribution\n",
    "print(ldamodel.get_document_topics(corpus_[n]))\n",
    "\n",
    "# we use name of the country as nth document's name\n",
    "print(name[n][0])\n",
    "\n",
    "# show the original document\n",
    "print(\" \".join(docs[n]))"
   ]
  },
  {
   "cell_type": "markdown",
   "metadata": {
    "id": "g0CJNkqCJUkp"
   },
   "source": [
    "## Visualization\n",
    "We can further analyze our result through visualization."
   ]
  },
  {
   "cell_type": "code",
   "execution_count": 19,
   "metadata": {
    "colab": {
     "base_uri": "https://localhost:8080/"
    },
    "id": "MhvfbEGhJSRI",
    "outputId": "911fb636-3544-44da-84aa-c46708d8b5df"
   },
   "outputs": [],
   "source": [
    "import pyLDAvis.gensim_models\n",
    "pyLDAvis.enable_notebook()"
   ]
  },
  {
   "cell_type": "code",
   "execution_count": 20,
   "metadata": {
    "colab": {
     "base_uri": "https://localhost:8080/",
     "height": 799
    },
    "id": "P-5FnEzeJa0P",
    "outputId": "d37af8d3-744a-481e-df4b-81781f550e30"
   },
   "outputs": [
    {
     "name": "stderr",
     "output_type": "stream",
     "text": [
      "c:\\users\\administrator\\appdata\\local\\programs\\python\\python38\\lib\\site-packages\\ipykernel\\ipkernel.py:283: DeprecationWarning: `should_run_async` will not call `transform_cell` automatically in the future. Please pass the result to `transformed_cell` argument and any exception that happen during thetransform in `preprocessing_exc_tuple` in IPython 7.17 and above.\n",
      "  and should_run_async(code)\n",
      "WARNING: You are using pip version 21.0.1; however, version 21.1.1 is available.\n",
      "You should consider upgrading via the 'c:\\users\\administrator\\appdata\\local\\programs\\python\\python38\\python.exe -m pip install --upgrade pip' command.\n"
     ]
    },
    {
     "name": "stdout",
     "output_type": "stream",
     "text": [
      "Requirement already satisfied: pandas==1.2 in c:\\users\\administrator\\appdata\\local\\programs\\python\\python38\\lib\\site-packages (1.2.0)\n",
      "Requirement already satisfied: numpy>=1.16.5 in c:\\users\\administrator\\appdata\\local\\programs\\python\\python38\\lib\\site-packages (from pandas==1.2) (1.20.3)\n",
      "Requirement already satisfied: pytz>=2017.3 in c:\\users\\administrator\\appdata\\local\\programs\\python\\python38\\lib\\site-packages (from pandas==1.2) (2021.1)\n",
      "Requirement already satisfied: python-dateutil>=2.7.3 in c:\\users\\administrator\\appdata\\local\\programs\\python\\python38\\lib\\site-packages (from pandas==1.2) (2.8.1)\n",
      "Requirement already satisfied: six>=1.5 in c:\\users\\administrator\\appdata\\roaming\\python\\python38\\site-packages (from python-dateutil>=2.7.3->pandas==1.2) (1.15.0)\n"
     ]
    },
    {
     "data": {
      "text/html": [
       "\n",
       "<link rel=\"stylesheet\" type=\"text/css\" href=\"https://cdn.jsdelivr.net/gh/bmabey/pyLDAvis@3.3.1/pyLDAvis/js/ldavis.v1.0.0.css\">\n",
       "\n",
       "\n",
       "<div id=\"ldavis_el1090014486390606723185255147\"></div>\n",
       "<script type=\"text/javascript\">\n",
       "\n",
       "var ldavis_el1090014486390606723185255147_data = {\"mdsDat\": {\"x\": [-0.07715803293098913, 0.07119237571705127, 0.05273344594983208, -0.06421541126578272, -0.06295176536612344, 0.07192625116204107, 0.020276815464975395, 0.08208229143037062, -0.05011134640350309, 0.014183155400079608, 0.026491312812829133, -0.08444909197078067], \"y\": [0.0021426295546594963, -0.0629087968140207, -0.023778889792665264, -0.003306099459666954, -0.002227835224771337, -0.06563943373498275, 0.03802327544525474, 0.10761227165532583, -0.004581149700693584, 0.034127256503925014, -0.015276348018402679, -0.004186880413961651], \"topics\": [1, 2, 3, 4, 5, 6, 7, 8, 9, 10, 11, 12], \"cluster\": [1, 1, 1, 1, 1, 1, 1, 1, 1, 1, 1, 1], \"Freq\": [4.09186017524517, 14.707237156097811, 7.768566121239901, 19.21063252049646, 1.9162137111346929, 13.076227913547253, 5.238463767961788, 18.407869097783255, 1.4331698901215768, 2.321581717627726, 8.446073540269614, 3.3821043884747533]}, \"tinfo\": {\"Term\": [\"island\", \"country\", \"state\", \"europe\", \"africa\", \"unite\", \"sea\", \"capital\", \"south\", \"west\", \"ireland\", \"republic\", \"jordan\", \"east\", \"southern\", \"\", \"officially\", \"brazil\", \"bulgaria\", \"landlocked\", \"border\", \"ocean\", \"city\", \"china\", \"southeast\", \"cambodia\", \"spain\", \"andorra\", \"part\", \"asia\", \"larger\", \"levu\", \"fiji\", \"cyprus\", \"samoa\", \"mediterranean;\", \"important\", \"puerto\", \"vanua\", \"third-largest\", \"sardinia\", \"viti\", \"322\", \"1962\", \"rico\", \"sicily\", \"geographically\", \"become\", \"zealand\", \"billion[10]\", \"slightly\", \"22\", \"shanghai\", \"macau\", \"independent\", \"hong\", \"autonomous\", \"communist\", \"exercise\", \"four\", \"pacific\", \"new\", \"state\", \"syria\", \"island\", \"war\", \"ocean\", \"china\", \"unite\", \"country\", \"asia\", \"east\", \"\", \"coast\", \"small\", \"part\", \"world's\", \"total\", \"middle\", \"turkey\", \"mediterranean\", \"brazil\", \"paraguay\", \"peru\", \"tunisia\", \"bolivia\", \"estonia\", \"libya\", \"argentina\", \"denmark\", \"israel\", \"alps\", \"hungary\", \"tajikistan\", \"scandinavian\", \"(32\", \"miles)[10]\", \"lock\", \"latin\", \"sudan\", \"furthest\", \"tunis\", \"touch\", \"fifth\", \"parts\", \"niger\", \"algeria\", \"federative\", \"208\", \"[9]\", \"connect\", \"sweden\", \"italy\", \"germany\", \"azerbaijan\", \"baltic\", \"officially\", \"south\", \"million\", \"america\", \"southeast\", \"northern\", \"chile\", \"north\", \"border\", \"square\", \"country\", \"canada\", \"republic\", \"central\", \"sea\", \"mediterranean\", \"east\", \"state\", \"asia\", \"west\", \"world's\", \"europe\", \"\", \"capital\", \"part\", \"bulgaria\", \"jamaica\", \"finland\", \"danube\", \"140\", \"antilles\", \"south-eastern\", \"hispaniola\", \"liechtenstein\", \"191\", \"greater\", \"caribbean;\", \"angola\", \"namibia\", \"lebanon\", \"georgia\", \"botswana\", \"zambia\", \"austria\", \"margin\", \"14679\", \"\\u00a3\\u00ac[15][16][17]\", \"\\u00a3\\u00ac612\", \"\\u00a3\\u00ac125\", \"democratic\", \"77%\", \"\\u00a3\\u00ac200\", \"australia\", \"(6\", \"asia[13]\", \"black\", \"kilometre\", \"area\", \"europe\", \"country\", \"west\", \"north\", \"russia\", \"south\", \"european\", \"island\", \"east\", \"republic\", \"sea\", \"part\", \"square\", \"neighbour\", \"eastern\", \"people\", \"border\", \"sq\", \"guinea\", \"state\", \"economic\", \"french[3]\", \"community\", \"[4]\", \"liberia\", \"guinea-bissau\", \"countries:\", \"national\", \"sierra\", \"leone\", \"mali\", \"guinea\", \"ivory\", \"right\", \"parliament\", \"senegal\", \"republik\", \"(indonesian:\", \"us\", \"\\u00a3\\u00ac[11]\", \"nation\", \"java\", \"\\u00a3\\u00ac904\", \"muslim-majority\", \"wealth\", \"7th\", \"combine\", \"\\u00a3\\u00ac358\", \"14th\", \"home\", \"race\", \"first\", \"iraq\", \"state\", \"world's\", \"unite\", \"economy\", \"large\", \"global\", \"populous\", \"military\", \"war\", \"indonesia\", \"population\", \"country\", \"million\", \"square\", \"world\", \"coast\", \"land\", \"west\", \"republic\", \"asia\", \"member\", \"border\", \"north\", \"island\", \"western\", \"ocean\", \"cambodia\", \"vietnam\", \"laos\", \"andorra\", \"principality\", \"kampuchea\", \"pyrenees\", \"thailand\", \"13\", \"myanmar\", \"mountain\", \"landlocked\", \"near\", \"live\", \"northwest\", \"locate\", \"france\", \"southern\", \"spain\", \"sovereign\", \"american\", \"district\", \"people\", \"europe's\", \"subsequent\", \"archipelago\", \"monetary\", \"civil\", \"\\u00a3\\u00ac[24]\", \"following\", \"eastern\", \"us\", \"southeast\", \"million\", \"act\", \"unite\", \"century\", \"china\", \"border\", \"war\", \"officially\", \"state\", \"country\", \"west\", \"east\", \"asia\", \"ireland\", \"malta\", \"call\", \"kazakhstan\", \"lithuania\", \"europe[8]\", \"brunei\", \"palestine\", \"barbados\", \"empire\", \"eswatini\", \"belarus\", \"ecuador\", \"president\", \"nur-sultan\", \"greece\", \"colombia\", \"djibouti\", \"poland\", \"malawi\", \"proper\", \"exclave\", \"gold\", \"distinguish\", \"valletta\", \"region:\", \"rather\", \"minsk\", \"borneo\", \"\\\"\\\"special\", \"1991\", \"soviet\", \"part\", \"mexico\", \"name\", \"also\", \"country\", \"capital\", \"official\", \"middle\", \"republic\", \"island\", \"sea\", \"north\", \"east\", \"south\", \"union\", \"\", \"iran\", \"border\", \"america\", \"mediterranean\", \"officially\", \"unite\", \"state\", \"africa\", \"philippine\", \"780\", \"okhotsk\", \"stretch\", \"asian\", \"maldives\", \"japan\", \"self-proclaimed\", \"group\", \"turkey\", \"transnistria\", \"(morocco)[h]\", \"situate\", \"physical\", \"except\", \"archipelagoes:\", \"balearic\", \"alboran\", \"north-east\", \"melilla\", \"ukraine\", \"spain[11][a][b]\", \"boundary\", \"(195\", \"km2\", \"south-west\", \"enclave\", \"\\u00a3\\u00ac360\", \"gibraltar;\", \"canary\", \"lie\", \"korea\", \"locate\", \"continent\", \"\\u00a3\\u00ac000\", \"spain\", \"france\", \"sea\", \"europe\", \"eastern\", \"ocean\", \"north-west\", \"several\", \"coast\", \"european\", \"area\", \"east\", \"island\", \"asia\", \"country\", \"territory\", \"south\", \"\", \"north\", \"pacific\", \"china\", \"large\", \"square\", \"border\", \"ethiopia\", \"morocco\", \"kenya\", \"horn\", \"ghana\", \"word\", \"gabon\", \"victoria\", \"uganda\", \"somalia\", \"mongolia\", \"england\", \"cuba\", \"moldova\", \"lake\", \"arabian\", \"arab\", \"portugal\", \"gulf\", \"qatar\", \"channel\", \"india\", \"big\", \"korea\", \"nepal\", \"escape\", \"\\u00a3\\u00ac[19][e]\", \"d'ivoire\", \"\\\"\\\"ethiopia\\\"\\\"\", \"northeast;\", \"africa\", \"southwest\", \"isle\", \"indian\", \"atlantic\", \"english\", \"country\", \"peninsula\", \"east\", \"border\", \"island\", \"ocean\", \"sea\", \"south\", \"populous\", \"north\", \"china\", \"west\", \"europe\", \"land\", \"republic\", \"large\", \"\", \"asia\", \"world\", \"know\", \"bahamas\", \"crossroads\", \"point\", \"influence\", \"indie\", \"parliamentary\", \"vary\", \"nassau\", \"unitary\", \"providence\", \"croatia\", \"group\", \"democratic\", \"history\", \"maldives\", \"vatican\", \"power\", \"completely\", \"country's\", \"size\", \"new\", \"nazarbayev\", \"\\\"\\\"kazakh\", \"southern\", \"europe\", \"move\", \"socialist\", \"1998\", \"astana\", \"central\", \"surround\", \"region\", \"capital\", \"world\", \"kazakhstan\", \"island\", \"unite\", \"state\", \"republic\", \"\", \"country\", \"west\", \"singapore\", \"nigeria\", \"egypt\", \"zimbabwe\", \"sphinx\", \"famous\", \"ancient\", \"hashemite\", \"pyramid\", \"monument\", \"cairo\", \"harare\", \"straits\", \"malacca\", \"city-state\", \"malay\", \"jordan\", \"northeast\", \"southern\", \"isle\", \"continental\", \"gibraltar;\", \"england\", \"five-eighths\", \"canary\", \"continent\", \"biscay;\", \"city\", \"enclave\", \"(195\", \"end\", \"kingdom\", \"capital\", \"name\", \"africa\", \"well\", \"country\", \"spain\", \"sea\", \"west\", \"republic\", \"part\", \"peninsula\", \"east\", \"island\", \"south\", \"\", \"officially\", \"official\", \"north\", \"iceland\", \"greenland\", \"venezuela\", \"mauritius\", \"kyrgyzstan\", \"formerly\", \"eritrea\", \"honduras\", \"product\", \"culture\", \"guatemala\", \"mountain\", \"consider\", \"gambia\", \"1960\", \"possession\", \"15\", \"culturally\", \"august\", \"france;\", \"former\", \"circle\", \"europe[9]\", \"lower\", \"301\", \"carpathian\", \"1001\", \"brazzaville\", \"kirghizia\", \"kyrgyz\", \"romania\", \"kilometer\", \"norway\", \"congo\", \"pakistan\", \"country\", \"know\", \"america\", \"central\", \"africa\", \"next\", \"france\", \"\", \"north\", \"spanish\", \"border\", \"independent\", \"west\", \"republic\", \"unite\", \"island\", \"state\", \"asia\", \"sea\", \"part\", \"south\", \"east\", \"dominica\", \"kosovo\", \"thailand\", \"(290\", \"french-speaking\", \"martinique\", \"guadeloupe\", \"island)\", \"newzealand\", \"roseau\", \"town\", \"english-speaking\", \"country[4]\", \"mi\", \"(the\", \"portsmouth\", \"70\", \"main\", \"south-western\", \"another\", \"almost\", \"751\", \"partially-recognised\", \"belgium\", \"dispute\", \"km\", \"commonwealth\", \"oceania\", \"laos\", \"myanmar\", \"island\", \"state\", \"kingdom\", \"territory\", \"unite\", \"southeast\", \"officially\", \"europe\", \"federal\", \"country\", \"large\", \"new\", \"nation\", \"north\", \"ocean\", \"make\", \"smaller\", \"pacific\", \"many\", \"sea\", \"caribbean\", \"\\u00a3\\u00ac000\", \"people\", \"part\", \"capital\"], \"Freq\": [31.0, 97.0, 33.0, 17.0, 21.0, 22.0, 29.0, 11.0, 31.0, 20.0, 6.0, 26.0, 4.0, 29.0, 6.0, 14.0, 13.0, 6.0, 4.0, 5.0, 27.0, 15.0, 7.0, 9.0, 8.0, 2.0, 6.0, 2.0, 15.0, 14.0, 0.9761592271879397, 0.9761286311204476, 0.9761273694269427, 0.9760788993681321, 0.9760944602546917, 0.5113271575494781, 0.5113155920256839, 0.5112963511997352, 0.5112982437399924, 0.5112869410690116, 0.5112846279642528, 0.5112791080551692, 0.5112750601218412, 0.5112683836603781, 0.5112307957080467, 0.5113151188906195, 0.511314856037806, 0.5910862164391657, 0.5112634420274842, 0.285162183199931, 0.5518738862908452, 0.2755887420233707, 0.2755920276835395, 0.2707897067807778, 1.0672523416843347, 0.26128615816732886, 0.2597941267420225, 0.2575244189826762, 0.25484416141391425, 0.2530095802020464, 1.127145563205399, 0.7052137538298779, 2.3512936978604437, 0.5115648290634506, 2.0981866255498676, 0.7320960790611154, 1.1422757917153283, 0.7956291286319281, 1.2223697776599858, 1.8906073427966048, 0.7774230490689096, 0.8289557111507763, 0.7066590763102242, 0.6277451417865224, 0.5760096624737543, 0.5625298867798315, 0.5534119958143592, 0.5247595145958444, 0.5116675519429689, 0.5116655016910235, 0.5115757111699298, 5.300437896961303, 3.0607464975638927, 3.060768605021356, 3.0606529660130866, 3.060614041771741, 2.2635300408374595, 1.5676805280144166, 1.5676098597315853, 3.0185749163552975, 2.3020032522603344, 1.3896181848314304, 3.0592462136984344, 1.5675760372111927, 0.8212072050319352, 0.8211871760533788, 0.8211742327983682, 0.8211761223246471, 0.8211642183090899, 0.821169320030043, 0.8211601558275903, 0.8211665802169386, 0.8211559988697766, 0.8211522198172188, 0.8211586442065671, 0.8211556209645209, 0.821151936388277, 0.8211428666621382, 0.8211424887568823, 0.8211372925596154, 0.8211377649411851, 1.5512324851854022, 2.468824803610054, 2.9090832928815136, 1.508318887007077, 1.4936982050424013, 5.494101491771408, 11.306823218609114, 4.965649741336841, 4.950778413711267, 3.2104687808525703, 2.2552922731192733, 1.5676604045595461, 7.713190630339295, 6.859035566629289, 3.531750602635348, 16.759011238461625, 1.605530668146819, 6.295943886733881, 2.2472430801237224, 5.458546653686318, 2.8928420587037267, 4.897537987560787, 4.787158286735913, 3.2625445030047273, 3.7888301005131466, 3.0630294232140782, 3.0109599364986415, 2.789733443952746, 2.3626351273086748, 2.343958482709994, 3.206605301755778, 1.3203785370680061, 2.065890050963527, 1.3203854237780517, 0.6916455642595348, 0.6916379788977456, 0.6916315912246598, 0.6916075376431963, 0.6916018985255503, 0.6915960098894244, 0.6915824360841172, 0.6915739524558001, 0.6785218403863933, 0.676752704460122, 1.3202783304464734, 1.32038432589674, 0.6680725054846433, 1.2834932182565515, 1.9497597588872884, 0.6515361672654427, 0.6500767835801341, 0.6400147013592072, 0.634584081355013, 0.6344675063211982, 0.6738393266886707, 0.6328716360273777, 0.6292275184356566, 1.3032051781695906, 0.6272536276447697, 0.6271597587926268, 1.3203316275937826, 2.758649166295213, 2.390541339783859, 3.0236142374171338, 8.796715322547115, 3.268604855185148, 4.0536265224934045, 1.8010433514084767, 3.26375062286955, 1.831110527852643, 2.480691368502104, 2.3848706830019895, 2.278794787977496, 2.2980280716386723, 1.713151365126042, 1.5188756778222947, 0.9449276811150212, 1.2643275041997355, 1.2260440834416384, 1.6419642418441402, 0.8714072606237675, 1.1450676515410496, 1.359395442349652, 1.6389073792162805, 1.6292693085949796, 1.6238588537960692, 1.6144759851573913, 1.6064272502876396, 1.5807474890835782, 1.5635767641976173, 1.5059148141035439, 1.4667648801667712, 1.4603471920109121, 1.4260536234620353, 6.048324996974515, 1.3742909362196625, 2.5029521854583985, 1.1888257336682129, 1.6429961641728825, 1.1252811804263334, 1.1097995027048613, 2.6588060600918646, 1.1077772614624797, 2.6784541446495664, 1.0883078676546998, 1.0788276323021488, 1.0696055606573578, 1.7352885790501464, 1.0475299721343854, 1.0469809423371463, 1.0471355690703315, 1.0421627091603871, 1.0320277474447765, 1.3058469491701892, 1.6717311916660076, 2.8362911410725653, 14.432071950232457, 6.292430876372546, 9.551282202374868, 1.9268498757696817, 6.101507214393926, 2.2484545997969594, 4.137281971665287, 1.5567850348380199, 2.680116659693038, 2.4141717595673393, 2.1281197074877314, 7.678310919647393, 3.093932351156317, 2.8941314117009185, 2.7233489615152826, 2.315726484123534, 2.359137229885272, 3.1402589153152602, 3.2534792502249767, 2.642748080020852, 2.115287046090722, 2.8039518174931377, 2.84414909148142, 2.761604824676376, 2.149488307539501, 2.164504747604063, 1.1568097752433772, 0.5924888244191632, 0.8746261582176735, 0.8746078418766992, 0.31035813767987736, 0.31035235227647817, 0.31034910260307946, 0.5924530287743018, 0.31035818691735306, 0.3103577683988093, 0.3103720718855111, 0.5925240784517913, 0.3103597625165767, 0.3103692899681319, 0.33919160347184796, 0.31036791131881125, 0.3103483640409434, 0.31036003332269324, 0.3103558727559934, 0.3103577437800714, 0.17316134585083517, 0.10524450123015917, 0.34235053220274864, 0.06525423579989531, 0.06159888252923863, 0.061941556896319305, 0.06349021091132682, 0.1477054354914094, 0.06278816451820594, 0.05984807174822124, 0.31036335685230554, 0.19832399780476748, 0.3103668034756072, 0.45431074200803845, 0.12223069179751399, 0.6865277255178885, 0.13969556910399028, 0.31036335685230554, 0.6276977555195482, 0.21712611571480273, 0.310374336809395, 0.4718913273824982, 0.7279921794357912, 0.34562467662687546, 0.3581871754240564, 0.3103652771138593, 5.584120824376319, 2.136896117808183, 3.9730413980274104, 3.1317426212020205, 1.4477738672096032, 1.4476650044527568, 1.447672396368345, 1.4476891961765004, 1.447698436070986, 1.447615277020617, 1.4476287168671413, 2.8265546182830805, 2.826413499894576, 1.3485881358567273, 1.2800770062165776, 2.136998764636012, 2.1370253083328974, 2.1370380761870953, 2.826556634260059, 1.4654106418072266, 0.758338972181253, 0.7583377121956413, 0.7583396441735791, 0.7583350242263365, 0.758343844125618, 0.7583425001409656, 0.7583376281966006, 0.7583354442215403, 0.7583368722052335, 0.758337460198519, 1.4239241875599775, 2.052163597407496, 5.17714983976369, 1.672884576567697, 2.1057613693500823, 2.2779923305661485, 16.796686078977476, 3.3676522472423573, 2.0856345271876764, 2.195029669954625, 5.83329994688622, 5.825404037053218, 5.261331326456882, 5.385753729620688, 5.035871853081484, 4.843126310130787, 2.3308504069556557, 2.976231165058297, 2.1371580268173247, 3.4585886007986426, 2.609923612091387, 2.387313218181051, 2.4001541515445735, 2.554231408066077, 2.580622730691522, 2.1601287405042635, 0.6956539315246364, 0.6956614693107122, 0.6956533931113453, 0.6956318565797003, 0.6956107238580237, 0.8144965512413754, 1.652188754684342, 0.5013166490170886, 0.4927588389613062, 1.9604193263807952, 0.40527610138612846, 0.34756627277692176, 0.34480152052699614, 0.3329762821123618, 0.3217440049854093, 0.3193637471270081, 0.31622594176799446, 0.31482071672898954, 0.48734882856125394, 0.3200551707453044, 1.3150747327788557, 0.3075842738421194, 0.3005642730982814, 0.29759213077878066, 0.29799923852853233, 0.48408675068448254, 0.29468405964092376, 0.2923961396619505, 0.2833943741968051, 0.28175404762914746, 0.6956231073637196, 1.1786461889407545, 0.9256778190320547, 0.9541544979996429, 0.720261707185525, 1.073851781514381, 0.9989027669432965, 3.667617228606062, 2.0139542983306207, 1.1186436619346158, 1.727334828519978, 0.501071536366304, 0.6923284218320044, 0.9866928995338149, 1.2186712945896774, 1.126001348764481, 2.095564427536178, 2.1603099718271572, 1.3331052516753643, 3.318977124170823, 0.9690838909425957, 1.4597959181268605, 1.0688268375699752, 1.2031616267222152, 0.8600977341398319, 0.8486322231053304, 0.8698811074495371, 0.7491002671864103, 0.7646412303264194, 4.14382115723767, 3.3313719446911487, 2.518932665012272, 2.518893643032243, 1.7063408448660093, 1.7062866870876663, 1.706302059382829, 1.706268358581895, 1.7062741527546872, 1.7062004839863296, 1.706195281055659, 2.301479725090822, 2.5188416137255376, 2.03666687224416, 2.5917500447146176, 1.5743667346820283, 1.558492356709438, 2.7188001722610777, 3.057340917677426, 2.697814151401555, 1.8165212974522944, 2.5187037360627693, 2.5187221828169646, 3.426465672059305, 0.8938260044439855, 0.8938163080731905, 0.8938160124521296, 0.8938192051595865, 0.8938115190120051, 0.8938117555088537, 11.696565596288456, 2.376400507765148, 1.1291317367254887, 3.180183293292531, 3.2990697861201044, 1.7949462811911845, 27.262768309339776, 3.3726955120511692, 9.417647907056626, 8.382761347006301, 9.105489094598822, 5.481872081597569, 7.894792669229608, 6.953377704662483, 3.946757793123423, 6.4595212013415555, 3.494217525760207, 5.071245914225477, 4.398949700628562, 3.1788418831669327, 4.657644616497245, 3.088980648575374, 2.9970486475769507, 2.875678464844752, 2.737886886929014, 2.555348922762602, 0.4688487584148297, 0.24559793929543278, 0.2455955824587678, 0.2455931335581706, 0.24559416467421152, 0.2455921208549161, 0.24559171577361433, 0.2455927284768688, 0.24558107318304903, 0.2455786979335976, 0.4688707432818452, 0.3171980295555639, 0.2455682947092561, 0.245580410322737, 0.20361152014355824, 0.21135656415712917, 0.2821598410838463, 0.11953193371039338, 0.26800510356806634, 0.1367231238388437, 0.27889862358703993, 0.0602132226443427, 0.059335793528675164, 0.2575968525358548, 0.7284469519477675, 0.05723900985305358, 0.057075214308034104, 0.05446135355706648, 0.0542866300232918, 0.24558757289666416, 0.12884143853706326, 0.2497334511310144, 0.3391364963492361, 0.30515023036713007, 0.14675478735628572, 0.5980748860926983, 0.32598350648000474, 0.37182626279937947, 0.30457656159264485, 0.24803019473369187, 0.39964290118894835, 0.2657987361939164, 0.8808967310435822, 0.6657114034888988, 0.9827565458980383, 0.6657479710744426, 0.3487354889476608, 0.3487333712489874, 0.34872293188932973, 0.3487229020625878, 0.3487184877047897, 0.3487156541643112, 0.3487047674035253, 0.34868749771997726, 0.32951626989691574, 0.3131141567899163, 0.30889886266710087, 0.3034951518408518, 0.9827942468997736, 0.44307660853595787, 0.7036021033025199, 0.2225621817498361, 0.19451652884861076, 0.12914603416732492, 0.3273484921238796, 0.1292836845810973, 0.12133429861888853, 0.4566918003619934, 0.12038554724313952, 0.6801582245320094, 0.1186389379788082, 0.1178849701409011, 0.34098002900446495, 0.4327025097894803, 0.6737764948395423, 0.35674334278063824, 1.0612142394206145, 0.3073381187447896, 2.134265638930364, 0.36504248457480765, 0.8192226048298981, 0.596851239661234, 0.6371693590359494, 0.5183202916606025, 0.3942087430818043, 0.5076457779699179, 0.42908115557770476, 0.4201170862268231, 0.376552117211367, 0.362493700001007, 0.35572830892774826, 0.3532231012238331, 1.944905922185989, 1.3175273251548252, 1.3173862599019825, 1.6109611725264947, 1.270756055457586, 1.2084028264431046, 1.9449065732563866, 1.7975103118663827, 1.1224760745143907, 1.0997651113654232, 2.1690603451403465, 1.1757684653153366, 0.6901406439995561, 0.6901452557482066, 0.6901359237391724, 0.6901308236877236, 0.6901321800843855, 0.6901289247323968, 0.6901210576317576, 0.6901215459345559, 0.6901199182585616, 0.6901182905825671, 0.6901172054652376, 0.690114980974712, 0.6901074394092716, 0.6901072223858057, 0.6900974020739732, 0.6900977818650386, 0.670750736693565, 0.6699863800466249, 1.9448698962906477, 1.3175314486006775, 1.3175297124129501, 1.3175095292306203, 1.3174918418181485, 10.40801224627467, 1.678598380377255, 2.2830273969586816, 1.4886375236415061, 2.6204268346602873, 1.0890275498542559, 1.340903031179879, 1.9448679430794544, 2.552777799030635, 0.9855373058527951, 2.3262385052093766, 1.1944662305326696, 1.9087780258157117, 2.0052844546841424, 1.8578875422237404, 2.0722752581416852, 1.9140569046005416, 1.5838538565168263, 1.577500060505337, 1.4577553014657743, 1.5437717925976426, 1.502971272494559, 0.7625314456486493, 0.7625212779022383, 1.1257151784901867, 0.39947515725251115, 0.3994671186495794, 0.39946216513209715, 0.39945634257646007, 0.39945608186501363, 0.3994562556726446, 0.39945495211541243, 0.39945325749101057, 0.3994499116941147, 0.3994491730116831, 0.39944891230023666, 0.3994490861078676, 0.39944591411860264, 0.3994410909568436, 0.3994406129858585, 0.3994338779401589, 0.39943318270963507, 0.39942014713731333, 0.3994091538046553, 0.39940289672994084, 1.0962270627258517, 0.4468467746850807, 0.39943261783483447, 0.3994732888204784, 0.3994502593093766, 0.3994066335940064, 0.399431531537141, 2.99340957169126, 2.4819451608438174, 0.7473335325901456, 0.9257945152506718, 1.2762238965173287, 0.7626030543926036, 0.7365170491966192, 0.7729464334146652, 0.5561349707911262, 1.1196295650036767, 0.6721190624278791, 0.5320538800701377, 0.5133264989016996, 0.6617880237476155, 0.5810317841761033, 0.45843353004710036, 0.4656318165350888, 0.499188812392033, 0.4603761344863981, 0.5648166619574242, 0.45367472056340774, 0.44262533494439915, 0.44976878512482066, 0.46573388506636826, 0.455981321633837], \"Total\": [31.0, 97.0, 33.0, 17.0, 21.0, 22.0, 29.0, 11.0, 31.0, 20.0, 6.0, 26.0, 4.0, 29.0, 6.0, 14.0, 13.0, 6.0, 4.0, 5.0, 27.0, 15.0, 7.0, 9.0, 8.0, 2.0, 6.0, 2.0, 15.0, 14.0, 1.7133381667390744, 1.7133185749687334, 1.7133169275235745, 1.7132646061950845, 1.713295091859098, 1.2484985404203146, 1.2484913778704305, 1.2484713032491053, 1.2484775024914267, 1.248462865808256, 1.248460112155843, 1.2484600608657788, 1.2484570735170175, 1.2484529471301478, 1.2484137135053162, 1.9378458816817177, 2.060961798762725, 2.622543089674808, 2.3183274712450817, 1.3911244170222494, 2.782812595488906, 1.3966329372737698, 1.4090827797982053, 1.40712565004828, 5.732310282291936, 1.4116039454119476, 1.4071702050353285, 1.4175636251929813, 1.4157616703892517, 1.4144455968044054, 8.395467847771457, 5.801722115409732, 33.174337424809984, 3.8529413832599455, 31.777415563181783, 6.782033923644364, 15.792088474798902, 9.730145243382761, 22.2920720160704, 97.29261886677428, 14.48865908280263, 29.08922088453984, 14.633329037988226, 7.757386592231675, 7.371366854545617, 15.150384673340378, 14.045003430436369, 5.817063335532406, 6.504399514868892, 7.11959161221015, 10.431834849237216, 6.0094765949632745, 3.76977178140115, 3.7698011221466943, 3.7697042427494125, 3.769658948629062, 2.9877208810701874, 2.276691103794612, 2.2766291776530783, 4.400808969991412, 3.6499420057569463, 2.2715762104420887, 5.114060826127306, 2.9041230586348323, 1.5302027285767519, 1.53018207874239, 1.5301698735865619, 1.5301790309024241, 1.5301600546909149, 1.5301703947474177, 1.5301582739002735, 1.5301717995779838, 1.5301556543251515, 1.5301494738116999, 1.5301615638147088, 1.5301568777828691, 1.530152170452203, 1.5301393472614855, 1.5301398352684092, 1.530134459375758, 1.5301372001409905, 2.906495567996241, 4.844452610215726, 5.803164996894893, 2.971303390476237, 2.95153059172742, 13.489832119263477, 31.959221076982445, 13.040422732862073, 13.655111467972343, 8.337882140160522, 5.657256377967478, 3.6554543924754723, 31.69035230390206, 27.41303135368143, 11.273295886411516, 97.29261886677428, 3.8390978685034503, 26.10002338571887, 6.4680787162139515, 29.234786957149915, 10.431834849237216, 29.08922088453984, 33.174337424809984, 14.48865908280263, 20.795553044291115, 14.045003430436369, 17.69878776164041, 14.633329037988226, 11.137347403307134, 15.150384673340378, 4.61677978667566, 2.041162328874173, 4.073714852973823, 2.6685597932889293, 1.4124217091766924, 1.412414411341766, 1.4124077544315945, 1.4123860782277824, 1.4123845258064913, 1.4123771141491517, 1.412362383289366, 1.4123533825835044, 1.413684389723102, 1.4138428196357613, 2.7873265507754708, 2.7903137579895803, 1.4146322845189203, 2.7340570582698325, 4.1689246377313465, 1.5030167142179902, 1.506207265936602, 1.528883834188077, 1.5411247131142431, 1.5413653731663248, 1.637364391485169, 1.5449100593982275, 1.5531874992420247, 3.221768121570557, 1.5576920016656082, 1.5577253710290881, 3.3514763571127206, 7.479946616893151, 10.051034850399661, 17.69878776164041, 97.29261886677428, 20.795553044291115, 31.69035230390206, 8.373184763784632, 31.959221076982445, 11.021709884284306, 31.777415563181783, 29.08922088453984, 26.10002338571887, 29.234786957149915, 15.150384673340378, 11.273295886411516, 3.2375419477605, 8.036064298613779, 7.778763494373623, 27.41303135368143, 3.3820584683823283, 9.6798725083564, 33.174337424809984, 2.406145278033149, 2.399477982392074, 2.3956767259118936, 2.3892038767703645, 2.383634822705685, 2.3658481343332363, 2.3538871520187223, 2.3139953488733025, 2.2868298659800916, 2.2823782515391646, 2.2586364774115264, 9.6798725083564, 2.2227740108687972, 4.5240831631800456, 2.1797652840923196, 3.0363807867758883, 2.141668975737068, 2.1323685920900384, 5.116051008250414, 2.1330821243362585, 5.177760609770656, 2.115732257820765, 2.1124350311221787, 2.110466073140504, 3.4344745452610526, 2.093801734113232, 2.092738285382135, 2.0930526550508826, 2.0931410430551325, 2.0816539781669468, 2.6422216532358784, 3.4088536091625796, 5.926776040447638, 33.174337424809984, 14.045003430436369, 22.2920720160704, 4.073393177587129, 15.230598465343574, 4.905771178823631, 11.232721050133073, 3.264388660336799, 6.782033923644364, 6.030846483797573, 5.123491491191953, 97.29261886677428, 13.040422732862073, 11.273295886411516, 10.409276593327597, 7.757386592231675, 8.74939915045114, 20.795553044291115, 26.10002338571887, 14.48865908280263, 7.346379558631988, 27.41303135368143, 31.69035230390206, 31.777415563181783, 9.516297109876527, 15.792088474798902, 2.2754151167401746, 1.3479572262032973, 1.9932185823112851, 2.926181167945465, 1.0658064449629974, 1.0658041629403943, 1.0657994030256612, 2.4373573114748526, 1.8123067388397764, 2.241412405223589, 2.3345478469242806, 5.667055645104935, 3.3311863964035675, 4.336458622527869, 4.7391924341327165, 4.813932671421252, 5.8125856205597835, 6.107181366297234, 6.283123502155204, 6.885360824559983, 3.918230807222518, 2.389029009022043, 7.778763494373623, 1.5588966854885968, 1.515967887648559, 1.529750850280527, 1.5868402995581083, 3.7134871289378393, 1.5800442636062109, 1.5308915413779314, 8.036064298613779, 5.116051008250414, 8.337882140160522, 13.040422732862073, 3.2078630498944, 22.2920720160704, 3.743864159191621, 9.730145243382761, 27.41303135368143, 6.782033923644364, 13.489832119263477, 33.174337424809984, 97.29261886677428, 20.795553044291115, 29.08922088453984, 14.48865908280263, 6.298857208080416, 2.851653647204099, 5.575512122341737, 4.598366010193824, 2.1624888740098003, 2.162385061674213, 2.1623975225910397, 2.162430191299254, 2.162454206273125, 2.1623433293422196, 2.1624198041181684, 4.2362216936199415, 4.287625110589494, 2.0953867003684286, 2.0490669852460757, 3.480462545039056, 3.59820395436642, 3.664287763967366, 4.9904484325392335, 2.7927324908610514, 1.4730475357770298, 1.4730476993365287, 1.4730524809342493, 1.473043554013342, 1.4730607803305462, 1.4730582102963206, 1.4730497732531675, 1.4730464376000831, 1.4730495133467134, 1.4730534602914895, 2.891211553908019, 4.386509516311949, 15.150384673340378, 3.869797080562069, 5.319146243745951, 6.03150929617119, 97.29261886677428, 11.137347403307134, 6.046518181536958, 6.504399514868892, 26.10002338571887, 31.777415563181783, 29.234786957149915, 31.69035230390206, 29.08922088453984, 31.959221076982445, 7.267238934949357, 14.633329037988226, 6.47278264676344, 27.41303135368143, 13.655111467972343, 10.431834849237216, 13.489832119263477, 22.2920720160704, 33.174337424809984, 21.927611652773585, 1.4160644022465878, 1.416080637862966, 1.4160643291577162, 1.4160429298307335, 1.416024544819045, 1.7162262131273627, 3.553089396869414, 1.471416670926636, 1.5080694473837697, 7.11959161221015, 1.4987515443158868, 1.366469053471019, 1.3567843785885905, 1.3657158189574639, 1.3710329425194812, 1.3672365087354175, 1.355173180738337, 1.358488660181179, 2.105880243079268, 1.3852827756012132, 5.802374152800591, 1.3813639520403065, 1.3553416376938152, 1.3494374040928259, 1.360705431674905, 2.2228632438345284, 1.3547995601149077, 1.3692211034150137, 1.3391662211410753, 1.342493481874943, 3.3428677735731718, 6.072064584031538, 4.813932671421252, 5.151681701855217, 3.8851642506694954, 6.283123502155204, 5.8125856205597835, 29.234786957149915, 17.69878776164041, 8.036064298613779, 15.792088474798902, 2.645105894048863, 4.301696639293106, 7.757386592231675, 11.021709884284306, 10.051034850399661, 29.08922088453984, 31.777415563181783, 14.48865908280263, 97.29261886677428, 9.96996119763137, 31.959221076982445, 14.633329037988226, 31.69035230390206, 8.395467847771457, 9.730145243382761, 15.230598465343574, 11.273295886411516, 27.41303135368143, 4.8462330703172265, 4.033782864502837, 3.2213449474514038, 3.221300317972282, 2.4087436662557633, 2.4086819794120173, 2.4087157729113793, 2.40868104386233, 2.408697652256736, 2.4086090601636254, 2.4086421750258373, 3.4210897999983394, 3.8500108236510076, 3.1143505723815297, 3.9737146786966377, 2.493013995347522, 2.5113642469927395, 4.40097496728982, 4.963700948868876, 4.397859040499501, 2.984632089528067, 4.300114894237535, 4.439105966377925, 6.072064584031538, 1.5962167216738654, 1.5962065159714742, 1.5962072683987056, 1.596213955519461, 1.596201540769164, 1.5962023735621105, 21.927611652773585, 4.333235480449128, 2.06172694992573, 6.567542122742586, 7.16064810366384, 3.5974074186917946, 97.29261886677428, 7.8308959316826305, 29.08922088453984, 27.41303135368143, 31.777415563181783, 15.792088474798902, 29.234786957149915, 31.959221076982445, 11.232721050133073, 31.69035230390206, 9.730145243382761, 20.795553044291115, 17.69878776164041, 8.74939915045114, 26.10002338571887, 15.230598465343574, 14.633329037988226, 14.48865908280263, 10.409276593327597, 7.381645260614749, 1.230207159453673, 1.0069330089476596, 1.0069313504288864, 1.0069294096647128, 1.0069347460073386, 1.006928833867487, 1.0069279116680732, 1.006934524728112, 1.0069194862117532, 1.0069245290123996, 1.976536667378234, 1.5080694473837697, 1.637364391485169, 1.8194259433366942, 1.7162262131273627, 1.8336932141338025, 2.4952957253648225, 1.3023423479391278, 3.6770084797538143, 1.8899029584423377, 5.801722115409732, 1.3939007843977516, 1.3957649618988153, 6.107181366297234, 17.69878776164041, 1.4001121569924546, 1.4004932454364443, 1.4059543861348804, 1.4062827166347627, 6.4680787162139515, 3.569445791245122, 7.501024742222519, 11.137347403307134, 10.409276593327597, 4.598366010193824, 31.777415563181783, 22.2920720160704, 33.174337424809984, 26.10002338571887, 14.633329037988226, 97.29261886677428, 20.795553044291115, 1.872733997445074, 1.417736601225816, 2.481219363097939, 2.04821312091198, 1.1006952510864991, 1.1006933418686373, 1.1006856616121625, 1.1006894869108714, 1.1006822598207882, 1.1006793553658563, 1.100670882555279, 1.1006632556924472, 1.126724155334806, 1.1489195317852823, 1.1546014982373909, 1.1618779559835082, 4.419523285934946, 3.830468891475716, 6.107181366297234, 2.06172694992573, 1.99805828673304, 1.3391662211410753, 3.4210897999983394, 1.4142485968871283, 1.342493481874943, 5.151681701855217, 1.3687794828915092, 7.742415431269814, 1.3547995601149077, 1.3494374040928259, 4.036118190909925, 6.0739379876994235, 11.137347403307134, 5.319146243745951, 21.927611652773585, 4.740266913166482, 97.29261886677428, 6.283123502155204, 29.234786957149915, 20.795553044291115, 26.10002338571887, 15.150384673340378, 7.8308959316826305, 29.08922088453984, 31.777415563181783, 31.959221076982445, 14.633329037988226, 13.489832119263477, 6.046518181536958, 31.69035230390206, 2.6658340016433644, 2.0384475937766204, 2.0383626042767378, 2.5792504610254468, 2.038629605933474, 2.010151812460476, 3.4783359182364246, 3.294945673681764, 2.0577201243233514, 2.0599156890580375, 4.103690438944585, 2.3345478469242806, 1.4110534956628074, 1.4110641310652723, 1.4110521642336744, 1.411043390270547, 1.4110487669788534, 1.4110424590245223, 1.4110372963748734, 1.4110384814094166, 1.41103690639095, 1.4110341436429894, 1.411032735375935, 1.4110298249062596, 1.4110214958764435, 1.4110223657088725, 1.4110126303760422, 1.4110158580468035, 1.4111223300379752, 1.411114789344444, 5.535312747187864, 3.4161075643387484, 3.4236409302829856, 3.480989100204072, 3.540253311958987, 97.29261886677428, 7.381645260614749, 13.655111467972343, 6.4680787162139515, 21.927611652773585, 3.6019325335000247, 5.8125856205597835, 14.633329037988226, 31.69035230390206, 3.3296004318351295, 27.41303135368143, 5.732310282291936, 20.795553044291115, 26.10002338571887, 22.2920720160704, 31.777415563181783, 33.174337424809984, 14.48865908280263, 29.234786957149915, 15.150384673340378, 31.959221076982445, 29.08922088453984, 1.5098832485532647, 1.5099202781975447, 2.4373573114748526, 1.1468145622238208, 1.1468077824267753, 1.1468029499755297, 1.1467978970842236, 1.1467981680763315, 1.146798857386525, 1.146796465610805, 1.14679457986638, 1.146792154964666, 1.1467913399112726, 1.1467910639293486, 1.1467918623168472, 1.1467886065273891, 1.146784091735025, 1.1467834483053814, 1.1467784716846792, 1.1467768192196766, 1.1467644543519957, 1.1467545036421365, 1.146773701974402, 3.357089726330175, 1.9732767653932046, 1.8361233180866554, 1.8537169734046404, 1.8610645004359219, 1.9932185823112851, 2.241412405223589, 31.777415563181783, 33.174337424809984, 6.0739379876994235, 9.96996119763137, 22.2920720160704, 8.337882140160522, 13.489832119263477, 17.69878776164041, 4.492667160373221, 97.29261886677428, 15.230598465343574, 5.801722115409732, 5.177760609770656, 31.69035230390206, 15.792088474798902, 3.282054289461814, 4.071392899687329, 8.395467847771457, 4.040789717976102, 29.234786957149915, 4.12102446231528, 3.8851642506694954, 7.778763494373623, 15.150384673340378, 11.137347403307134], \"Category\": [\"Default\", \"Default\", \"Default\", \"Default\", \"Default\", \"Default\", \"Default\", \"Default\", \"Default\", \"Default\", \"Default\", \"Default\", \"Default\", \"Default\", \"Default\", \"Default\", \"Default\", \"Default\", \"Default\", \"Default\", \"Default\", \"Default\", \"Default\", \"Default\", \"Default\", \"Default\", \"Default\", \"Default\", \"Default\", \"Default\", \"Topic1\", \"Topic1\", \"Topic1\", \"Topic1\", \"Topic1\", \"Topic1\", \"Topic1\", \"Topic1\", \"Topic1\", \"Topic1\", \"Topic1\", \"Topic1\", \"Topic1\", \"Topic1\", \"Topic1\", \"Topic1\", \"Topic1\", \"Topic1\", \"Topic1\", \"Topic1\", \"Topic1\", \"Topic1\", \"Topic1\", \"Topic1\", \"Topic1\", \"Topic1\", \"Topic1\", \"Topic1\", \"Topic1\", \"Topic1\", \"Topic1\", \"Topic1\", \"Topic1\", \"Topic1\", \"Topic1\", \"Topic1\", \"Topic1\", \"Topic1\", \"Topic1\", \"Topic1\", \"Topic1\", \"Topic1\", \"Topic1\", \"Topic1\", \"Topic1\", \"Topic1\", \"Topic1\", \"Topic1\", \"Topic1\", \"Topic1\", \"Topic1\", \"Topic2\", \"Topic2\", \"Topic2\", \"Topic2\", \"Topic2\", \"Topic2\", \"Topic2\", \"Topic2\", \"Topic2\", \"Topic2\", \"Topic2\", \"Topic2\", \"Topic2\", \"Topic2\", \"Topic2\", \"Topic2\", \"Topic2\", \"Topic2\", \"Topic2\", \"Topic2\", \"Topic2\", \"Topic2\", \"Topic2\", \"Topic2\", \"Topic2\", \"Topic2\", \"Topic2\", \"Topic2\", \"Topic2\", \"Topic2\", \"Topic2\", \"Topic2\", \"Topic2\", \"Topic2\", \"Topic2\", \"Topic2\", \"Topic2\", \"Topic2\", \"Topic2\", \"Topic2\", \"Topic2\", \"Topic2\", \"Topic2\", \"Topic2\", \"Topic2\", \"Topic2\", \"Topic2\", \"Topic2\", \"Topic2\", \"Topic2\", \"Topic2\", \"Topic2\", \"Topic2\", \"Topic2\", \"Topic2\", \"Topic2\", \"Topic2\", \"Topic2\", \"Topic2\", \"Topic2\", \"Topic3\", \"Topic3\", \"Topic3\", \"Topic3\", \"Topic3\", \"Topic3\", \"Topic3\", \"Topic3\", \"Topic3\", \"Topic3\", \"Topic3\", \"Topic3\", \"Topic3\", \"Topic3\", \"Topic3\", \"Topic3\", \"Topic3\", \"Topic3\", \"Topic3\", \"Topic3\", \"Topic3\", \"Topic3\", \"Topic3\", \"Topic3\", \"Topic3\", \"Topic3\", \"Topic3\", \"Topic3\", \"Topic3\", \"Topic3\", \"Topic3\", \"Topic3\", \"Topic3\", \"Topic3\", \"Topic3\", \"Topic3\", \"Topic3\", \"Topic3\", \"Topic3\", \"Topic3\", \"Topic3\", \"Topic3\", \"Topic3\", \"Topic3\", \"Topic3\", \"Topic3\", \"Topic3\", \"Topic3\", \"Topic3\", \"Topic3\", \"Topic3\", \"Topic3\", \"Topic3\", \"Topic4\", \"Topic4\", \"Topic4\", \"Topic4\", \"Topic4\", \"Topic4\", \"Topic4\", \"Topic4\", \"Topic4\", \"Topic4\", \"Topic4\", \"Topic4\", \"Topic4\", \"Topic4\", \"Topic4\", \"Topic4\", \"Topic4\", \"Topic4\", \"Topic4\", \"Topic4\", \"Topic4\", \"Topic4\", \"Topic4\", \"Topic4\", \"Topic4\", \"Topic4\", \"Topic4\", \"Topic4\", \"Topic4\", \"Topic4\", \"Topic4\", \"Topic4\", \"Topic4\", \"Topic4\", \"Topic4\", \"Topic4\", \"Topic4\", \"Topic4\", \"Topic4\", \"Topic4\", \"Topic4\", \"Topic4\", \"Topic4\", \"Topic4\", \"Topic4\", \"Topic4\", \"Topic4\", \"Topic4\", \"Topic4\", \"Topic4\", \"Topic4\", \"Topic4\", \"Topic4\", \"Topic4\", \"Topic4\", \"Topic4\", \"Topic4\", \"Topic4\", \"Topic4\", \"Topic5\", \"Topic5\", \"Topic5\", \"Topic5\", \"Topic5\", \"Topic5\", \"Topic5\", \"Topic5\", \"Topic5\", \"Topic5\", \"Topic5\", \"Topic5\", \"Topic5\", \"Topic5\", \"Topic5\", \"Topic5\", \"Topic5\", \"Topic5\", \"Topic5\", \"Topic5\", \"Topic5\", \"Topic5\", \"Topic5\", \"Topic5\", \"Topic5\", \"Topic5\", \"Topic5\", \"Topic5\", \"Topic5\", \"Topic5\", \"Topic5\", \"Topic5\", \"Topic5\", \"Topic5\", \"Topic5\", \"Topic5\", \"Topic5\", \"Topic5\", \"Topic5\", \"Topic5\", \"Topic5\", \"Topic5\", \"Topic5\", \"Topic5\", \"Topic5\", \"Topic5\", \"Topic6\", \"Topic6\", \"Topic6\", \"Topic6\", \"Topic6\", \"Topic6\", \"Topic6\", \"Topic6\", \"Topic6\", \"Topic6\", \"Topic6\", \"Topic6\", \"Topic6\", \"Topic6\", \"Topic6\", \"Topic6\", \"Topic6\", \"Topic6\", \"Topic6\", \"Topic6\", \"Topic6\", \"Topic6\", \"Topic6\", \"Topic6\", \"Topic6\", \"Topic6\", \"Topic6\", \"Topic6\", \"Topic6\", \"Topic6\", \"Topic6\", \"Topic6\", \"Topic6\", \"Topic6\", \"Topic6\", \"Topic6\", \"Topic6\", \"Topic6\", \"Topic6\", \"Topic6\", \"Topic6\", \"Topic6\", \"Topic6\", \"Topic6\", \"Topic6\", \"Topic6\", \"Topic6\", \"Topic6\", \"Topic6\", \"Topic6\", \"Topic6\", \"Topic6\", \"Topic6\", \"Topic6\", \"Topic6\", \"Topic6\", \"Topic7\", \"Topic7\", \"Topic7\", \"Topic7\", \"Topic7\", \"Topic7\", \"Topic7\", \"Topic7\", \"Topic7\", \"Topic7\", \"Topic7\", \"Topic7\", \"Topic7\", \"Topic7\", \"Topic7\", \"Topic7\", \"Topic7\", \"Topic7\", \"Topic7\", \"Topic7\", \"Topic7\", \"Topic7\", \"Topic7\", \"Topic7\", \"Topic7\", \"Topic7\", \"Topic7\", \"Topic7\", \"Topic7\", \"Topic7\", \"Topic7\", \"Topic7\", \"Topic7\", \"Topic7\", \"Topic7\", \"Topic7\", \"Topic7\", \"Topic7\", \"Topic7\", \"Topic7\", \"Topic7\", \"Topic7\", \"Topic7\", \"Topic7\", \"Topic7\", \"Topic7\", \"Topic7\", \"Topic7\", \"Topic7\", \"Topic7\", \"Topic7\", \"Topic7\", \"Topic7\", \"Topic7\", \"Topic7\", \"Topic7\", \"Topic7\", \"Topic7\", \"Topic7\", \"Topic8\", \"Topic8\", \"Topic8\", \"Topic8\", \"Topic8\", \"Topic8\", \"Topic8\", \"Topic8\", \"Topic8\", \"Topic8\", \"Topic8\", \"Topic8\", \"Topic8\", \"Topic8\", \"Topic8\", \"Topic8\", \"Topic8\", \"Topic8\", \"Topic8\", \"Topic8\", \"Topic8\", \"Topic8\", \"Topic8\", \"Topic8\", \"Topic8\", \"Topic8\", \"Topic8\", \"Topic8\", \"Topic8\", \"Topic8\", \"Topic8\", \"Topic8\", \"Topic8\", \"Topic8\", \"Topic8\", \"Topic8\", \"Topic8\", \"Topic8\", \"Topic8\", \"Topic8\", \"Topic8\", \"Topic8\", \"Topic8\", \"Topic8\", \"Topic8\", \"Topic8\", \"Topic8\", \"Topic8\", \"Topic8\", \"Topic8\", \"Topic8\", \"Topic8\", \"Topic8\", \"Topic8\", \"Topic8\", \"Topic8\", \"Topic9\", \"Topic9\", \"Topic9\", \"Topic9\", \"Topic9\", \"Topic9\", \"Topic9\", \"Topic9\", \"Topic9\", \"Topic9\", \"Topic9\", \"Topic9\", \"Topic9\", \"Topic9\", \"Topic9\", \"Topic9\", \"Topic9\", \"Topic9\", \"Topic9\", \"Topic9\", \"Topic9\", \"Topic9\", \"Topic9\", \"Topic9\", \"Topic9\", \"Topic9\", \"Topic9\", \"Topic9\", \"Topic9\", \"Topic9\", \"Topic9\", \"Topic9\", \"Topic9\", \"Topic9\", \"Topic9\", \"Topic9\", \"Topic9\", \"Topic9\", \"Topic9\", \"Topic9\", \"Topic9\", \"Topic9\", \"Topic10\", \"Topic10\", \"Topic10\", \"Topic10\", \"Topic10\", \"Topic10\", \"Topic10\", \"Topic10\", \"Topic10\", \"Topic10\", \"Topic10\", \"Topic10\", \"Topic10\", \"Topic10\", \"Topic10\", \"Topic10\", \"Topic10\", \"Topic10\", \"Topic10\", \"Topic10\", \"Topic10\", \"Topic10\", \"Topic10\", \"Topic10\", \"Topic10\", \"Topic10\", \"Topic10\", \"Topic10\", \"Topic10\", \"Topic10\", \"Topic10\", \"Topic10\", \"Topic10\", \"Topic10\", \"Topic10\", \"Topic10\", \"Topic10\", \"Topic10\", \"Topic10\", \"Topic10\", \"Topic10\", \"Topic10\", \"Topic10\", \"Topic10\", \"Topic10\", \"Topic10\", \"Topic10\", \"Topic10\", \"Topic10\", \"Topic10\", \"Topic11\", \"Topic11\", \"Topic11\", \"Topic11\", \"Topic11\", \"Topic11\", \"Topic11\", \"Topic11\", \"Topic11\", \"Topic11\", \"Topic11\", \"Topic11\", \"Topic11\", \"Topic11\", \"Topic11\", \"Topic11\", \"Topic11\", \"Topic11\", \"Topic11\", \"Topic11\", \"Topic11\", \"Topic11\", \"Topic11\", \"Topic11\", \"Topic11\", \"Topic11\", \"Topic11\", \"Topic11\", \"Topic11\", \"Topic11\", \"Topic11\", \"Topic11\", \"Topic11\", \"Topic11\", \"Topic11\", \"Topic11\", \"Topic11\", \"Topic11\", \"Topic11\", \"Topic11\", \"Topic11\", \"Topic11\", \"Topic11\", \"Topic11\", \"Topic11\", \"Topic11\", \"Topic11\", \"Topic11\", \"Topic11\", \"Topic11\", \"Topic11\", \"Topic11\", \"Topic11\", \"Topic11\", \"Topic11\", \"Topic11\", \"Topic11\", \"Topic12\", \"Topic12\", \"Topic12\", \"Topic12\", \"Topic12\", \"Topic12\", \"Topic12\", \"Topic12\", \"Topic12\", \"Topic12\", \"Topic12\", \"Topic12\", \"Topic12\", \"Topic12\", \"Topic12\", \"Topic12\", \"Topic12\", \"Topic12\", \"Topic12\", \"Topic12\", \"Topic12\", \"Topic12\", \"Topic12\", \"Topic12\", \"Topic12\", \"Topic12\", \"Topic12\", \"Topic12\", \"Topic12\", \"Topic12\", \"Topic12\", \"Topic12\", \"Topic12\", \"Topic12\", \"Topic12\", \"Topic12\", \"Topic12\", \"Topic12\", \"Topic12\", \"Topic12\", \"Topic12\", \"Topic12\", \"Topic12\", \"Topic12\", \"Topic12\", \"Topic12\", \"Topic12\", \"Topic12\", \"Topic12\", \"Topic12\", \"Topic12\", \"Topic12\", \"Topic12\", \"Topic12\", \"Topic12\"], \"logprob\": [30.0, 29.0, 28.0, 27.0, 26.0, 25.0, 24.0, 23.0, 22.0, 21.0, 20.0, 19.0, 18.0, 17.0, 16.0, 15.0, 14.0, 13.0, 12.0, 11.0, 10.0, 9.0, 8.0, 7.0, 6.0, 5.0, 4.0, 3.0, 2.0, 1.0, -4.7506, -4.7506, -4.7506, -4.7507, -4.7506, -5.3972, -5.3972, -5.3973, -5.3973, -5.3973, -5.3973, -5.3973, -5.3973, -5.3973, -5.3974, -5.3972, -5.3972, -5.2522, -5.3973, -5.9812, -5.3209, -6.0153, -6.0153, -6.0329, -4.6614, -6.0686, -6.0743, -6.0831, -6.0936, -6.1008, -4.6068, -5.0757, -3.8715, -5.3967, -3.9854, -5.0383, -4.5934, -4.9551, -4.5257, -4.0896, -4.9782, -4.914, -5.0737, -5.1921, -5.2781, -5.3018, -5.3181, -5.3713, -5.3965, -5.3965, -5.3967, -4.338, -4.8871, -4.8871, -4.8872, -4.8872, -5.1889, -5.5562, -5.5562, -4.901, -5.172, -5.6768, -4.8876, -5.5563, -6.2028, -6.2028, -6.2028, -6.2028, -6.2028, -6.2028, -6.2028, -6.2028, -6.2028, -6.2028, -6.2028, -6.2028, -6.2028, -6.2029, -6.2029, -6.2029, -6.2029, -5.5667, -5.1021, -4.938, -5.5948, -5.6045, -4.3021, -3.5804, -4.4032, -4.4062, -4.8394, -5.1925, -5.5562, -3.9629, -4.0802, -4.744, -3.1869, -5.5323, -4.1659, -5.1961, -4.3086, -4.9436, -4.4171, -4.4399, -4.8233, -4.6737, -4.8864, -4.9035, -4.9798, -5.146, -5.154, -4.2023, -5.0896, -4.642, -5.0896, -5.7362, -5.7362, -5.7362, -5.7363, -5.7363, -5.7363, -5.7363, -5.7363, -5.7554, -5.758, -5.0897, -5.0896, -5.7709, -5.118, -4.6998, -5.796, -5.7982, -5.8138, -5.8223, -5.8225, -5.7623, -5.825, -5.8308, -5.1027, -5.8339, -5.8341, -5.0897, -4.3528, -4.496, -4.2611, -3.1932, -4.1832, -3.9679, -4.7792, -4.1847, -4.7626, -4.459, -4.4984, -4.5439, -4.5355, -4.8292, -4.9496, -5.4242, -5.133, -5.1637, -4.8716, -5.5052, -5.2321, -5.0605, -5.7789, -5.7848, -5.7881, -5.7939, -5.7989, -5.815, -5.8259, -5.8635, -5.8899, -5.8942, -5.918, -4.4731, -5.955, -5.3554, -6.1, -5.7764, -6.1549, -6.1687, -5.295, -6.1706, -5.2877, -6.1883, -6.197, -6.2056, -5.7217, -6.2265, -6.227, -6.2269, -6.2316, -6.2414, -6.0061, -5.7591, -5.2304, -3.6035, -4.4336, -4.0162, -5.617, -4.4644, -5.4627, -4.8529, -5.8303, -5.2871, -5.3916, -5.5177, -4.2345, -5.1435, -5.2102, -5.2711, -5.4332, -5.4146, -5.1286, -5.0932, -5.3011, -5.5237, -5.2419, -5.2277, -5.2571, -5.5077, -5.5007, -3.8221, -4.4912, -4.1018, -4.1018, -5.1378, -5.1379, -5.1379, -4.4913, -5.1378, -5.1378, -5.1378, -4.4912, -5.1378, -5.1378, -5.049, -5.1378, -5.1379, -5.1378, -5.1378, -5.1378, -5.7213, -6.2193, -5.0397, -6.6973, -6.7549, -6.7494, -6.7247, -5.8803, -6.7358, -6.7838, -5.1378, -5.5857, -5.1378, -4.7568, -6.0696, -4.3439, -5.9361, -5.1378, -4.4335, -5.4951, -5.1378, -4.7188, -4.2853, -5.0302, -4.9945, -5.1378, -4.1683, -5.1289, -4.5087, -4.7467, -5.5182, -5.5183, -5.5183, -5.5183, -5.5183, -5.5183, -5.5183, -4.8492, -4.8492, -5.5892, -5.6413, -5.1288, -5.1288, -5.1288, -4.8492, -5.5061, -6.1649, -6.1649, -6.1649, -6.1649, -6.1649, -6.1649, -6.1649, -6.1649, -6.1649, -6.1649, -5.5348, -5.1694, -4.244, -5.3737, -5.1436, -5.065, -3.0671, -4.674, -5.1532, -5.1021, -4.1247, -4.126, -4.2279, -4.2045, -4.2717, -4.3107, -5.042, -4.7976, -5.1288, -4.6474, -4.9289, -5.0181, -5.0127, -4.9505, -4.9402, -5.1181, -5.3364, -5.3364, -5.3364, -5.3364, -5.3364, -5.1787, -4.4714, -5.664, -5.6812, -4.3003, -5.8767, -6.0303, -6.0383, -6.0732, -6.1075, -6.1149, -6.1248, -6.1292, -5.6923, -6.1127, -4.6996, -6.1525, -6.1756, -6.1855, -6.1841, -5.699, -6.1953, -6.2031, -6.2344, -6.2402, -5.3364, -4.8091, -5.0507, -5.0204, -5.3016, -4.9022, -4.9746, -3.6739, -4.2734, -4.8614, -4.4269, -5.6645, -5.3412, -4.9869, -4.7757, -4.8548, -4.2337, -4.2032, -4.686, -3.7738, -5.0049, -4.5952, -4.9069, -4.7885, -5.1242, -5.1376, -5.1129, -5.2624, -5.2418, -4.8086, -5.0268, -5.3064, -5.3064, -5.6959, -5.6959, -5.6959, -5.6959, -5.6959, -5.696, -5.696, -5.3967, -5.3064, -5.5189, -5.2779, -5.7764, -5.7865, -5.23, -5.1127, -5.2378, -5.6333, -5.3065, -5.3065, -4.9987, -6.3425, -6.3425, -6.3425, -6.3425, -6.3425, -6.3425, -3.7709, -5.3646, -6.1088, -5.0733, -5.0366, -5.6453, -2.9247, -5.0145, -3.9876, -4.1041, -4.0214, -4.5288, -4.164, -4.291, -4.8573, -4.3647, -4.9791, -4.6066, -4.7489, -5.0737, -4.6917, -5.1024, -5.1326, -5.1739, -5.223, -5.292, -4.4348, -5.0814, -5.0814, -5.0814, -5.0814, -5.0814, -5.0814, -5.0814, -5.0815, -5.0815, -4.4348, -4.8256, -5.0815, -5.0815, -5.2689, -5.2316, -4.9426, -5.8015, -4.9941, -5.6671, -4.9542, -6.4872, -6.5019, -5.0337, -3.9942, -6.5379, -6.5407, -6.5876, -6.5908, -5.0814, -5.7265, -5.0647, -4.7587, -4.8643, -5.5963, -4.1914, -4.7983, -4.6667, -4.8662, -5.0715, -4.5945, -5.0024, -4.2865, -4.5666, -4.1771, -4.5665, -5.2131, -5.2131, -5.2132, -5.2132, -5.2132, -5.2132, -5.2132, -5.2133, -5.2698, -5.3209, -5.3344, -5.3521, -4.1771, -4.9737, -4.5112, -5.6623, -5.7969, -6.2065, -5.2764, -6.2054, -6.2689, -4.9434, -6.2768, -4.5451, -6.2914, -6.2977, -5.2356, -4.9974, -4.5546, -5.1904, -4.1003, -5.3395, -3.4016, -5.1674, -4.3591, -4.6758, -4.6104, -4.8169, -5.0906, -4.8377, -5.0058, -5.0269, -5.1364, -5.1745, -5.1933, -5.2004, -4.7859, -5.1754, -5.1755, -4.9743, -5.2115, -5.2619, -4.7859, -4.8648, -5.3356, -5.3561, -4.6769, -5.2892, -5.822, -5.822, -5.822, -5.822, -5.822, -5.822, -5.822, -5.822, -5.822, -5.822, -5.822, -5.8221, -5.8221, -5.8221, -5.8221, -5.8221, -5.8505, -5.8517, -4.786, -5.1754, -5.1754, -5.1754, -5.1754, -3.1086, -4.9332, -4.6257, -5.0533, -4.4878, -5.3659, -5.1578, -4.786, -4.514, -5.4657, -4.6069, -5.2735, -4.8047, -4.7554, -4.8317, -4.7225, -4.8019, -4.9913, -4.9953, -5.0743, -5.0169, -5.0437, -4.8071, -4.8071, -4.4175, -5.4536, -5.4536, -5.4536, -5.4536, -5.4536, -5.4536, -5.4536, -5.4536, -5.4536, -5.4536, -5.4536, -5.4536, -5.4536, -5.4536, -5.4536, -5.4537, -5.4537, -5.4537, -5.4537, -5.4537, -4.4441, -5.3415, -5.4537, -5.4536, -5.4536, -5.4537, -5.4537, -3.4395, -3.6269, -4.8272, -4.6131, -4.292, -4.807, -4.8418, -4.7935, -5.1227, -4.423, -4.9333, -5.167, -5.2028, -4.9488, -5.0789, -5.3159, -5.3003, -5.2307, -5.3117, -5.1072, -5.3263, -5.351, -5.335, -5.3001, -5.3213], \"loglift\": [30.0, 29.0, 28.0, 27.0, 26.0, 25.0, 24.0, 23.0, 22.0, 21.0, 20.0, 19.0, 18.0, 17.0, 16.0, 15.0, 14.0, 13.0, 12.0, 11.0, 10.0, 9.0, 8.0, 7.0, 6.0, 5.0, 4.0, 3.0, 2.0, 1.0, 2.6336, 2.6336, 2.6336, 2.6336, 2.6336, 2.3035, 2.3035, 2.3034, 2.3034, 2.3034, 2.3034, 2.3034, 2.3034, 2.3034, 2.3034, 1.8638, 1.8022, 1.7062, 1.6845, 1.6114, 1.5783, 1.5733, 1.5644, 1.5482, 1.5151, 1.5093, 1.5067, 1.4906, 1.4814, 1.4751, 1.1882, 1.0888, 0.5494, 1.1771, 0.4785, 0.97, 0.5697, 0.6923, 0.2927, -0.7447, 0.271, -0.3618, 0.1657, 0.6819, 0.6469, -0.0972, -0.0377, 0.7906, 0.6536, 0.5632, 0.181, 1.7913, 1.7085, 1.7085, 1.7085, 1.7085, 1.6392, 1.5437, 1.5437, 1.5398, 1.4559, 1.4254, 1.403, 1.3002, 1.2945, 1.2944, 1.2944, 1.2944, 1.2944, 1.2944, 1.2944, 1.2944, 1.2944, 1.2944, 1.2944, 1.2944, 1.2944, 1.2944, 1.2944, 1.2944, 1.2944, 1.2889, 1.2427, 1.2263, 1.2388, 1.2358, 1.0186, 0.8778, 0.9513, 0.9023, 0.9624, 0.9972, 1.0702, 0.5038, 0.5314, 0.7562, 0.158, 1.045, 0.4948, 0.8597, 0.2387, 0.6342, 0.1352, -0.019, 0.426, 0.2141, 0.394, 0.1456, 0.2595, 0.3663, 0.0506, 2.1906, 2.1195, 1.8761, 1.8515, 1.8411, 1.8411, 1.8411, 1.8411, 1.8411, 1.8411, 1.841, 1.841, 1.821, 1.8183, 1.8078, 1.8069, 1.8049, 1.7989, 1.7951, 1.7192, 1.7148, 1.6843, 1.6678, 1.6674, 1.6672, 1.6626, 1.6515, 1.65, 1.6455, 1.6453, 1.6236, 1.5576, 1.1189, 0.788, 0.1517, 0.7047, 0.4987, 1.0184, 0.2735, 0.7601, 0.0049, 0.0539, 0.1168, 0.0118, 0.3754, 0.5506, 1.3236, 0.7057, 0.7075, -0.26, 1.199, 0.4205, -0.6397, 1.2657, 1.2626, 1.2608, 1.2578, 1.2551, 1.2465, 1.2406, 1.2201, 1.2056, 1.2032, 1.1899, 1.1794, 1.1689, 1.0578, 1.0435, 1.0356, 1.0062, 0.9967, 0.9952, 0.9945, 0.9906, 0.9849, 0.9777, 0.9701, 0.967, 0.9572, 0.9571, 0.9571, 0.9523, 0.9481, 0.9449, 0.9372, 0.9127, 0.8174, 0.8468, 0.8022, 0.9011, 0.7349, 0.8695, 0.6509, 0.9093, 0.7213, 0.7342, 0.7711, -0.8896, 0.2111, 0.29, 0.3089, 0.4408, 0.339, -0.2407, -0.4325, -0.0518, 0.4047, -0.6303, -0.761, -0.7932, 0.1619, -0.3376, 3.2783, 3.1328, 3.1311, 2.7471, 2.7211, 2.721, 2.721, 2.5404, 2.1902, 1.9777, 1.937, 1.6968, 1.5815, 1.3178, 1.3178, 1.2133, 1.0247, 0.9753, 0.9469, 0.8554, 0.8356, 0.8325, 0.8315, 0.7814, 0.7517, 0.7482, 0.7362, 0.7303, 0.7294, 0.713, 0.7009, 0.7046, 0.664, 0.5978, 0.6874, 0.4745, 0.6664, 0.5096, 0.1781, 0.5133, 0.1829, -0.298, -0.9404, -0.1423, -0.4422, 0.1114, 1.9139, 1.7458, 1.6955, 1.6503, 1.6331, 1.6331, 1.6331, 1.6331, 1.6331, 1.6331, 1.6331, 1.6298, 1.6176, 1.5937, 1.5639, 1.5466, 1.5134, 1.4952, 1.4659, 1.3895, 1.3704, 1.3704, 1.3704, 1.3704, 1.3704, 1.3704, 1.3704, 1.3704, 1.3704, 1.3704, 1.3261, 1.2747, 0.9606, 1.1957, 1.1077, 1.0607, 0.2778, 0.8383, 0.97, 0.9481, 0.536, 0.3378, 0.3194, 0.2621, 0.2806, 0.1475, 0.8972, 0.4417, 0.9262, -0.0358, 0.3796, 0.5597, 0.308, -0.1321, -0.5194, -0.2832, 2.2384, 2.2384, 2.2384, 2.2383, 2.2383, 2.2038, 2.1834, 1.8724, 1.8306, 1.6594, 1.6413, 1.5801, 1.5792, 1.5378, 1.4996, 1.4949, 1.4939, 1.487, 1.4856, 1.484, 1.4648, 1.4471, 1.443, 1.4374, 1.4305, 1.4249, 1.4236, 1.4053, 1.3962, 1.3879, 1.3794, 1.3098, 1.3004, 1.2629, 1.2638, 1.1825, 1.188, 0.8733, 0.7757, 0.9773, 0.7362, 1.2854, 1.1224, 0.8871, 0.747, 0.7601, 0.3186, 0.2606, 0.5633, -0.4289, 0.6182, -0.137, 0.3324, -0.3219, 0.6707, 0.5098, 0.0864, 0.2378, -0.6302, 1.5358, 1.5011, 1.4464, 1.4464, 1.3476, 1.3476, 1.3476, 1.3476, 1.3476, 1.3476, 1.3476, 1.296, 1.2681, 1.2677, 1.265, 1.2328, 1.2153, 1.2108, 1.2078, 1.2037, 1.1958, 1.1575, 1.1257, 1.1202, 1.1125, 1.1125, 1.1125, 1.1125, 1.1125, 1.1125, 1.0639, 1.0917, 1.0903, 0.9672, 0.9174, 0.9972, 0.4202, 0.85, 0.5646, 0.5076, 0.4425, 0.6343, 0.3832, 0.1672, 0.6465, 0.1019, 0.6683, 0.2812, 0.3003, 0.6799, -0.031, 0.0969, 0.1067, 0.0753, 0.3569, 0.6316, 3.2806, 2.8343, 2.8343, 2.8343, 2.8343, 2.8343, 2.8343, 2.8343, 2.8343, 2.8342, 2.8065, 2.6862, 2.348, 2.2426, 2.1136, 2.0847, 2.0656, 1.8569, 1.6264, 1.619, 1.2102, 1.1033, 1.0873, 1.0795, 1.0549, 1.0482, 1.0451, 0.9943, 0.9909, 0.9743, 0.9237, 0.8429, 0.7536, 0.7156, 0.8006, 0.2725, 0.0201, -0.2458, -0.2055, 0.1678, -1.2496, -0.1145, 3.0087, 3.007, 2.8368, 2.6391, 2.6135, 2.6135, 2.6135, 2.6135, 2.6135, 2.6135, 2.6135, 2.6134, 2.5335, 2.4629, 2.4444, 2.4205, 2.2595, 1.6059, 1.6019, 1.5368, 1.4335, 1.4241, 1.4162, 1.3706, 1.3592, 1.3399, 1.3319, 1.3308, 1.3276, 1.3252, 1.2917, 1.1212, 0.9578, 1.0609, 0.7346, 1.027, -0.0567, 0.9173, 0.1882, 0.2121, 0.0503, 0.3877, 0.774, -0.2854, -0.5419, -0.5688, 0.1029, 0.1462, 0.9299, -0.7337, 2.1562, 2.035, 2.035, 2.0008, 1.9988, 1.9626, 1.8901, 1.8655, 1.8654, 1.8439, 1.8339, 1.7856, 1.7563, 1.7563, 1.7563, 1.7563, 1.7563, 1.7563, 1.7563, 1.7563, 1.7563, 1.7563, 1.7563, 1.7563, 1.7562, 1.7562, 1.7562, 1.7562, 1.7277, 1.7266, 1.4255, 1.5187, 1.5165, 1.4999, 1.483, 0.2363, 0.9904, 0.6829, 1.0025, 0.3471, 1.2753, 1.0048, 0.4534, -0.0474, 1.254, 0.0047, 0.903, 0.0832, -0.0947, -0.0133, -0.2586, -0.3811, 0.258, -0.448, 0.1303, -0.5588, -0.4915, 2.7035, 2.7035, 2.6142, 2.3321, 2.3321, 2.3321, 2.332, 2.332, 2.332, 2.332, 2.332, 2.332, 2.332, 2.332, 2.332, 2.332, 2.332, 2.332, 2.332, 2.332, 2.332, 2.332, 2.3319, 2.2675, 1.9014, 1.8613, 1.8519, 1.8479, 1.7791, 1.6619, 1.0243, 0.7939, 1.2914, 1.01, 0.5263, 0.9948, 0.4789, 0.2556, 1.2975, -1.0781, 0.266, 0.9975, 1.0755, -0.4822, 0.0842, 1.4183, 1.2183, 0.5642, 1.2145, -0.5599, 1.1802, 1.2145, 0.5363, -0.0955, 0.1911]}, \"token.table\": {\"Topic\": [1, 2, 4, 6, 7, 8, 11, 8, 6, 6, 2, 3, 4, 11, 2, 3, 3, 4, 11, 3, 11, 1, 4, 6, 6, 2, 11, 1, 3, 7, 4, 4, 2, 4, 2, 3, 4, 6, 8, 10, 11, 2, 2, 6, 7, 8, 11, 2, 4, 6, 11, 4, 5, 8, 3, 3, 8, 8, 4, 2, 3, 4, 6, 7, 8, 2, 1, 2, 4, 6, 7, 8, 11, 3, 7, 6, 2, 6, 8, 11, 11, 3, 8, 2, 3, 2, 6, 2, 6, 6, 1, 4, 11, 6, 2, 12, 6, 8, 3, 7, 11, 2, 2, 3, 4, 5, 6, 7, 8, 11, 6, 3, 2, 11, 6, 3, 6, 6, 8, 5, 2, 4, 2, 4, 6, 8, 10, 11, 4, 6, 8, 11, 3, 11, 2, 3, 6, 11, 4, 8, 2, 6, 1, 2, 6, 7, 8, 11, 11, 2, 4, 6, 8, 10, 11, 4, 1, 3, 4, 6, 7, 8, 11, 2, 6, 4, 4, 3, 8, 11, 2, 11, 4, 6, 7, 8, 8, 4, 1, 2, 3, 4, 5, 6, 7, 8, 10, 11, 12, 4, 8, 2, 3, 8, 11, 11, 1, 8, 3, 11, 3, 2, 11, 4, 6, 4, 6, 8, 12, 1, 2, 3, 4, 6, 7, 8, 10, 11, 2, 3, 6, 7, 8, 11, 4, 4, 2, 6, 2, 10, 6, 4, 6, 8, 8, 11, 8, 11, 8, 2, 6, 8, 2, 3, 6, 7, 8, 9, 11, 12, 4, 6, 11, 2, 3, 4, 6, 7, 8, 11, 6, 2, 4, 12, 2, 2, 1, 2, 3, 6, 4, 8, 4, 11, 11, 2, 7, 8, 11, 11, 4, 2, 8, 11, 1, 8, 2, 3, 2, 3, 6, 8, 8, 4, 6, 3, 3, 6, 11, 6, 11, 3, 4, 8, 4, 4, 6, 8, 3, 8, 4, 3, 11, 8, 2, 3, 11, 1, 1, 2, 4, 11, 8, 11, 4, 7, 8, 2, 4, 8, 2, 4, 6, 8, 11, 2, 4, 6, 11, 6, 1, 2, 3, 4, 6, 7, 8, 9, 11, 12, 8, 2, 3, 2, 3, 4, 3, 7, 8, 4, 2, 4, 6, 10, 6, 11, 8, 2, 11, 2, 3, 4, 7, 11, 2, 6, 8, 11, 12, 11, 6, 4, 6, 8, 11, 2, 7, 8, 12, 11, 11, 2, 8, 2, 3, 4, 8, 2, 5, 6, 8, 11, 5, 2, 3, 4, 7, 8, 12, 1, 2, 2, 3, 4, 1, 4, 2, 3, 7, 8, 3, 6, 3, 6, 8, 2, 3, 7, 8, 2, 11, 4, 8, 3, 6, 7, 4, 6, 4, 6, 8, 11, 3, 11, 1, 2, 3, 6, 7, 8, 1, 2, 3, 4, 6, 8, 4, 6, 1, 2, 3, 6, 8, 2, 4, 2, 3, 4, 6, 8, 6, 8, 4, 8, 8, 11, 6, 4, 8, 2, 4, 6, 11, 3, 4, 11, 12, 4, 6, 6, 8, 2, 3, 8, 1, 3, 4, 8, 12, 2, 8, 11, 2, 10, 2, 3, 4, 6, 7, 8, 11, 12, 3, 4, 7, 6, 7, 8, 8, 2, 3, 6, 11, 4, 6, 7, 8, 2, 3, 11, 6, 1, 2, 4, 6, 7, 8, 11, 12, 2, 4, 6, 8, 11, 2, 4, 6, 8, 12, 7, 1, 2, 4, 6, 7, 8, 11, 6, 8, 11, 6, 2, 4, 1, 2, 3, 4, 6, 8, 10, 11, 2, 2, 3, 4, 7, 8, 11, 2, 3, 4, 6, 8, 11, 2, 7, 2, 6, 3, 4, 8, 2, 3, 4, 8, 8, 11, 11, 4, 6, 11, 6, 1, 4, 8, 4, 6, 2, 6, 8, 6, 2, 3, 4, 6, 8, 10, 11, 4, 1, 4, 2, 3, 7, 8, 11, 2, 3, 4, 6, 7, 8, 1, 1, 2, 2, 3, 4, 6, 7, 8, 10, 11, 12, 7, 4, 11, 2, 7, 8, 1, 6, 4, 10, 1, 2, 4, 1, 2, 6, 7, 8, 11, 4, 8, 6, 8, 2, 3, 4, 6, 7, 8, 11, 3, 2, 2, 4, 6, 8, 12, 2, 3, 6, 8, 10, 11, 2, 8, 2, 4, 8, 4, 6, 6, 7, 8, 6, 11, 3, 8, 2, 3, 4, 7, 8, 11, 1, 2, 3, 4, 6, 7, 8, 11, 12, 7, 4, 2, 2, 8, 11, 2, 3, 1, 2, 3, 4, 2, 11, 2, 4, 6, 7, 8, 11, 12, 5, 12, 1, 1, 2, 3, 4, 8, 11, 2, 2, 2, 1, 2, 3, 4, 6, 7, 8, 2, 6, 7, 8, 2, 3, 4, 6, 8, 1, 2, 4, 5, 6, 8, 11, 12, 4, 6, 1, 2, 11, 8, 5, 1, 1, 2, 4, 6, 4, 4, 8, 11, 2, 3, 4, 6, 7, 8, 10, 11, 2, 3, 4, 6, 8, 8, 1, 2, 3, 4, 6, 8, 1, 2, 3, 4, 6, 8, 3, 6, 1, 3, 10, 4, 7, 8, 3, 3, 4, 3, 4, 4, 3, 8, 4], \"Freq\": [0.06833714989965667, 0.20501144969896998, 0.06833714989965667, 0.20501144969896998, 0.06833714989965667, 0.20501144969896998, 0.13667429979931334, 0.6264873040519234, 0.716453004121545, 0.678861987671594, 0.6535169989847676, 0.6419754347654867, 0.46896207518225136, 0.7087108778987292, 0.5517829728096645, 0.7080038443921292, 0.6639192510986673, 0.4777508918082308, 0.708692727992006, 0.7080261992225942, 0.7086910217405662, 0.8009913407619621, 0.3458757622382599, 0.3458757622382599, 0.7112606282691057, 0.6535350410144607, 0.7087064250419933, 0.8009886933340117, 0.6472868720846569, 0.7061744742934406, 0.4776001393577604, 0.8370989263183033, 0.6535373371095541, 0.3117340062359954, 0.09120920379611992, 0.04560460189805996, 0.04560460189805996, 0.09120920379611992, 0.5472552227767196, 0.04560460189805996, 0.1368138056941799, 0.6535297726006374, 0.440222958579665, 0.3315919617780582, 0.1657959808890291, 0.1657959808890291, 0.1657959808890291, 0.3661632504229168, 0.1464653001691667, 0.21969795025375008, 0.1464653001691667, 0.5104344533031026, 0.3417423401375116, 0.3417423401375116, 0.7073714665519294, 0.7080075025926842, 0.7963798968608086, 0.8022417859395945, 0.6537012218797715, 0.19898448565427804, 0.19898448565427804, 0.09949224282713902, 0.09949224282713902, 0.09949224282713902, 0.19898448565427804, 0.878491771796473, 0.06901949961587224, 0.2070584988476167, 0.2070584988476167, 0.06901949961587224, 0.06901949961587224, 0.2070584988476167, 0.13803899923174448, 0.6419616824622718, 0.7062024480146217, 0.7110945673804496, 0.1396521635364733, 0.1396521635364733, 0.41895649060941986, 0.1396521635364733, 0.7086984890967246, 0.31038856996093095, 0.31038856996093095, 0.23987001130924304, 0.4797400226184861, 0.6731052797942126, 0.3365526398971063, 0.33880726251078347, 0.33880726251078347, 0.46243753837610596, 0.38130927340606585, 0.38130927340606585, 0.38130927340606585, 0.7081782345145483, 0.2978770546872325, 0.2978770546872325, 0.2252705854678993, 0.6758117564036978, 0.2983759673189205, 0.2983759673189205, 0.2983759673189205, 0.7958279623919375, 0.2553530074688342, 0.07295800213395262, 0.10943700320092895, 0.03647900106697631, 0.10943700320092895, 0.03647900106697631, 0.2918320085358105, 0.07295800213395262, 0.6788638066401702, 0.7068974820831789, 0.8320192151493946, 0.7087092567366666, 0.46244966041293584, 0.6498035727539364, 0.2166011909179788, 0.7174228864056319, 0.17935572160140797, 0.439480248084415, 0.5209557215012172, 0.2604778607506086, 0.1795759733063654, 0.0897879866531827, 0.26936395995954815, 0.1795759733063654, 0.0897879866531827, 0.0897879866531827, 0.24265810823121847, 0.24265810823121847, 0.24265810823121847, 0.24265810823121847, 0.708038096082427, 0.7087059881560543, 0.30921083180179465, 0.15460541590089732, 0.15460541590089732, 0.15460541590089732, 0.26710370822212764, 0.6700993422329121, 0.5471276031009652, 0.2735638015504826, 0.10277338878163983, 0.10277338878163983, 0.10277338878163983, 0.10277338878163983, 0.3083201663449195, 0.10277338878163983, 0.7087000725710387, 0.25831731941461905, 0.12915865970730953, 0.12915865970730953, 0.12915865970730953, 0.12915865970730953, 0.12915865970730953, 0.26928866730340006, 0.12890939340336732, 0.12890939340336732, 0.25781878680673465, 0.12890939340336732, 0.12890939340336732, 0.12890939340336732, 0.12890939340336732, 0.27791643071997074, 0.5558328614399415, 0.47784283729362725, 0.8348371791434912, 0.2872746714263987, 0.2872746714263987, 0.2872746714263987, 0.6535361665005318, 0.7086903530402827, 0.1941113713682818, 0.1941113713682818, 0.1941113713682818, 0.1941113713682818, 0.5004859000560326, 0.8496584036684918, 0.020556543993729477, 0.17473062394670055, 0.09250444797178264, 0.08222617597491791, 0.010278271996864739, 0.17473062394670055, 0.030834815990594216, 0.27751334391534793, 0.020556543993729477, 0.10278271996864739, 0.010278271996864739, 0.27196021045536256, 0.27196021045536256, 0.5059354660626885, 0.25973952952467, 0.77921858857401, 0.708695896147106, 0.48545676180430575, 0.5836810008121611, 0.6264824314698882, 0.3747339679308915, 0.3747339679308915, 0.6107376007444204, 0.6816928479415125, 0.2272309493138375, 0.5067712839565793, 0.6788665530462262, 0.4185800993724029, 0.5458086615540744, 0.2729043307770372, 0.6623028641175912, 0.03437699496900152, 0.1718849748450076, 0.06875398993800304, 0.06875398993800304, 0.1718849748450076, 0.06875398993800304, 0.30939295472101364, 0.03437699496900152, 0.06875398993800304, 0.12443902423385289, 0.12443902423385289, 0.24887804846770578, 0.12443902423385289, 0.12443902423385289, 0.12443902423385289, 0.8312050058901084, 0.4909911498365837, 0.23322934589832006, 0.6996880376949602, 0.40302764635507476, 0.40302764635507476, 0.46246125045470826, 0.247762813847271, 0.247762813847271, 0.5846090330633738, 0.5559559336004551, 0.27797796680022757, 0.28749379689211185, 0.5749875937842237, 0.6264853513590537, 0.669406574312795, 0.46244489534158634, 0.8253833321595007, 0.16950313436166914, 0.16950313436166914, 0.1130020895744461, 0.1130020895744461, 0.2260041791488922, 0.05650104478722305, 0.05650104478722305, 0.05650104478722305, 0.6414793291362828, 0.4624523253160824, 0.7087007798820305, 0.18146004757862214, 0.18146004757862214, 0.09073002378931107, 0.18146004757862214, 0.09073002378931107, 0.18146004757862214, 0.09073002378931107, 0.6788646426388006, 0.22258492879693464, 0.4451698575938693, 0.22258492879693464, 0.6535352494462127, 0.653530924340964, 0.5836631763426271, 0.24547618969206872, 0.49095237938413744, 0.24547618969206872, 0.586707506190423, 0.7070892643634776, 0.6532141389323477, 0.7086986849675881, 0.4974748642372315, 0.17204047652440338, 0.17204047652440338, 0.34408095304880676, 0.17204047652440338, 0.7086978939094202, 0.8335146288803081, 0.6535271658212619, 0.8303179737900871, 0.7086850115345625, 0.48521035207947016, 0.48521035207947016, 0.35838263605183224, 0.35838263605183224, 0.5169592802557249, 0.17231976008524166, 0.17231976008524166, 0.17231976008524166, 0.8303083586759861, 0.40768309957734017, 0.6788624390122022, 0.7080335838958118, 0.287318132880174, 0.574636265760348, 0.49056939361747615, 0.24368309814742917, 0.48736619629485833, 0.10330714574357505, 0.6198428744614503, 0.2066142914871501, 0.8453627986411973, 0.20146258009920584, 0.20146258009920584, 0.6043877402976175, 0.7080217055486475, 0.5496239094876668, 0.4803872355772478, 0.3034951404472179, 0.6069902808944359, 0.9313009356073996, 0.5866179738561678, 0.1955393246187226, 0.7502342601854023, 0.8009666848526533, 0.17444973331069796, 0.17444973331069796, 0.17444973331069796, 0.17444973331069796, 0.6976557775282276, 0.23255192584274254, 0.30452792880829, 0.152263964404145, 0.45679189321243496, 0.16581420248162385, 0.3316284049632477, 0.3316284049632477, 0.15449306033781718, 0.15449306033781718, 0.30898612067563436, 0.15449306033781718, 0.15449306033781718, 0.16872579513304367, 0.506177385399131, 0.16872579513304367, 0.16872579513304367, 0.9525537413839085, 0.06293778032462957, 0.031468890162314786, 0.06293778032462957, 0.09440667048694436, 0.18881334097388872, 0.06293778032462957, 0.2832200114608331, 0.031468890162314786, 0.06293778032462957, 0.09440667048694436, 0.4850302800940849, 0.5479539118280397, 0.2739769559140198, 0.41284334081058105, 0.20642167040529052, 0.4498882905370746, 0.489916938919582, 0.5628904248123272, 0.2814452124061636, 0.47264959746372376, 0.22626874784945294, 0.22626874784945294, 0.22626874784945294, 0.22626874784945294, 0.6524056574334213, 0.21746855247780708, 0.9312880330849005, 0.29273082921601995, 0.29273082921601995, 0.26738158738768036, 0.40107238108152055, 0.13369079369384018, 0.13369079369384018, 0.13369079369384018, 0.16463783496392953, 0.16463783496392953, 0.32927566992785906, 0.16463783496392953, 0.16463783496392953, 0.7086557832112887, 0.5446257286477123, 0.13547115374611204, 0.2709423074922241, 0.40641346123833616, 0.2709423074922241, 0.1646886303926714, 0.1646886303926714, 0.4940658911780142, 0.6622866216445162, 0.7086595701151754, 0.4905255947865562, 0.25165369958771067, 0.7549610987631321, 0.22858712531098496, 0.11429356265549248, 0.22858712531098496, 0.3428806879664774, 0.17645847555136954, 0.17645847555136954, 0.17645847555136954, 0.3529169511027391, 0.17645847555136954, 0.5017011224330579, 0.13131460359557734, 0.06565730179778867, 0.393943810786732, 0.06565730179778867, 0.196971905393366, 0.06565730179778867, 0.5836559410237493, 0.6535264052504595, 0.35876671849654174, 0.35876671849654174, 0.43813947110897644, 0.5836626151200451, 0.8390546995490619, 0.8784678767649047, 0.2991443478277652, 0.2991443478277652, 0.2991443478277652, 0.7080224837701234, 0.46243012485227153, 0.23060291520020687, 0.23060291520020687, 0.23060291520020687, 0.20773036688624122, 0.20773036688624122, 0.20773036688624122, 0.20773036688624122, 0.6535183006724705, 0.708702241688218, 0.30468722080888505, 0.30468722080888505, 0.3580722476185613, 0.3580722476185613, 0.5826737712960157, 0.44274499681597, 0.7013474451783084, 0.24747637709315568, 0.24747637709315568, 0.24747637709315568, 0.24747637709315568, 0.6653285958435222, 0.7754190724094507, 0.0958604132879961, 0.2875812398639883, 0.0958604132879961, 0.1917208265759922, 0.0958604132879961, 0.1917208265759922, 0.8009620897621105, 0.13612147208280315, 0.13612147208280315, 0.2722429441656063, 0.2722429441656063, 0.13612147208280315, 0.2584114823547169, 0.5168229647094338, 0.15374209374962677, 0.15374209374962677, 0.15374209374962677, 0.30748418749925355, 0.15374209374962677, 0.6535222116588285, 0.6126721441905918, 0.383423152947329, 0.07668463058946579, 0.23005389176839738, 0.07668463058946579, 0.07668463058946579, 0.6788652241196279, 0.6421884606493126, 0.6301831383274502, 0.8303433447845138, 0.7437187624549418, 0.42834847069743276, 0.7142284959142663, 0.47382898627313075, 0.4461472586077913, 0.18800009516109126, 0.18800009516109126, 0.3760001903221825, 0.18800009516109126, 0.7072922011639337, 0.5794010627565267, 0.1931336875855089, 0.1931336875855089, 0.8643059723407878, 0.7174111753097691, 0.3001933488560187, 0.3001933488560187, 0.3088763068202803, 0.3088763068202803, 0.6264813458108336, 0.17236261580745796, 0.17236261580745796, 0.3447252316149159, 0.17236261580745796, 0.17236261580745796, 0.27762874254290726, 0.27762874254290726, 0.27762874254290726, 0.6535277621004172, 0.705349639090485, 0.2524427599694104, 0.1262213799847052, 0.09466603498852891, 0.15777672498088152, 0.0315553449961763, 0.18933206997705782, 0.09466603498852891, 0.0315553449961763, 0.4748608109537019, 0.3780566979378282, 0.3780566979378282, 0.26106464465104756, 0.26106464465104756, 0.26106464465104756, 0.6264869771922367, 0.3535282593500834, 0.1767641296750417, 0.3535282593500834, 0.1767641296750417, 0.21100641383493482, 0.21100641383493482, 0.21100641383493482, 0.42201282766986964, 0.2920867054587245, 0.2920867054587245, 0.2920867054587245, 0.4880269933585936, 0.06332284685434769, 0.12664569370869538, 0.12664569370869538, 0.06332284685434769, 0.12664569370869538, 0.3166142342717384, 0.06332284685434769, 0.06332284685434769, 0.16538443612945708, 0.16538443612945708, 0.33076887225891416, 0.16538443612945708, 0.16538443612945708, 0.37064953483446256, 0.0741299069668925, 0.148259813933785, 0.148259813933785, 0.0741299069668925, 0.7061826072511876, 0.11911188490412074, 0.11911188490412074, 0.23822376980824148, 0.11911188490412074, 0.11911188490412074, 0.11911188490412074, 0.11911188490412074, 0.28246566329646433, 0.28246566329646433, 0.28246566329646433, 0.46244267399872435, 0.7958041425215823, 0.4587649905693456, 0.06600492473037113, 0.13200984946074226, 0.13200984946074226, 0.06600492473037113, 0.33002462365185564, 0.13200984946074226, 0.06600492473037113, 0.06600492473037113, 0.6535257607092088, 0.12769930908596933, 0.12769930908596933, 0.12769930908596933, 0.12769930908596933, 0.383097927257908, 0.12769930908596933, 0.12855513613742078, 0.12855513613742078, 0.25711027227484157, 0.12855513613742078, 0.12855513613742078, 0.12855513613742078, 0.7957979486970032, 0.7061825708022169, 0.2003827939548874, 0.6011483818646621, 0.19517940094545863, 0.39035880189091726, 0.19517940094545863, 0.08902562393714505, 0.08902562393714505, 0.3561024957485802, 0.3561024957485802, 0.6816671356455, 0.2272223785485, 0.7086954284292168, 0.4007541029445702, 0.47723887902131457, 0.485974738828408, 0.6788647180163822, 0.8009795638854759, 0.2273833678594714, 0.6821501035784142, 0.3784693834354582, 0.6788636868607248, 0.2666302363651995, 0.2666302363651995, 0.3999453545477993, 0.6788597986218344, 0.22988485149339044, 0.07662828383113014, 0.11494242574669522, 0.22988485149339044, 0.19157070957782538, 0.03831414191556507, 0.07662828383113014, 0.4669255666160285, 0.8010165133417062, 0.663117783602204, 0.1806582655168013, 0.1806582655168013, 0.1806582655168013, 0.1806582655168013, 0.3613165310336026, 0.2388577412802738, 0.2388577412802738, 0.1194288706401369, 0.1194288706401369, 0.1194288706401369, 0.2388577412802738, 0.5836706150339223, 0.8009867438000869, 0.6535081798802596, 0.17102912387658623, 0.06841164955063449, 0.034205824775317244, 0.17102912387658623, 0.13682329910126897, 0.27364659820253795, 0.034205824775317244, 0.06841164955063449, 0.034205824775317244, 0.6796171470384675, 0.6586789142884989, 0.32933945714424945, 0.232466415894062, 0.232466415894062, 0.232466415894062, 0.5160369095669113, 0.5160369095669113, 0.43728657513024877, 0.5339786650769816, 0.35934866818594097, 0.35934866818594097, 0.35934866818594097, 0.1356600505350431, 0.2713201010700862, 0.1356600505350431, 0.1356600505350431, 0.2713201010700862, 0.1356600505350431, 0.24561618704910473, 0.49123237409820947, 0.7140341470824901, 0.8303547607946525, 0.34418861378077764, 0.09386962194021209, 0.031289873980070694, 0.1564493699003535, 0.031289873980070694, 0.2190291178604949, 0.06257974796014139, 0.7080108395485533, 0.449870230556766, 0.359803598752026, 0.11993453291734199, 0.11993453291734199, 0.11993453291734199, 0.11993453291734199, 0.1637416575703068, 0.1637416575703068, 0.1637416575703068, 0.1637416575703068, 0.1637416575703068, 0.1637416575703068, 0.23077444198724986, 0.4615488839744997, 0.1452356710824819, 0.1452356710824819, 0.2904713421649638, 0.22797169281893437, 0.45594338563786874, 0.3183130172937028, 0.1591565086468514, 0.3183130172937028, 0.30033633778958996, 0.30033633778958996, 0.29567791608236443, 0.29567791608236443, 0.35482081197047943, 0.17741040598523972, 0.2661156089778596, 0.08870520299261986, 0.08870520299261986, 0.08870520299261986, 0.06028756428166871, 0.1507189107041718, 0.030143782140834356, 0.422012949971681, 0.09043134642250307, 0.030143782140834356, 0.06028756428166871, 0.06028756428166871, 0.06028756428166871, 0.70619327912575, 0.6596445796428547, 0.6535219890756467, 0.28015553631679396, 0.28015553631679396, 0.28015553631679396, 0.688113899784411, 0.3440569498922055, 0.25954197080307184, 0.25954197080307184, 0.25954197080307184, 0.25954197080307184, 0.688676051124417, 0.3443380255622085, 0.10030129307199075, 0.2006025861439815, 0.10030129307199075, 0.10030129307199075, 0.2006025861439815, 0.10030129307199075, 0.10030129307199075, 0.41028042761399514, 0.41028042761399514, 0.8009849771163191, 0.17190804746644126, 0.17190804746644126, 0.17190804746644126, 0.17190804746644126, 0.17190804746644126, 0.17190804746644126, 0.6535282846378349, 0.6535213890857201, 0.7958184002817067, 0.14045749454013526, 0.14045749454013526, 0.14045749454013526, 0.14045749454013526, 0.14045749454013526, 0.2809149890802705, 0.8303242202798585, 0.17234324668934647, 0.17234324668934647, 0.17234324668934647, 0.34468649337869295, 0.1376038422502987, 0.1376038422502987, 0.1376038422502987, 0.2752076845005974, 0.1376038422502987, 0.04485899737265778, 0.08971799474531555, 0.4485899737265778, 0.04485899737265778, 0.13457699211797333, 0.08971799474531555, 0.08971799474531555, 0.04485899737265778, 0.5863897750749634, 0.6788586142220187, 0.8009755866681042, 0.5453474944948077, 0.49058984790138704, 0.8303299455510273, 0.7418633029006673, 0.8009867767067556, 0.14744839251152617, 0.14744839251152617, 0.44234517753457847, 0.14744839251152617, 0.5823307098780611, 0.2109585848894748, 0.4219171697789496, 0.2109585848894748, 0.19234881570500464, 0.1442616117787535, 0.1442616117787535, 0.04808720392625116, 0.04808720392625116, 0.2404360196312558, 0.04808720392625116, 0.09617440785250232, 0.21016577949466206, 0.10508288974733103, 0.21016577949466206, 0.10508288974733103, 0.21016577949466206, 0.8303296230448071, 0.09606815526844636, 0.09606815526844636, 0.09606815526844636, 0.2882044658053391, 0.19213631053689273, 0.2882044658053391, 0.07119969781089122, 0.21359909343267366, 0.07119969781089122, 0.42719818686534733, 0.07119969781089122, 0.14239939562178244, 0.3657568143924621, 0.3657568143924621, 0.43134544726890534, 0.48823044330208354, 0.48823044330208354, 0.2573893754498742, 0.2573893754498742, 0.2573893754498742, 0.648775441182882, 0.6438372704441755, 0.4777710668610436, 0.6488767531209334, 0.473387339855264, 0.4688052037898754, 0.6540719298867177, 0.626485056043622, 0.6328936619266932], \"Term\": [\"\", \"\", \"\", \"\", \"\", \"\", \"\", \"\\\"\\\"ethiopia\\\"\\\"\", \"\\\"\\\"kazakh\", \"\\\"\\\"special\", \"(32\", \"(6\", \"(indonesian:\", \"1001\", \"13\", \"140\", \"14679\", \"14th\", \"15\", \"191\", \"1960\", \"1962\", \"1991\", \"1991\", \"1998\", \"208\", \"301\", \"322\", \"77%\", \"780\", \"7th\", \"[4]\", \"[9]\", \"act\", \"africa\", \"africa\", \"africa\", \"africa\", \"africa\", \"africa\", \"africa\", \"algeria\", \"alps\", \"also\", \"also\", \"also\", \"also\", \"america\", \"america\", \"america\", \"america\", \"american\", \"andorra\", \"andorra\", \"angola\", \"antilles\", \"arab\", \"arabian\", \"archipelago\", \"area\", \"area\", \"area\", \"area\", \"area\", \"area\", \"argentina\", \"asia\", \"asia\", \"asia\", \"asia\", \"asia\", \"asia\", \"asia\", \"asia[13]\", \"asian\", \"astana\", \"atlantic\", \"atlantic\", \"atlantic\", \"atlantic\", \"august\", \"australia\", \"australia\", \"austria\", \"austria\", \"azerbaijan\", \"azerbaijan\", \"baltic\", \"baltic\", \"barbados\", \"become\", \"become\", \"become\", \"belarus\", \"belgium\", \"belgium\", \"big\", \"big\", \"black\", \"black\", \"black\", \"bolivia\", \"border\", \"border\", \"border\", \"border\", \"border\", \"border\", \"border\", \"border\", \"borneo\", \"botswana\", \"brazil\", \"brazzaville\", \"brunei\", \"bulgaria\", \"bulgaria\", \"call\", \"call\", \"cambodia\", \"canada\", \"canada\", \"capital\", \"capital\", \"capital\", \"capital\", \"capital\", \"capital\", \"caribbean\", \"caribbean\", \"caribbean\", \"caribbean\", \"caribbean;\", \"carpathian\", \"central\", \"central\", \"central\", \"central\", \"century\", \"channel\", \"chile\", \"chile\", \"china\", \"china\", \"china\", \"china\", \"china\", \"china\", \"circle\", \"city\", \"city\", \"city\", \"city\", \"city\", \"city\", \"civil\", \"coast\", \"coast\", \"coast\", \"coast\", \"coast\", \"coast\", \"coast\", \"colombia\", \"colombia\", \"combine\", \"community\", \"congo\", \"congo\", \"congo\", \"connect\", \"consider\", \"continent\", \"continent\", \"continent\", \"continent\", \"continental\", \"countries:\", \"country\", \"country\", \"country\", \"country\", \"country\", \"country\", \"country\", \"country\", \"country\", \"country\", \"country\", \"country's\", \"country's\", \"croatia\", \"cuba\", \"cuba\", \"culturally\", \"culture\", \"cyprus\", \"d'ivoire\", \"danube\", \"danube\", \"democratic\", \"denmark\", \"denmark\", \"dispute\", \"distinguish\", \"district\", \"djibouti\", \"djibouti\", \"dominica\", \"east\", \"east\", \"east\", \"east\", \"east\", \"east\", \"east\", \"east\", \"east\", \"eastern\", \"eastern\", \"eastern\", \"eastern\", \"eastern\", \"eastern\", \"economic\", \"economy\", \"ecuador\", \"ecuador\", \"egypt\", \"egypt\", \"empire\", \"end\", \"end\", \"england\", \"english\", \"english\", \"eritrea\", \"eritrea\", \"escape\", \"estonia\", \"eswatini\", \"ethiopia\", \"europe\", \"europe\", \"europe\", \"europe\", \"europe\", \"europe\", \"europe\", \"europe\", \"europe's\", \"europe[8]\", \"europe[9]\", \"european\", \"european\", \"european\", \"european\", \"european\", \"european\", \"european\", \"exclave\", \"federal\", \"federal\", \"federal\", \"federative\", \"fifth\", \"fiji\", \"finland\", \"finland\", \"finland\", \"first\", \"five-eighths\", \"following\", \"former\", \"formerly\", \"france\", \"france\", \"france\", \"france\", \"france;\", \"french[3]\", \"furthest\", \"gabon\", \"gambia\", \"geographically\", \"geographically\", \"georgia\", \"georgia\", \"germany\", \"germany\", \"germany\", \"germany\", \"ghana\", \"global\", \"gold\", \"greater\", \"greece\", \"greece\", \"greenland\", \"guatemala\", \"guatemala\", \"guinea\", \"guinea\", \"guinea\", \"guinea-bissau\", \"gulf\", \"gulf\", \"gulf\", \"hispaniola\", \"history\", \"home\", \"honduras\", \"honduras\", \"horn\", \"hungary\", \"hungary\", \"iceland\", \"important\", \"independent\", \"independent\", \"independent\", \"independent\", \"india\", \"india\", \"indian\", \"indian\", \"indian\", \"indonesia\", \"indonesia\", \"indonesia\", \"iran\", \"iran\", \"iran\", \"iran\", \"iran\", \"iraq\", \"iraq\", \"iraq\", \"iraq\", \"ireland\", \"island\", \"island\", \"island\", \"island\", \"island\", \"island\", \"island\", \"island\", \"island\", \"island\", \"isle\", \"israel\", \"israel\", \"italy\", \"italy\", \"ivory\", \"jamaica\", \"japan\", \"japan\", \"java\", \"jordan\", \"jordan\", \"jordan\", \"jordan\", \"kazakhstan\", \"kazakhstan\", \"kenya\", \"kilometer\", \"kilometer\", \"kilometre\", \"kilometre\", \"kilometre\", \"kilometre\", \"kilometre\", \"kingdom\", \"kingdom\", \"kingdom\", \"kingdom\", \"kingdom\", \"kirghizia\", \"km\", \"know\", \"know\", \"know\", \"know\", \"korea\", \"korea\", \"korea\", \"kosovo\", \"kyrgyz\", \"kyrgyzstan\", \"lake\", \"lake\", \"land\", \"land\", \"land\", \"land\", \"landlocked\", \"landlocked\", \"landlocked\", \"landlocked\", \"landlocked\", \"laos\", \"large\", \"large\", \"large\", \"large\", \"large\", \"large\", \"larger\", \"latin\", \"lebanon\", \"lebanon\", \"leone\", \"levu\", \"liberia\", \"libya\", \"lie\", \"lie\", \"lie\", \"liechtenstein\", \"lithuania\", \"live\", \"live\", \"live\", \"locate\", \"locate\", \"locate\", \"locate\", \"lock\", \"lower\", \"make\", \"make\", \"malawi\", \"malawi\", \"maldives\", \"mali\", \"malta\", \"many\", \"many\", \"many\", \"many\", \"margin\", \"mauritius\", \"mediterranean\", \"mediterranean\", \"mediterranean\", \"mediterranean\", \"mediterranean\", \"mediterranean\", \"mediterranean;\", \"member\", \"member\", \"member\", \"member\", \"member\", \"mexico\", \"mexico\", \"middle\", \"middle\", \"middle\", \"middle\", \"middle\", \"miles)[10]\", \"military\", \"million\", \"million\", \"million\", \"million\", \"million\", \"minsk\", \"moldova\", \"monetary\", \"mongolia\", \"morocco\", \"mountain\", \"move\", \"muslim-majority\", \"myanmar\", \"name\", \"name\", \"name\", \"name\", \"namibia\", \"nation\", \"nation\", \"nation\", \"national\", \"nazarbayev\", \"near\", \"near\", \"neighbour\", \"neighbour\", \"nepal\", \"new\", \"new\", \"new\", \"new\", \"new\", \"next\", \"next\", \"next\", \"niger\", \"nigeria\", \"north\", \"north\", \"north\", \"north\", \"north\", \"north\", \"north\", \"north\", \"north-east\", \"north-west\", \"north-west\", \"northeast\", \"northeast\", \"northeast\", \"northeast;\", \"northern\", \"northern\", \"northern\", \"northern\", \"northwest\", \"northwest\", \"northwest\", \"northwest\", \"norway\", \"norway\", \"norway\", \"nur-sultan\", \"ocean\", \"ocean\", \"ocean\", \"ocean\", \"ocean\", \"ocean\", \"ocean\", \"ocean\", \"official\", \"official\", \"official\", \"official\", \"official\", \"officially\", \"officially\", \"officially\", \"officially\", \"officially\", \"okhotsk\", \"pacific\", \"pacific\", \"pacific\", \"pacific\", \"pacific\", \"pacific\", \"pacific\", \"pakistan\", \"pakistan\", \"pakistan\", \"palestine\", \"paraguay\", \"parliament\", \"part\", \"part\", \"part\", \"part\", \"part\", \"part\", \"part\", \"part\", \"parts\", \"peninsula\", \"peninsula\", \"peninsula\", \"peninsula\", \"peninsula\", \"peninsula\", \"people\", \"people\", \"people\", \"people\", \"people\", \"people\", \"peru\", \"philippine\", \"poland\", \"poland\", \"population\", \"population\", \"population\", \"populous\", \"populous\", \"populous\", \"populous\", \"portugal\", \"portugal\", \"possession\", \"power\", \"president\", \"product\", \"proper\", \"puerto\", \"qatar\", \"qatar\", \"race\", \"rather\", \"region\", \"region\", \"region\", \"region:\", \"republic\", \"republic\", \"republic\", \"republic\", \"republic\", \"republic\", \"republic\", \"republik\", \"rico\", \"right\", \"romania\", \"romania\", \"romania\", \"romania\", \"romania\", \"russia\", \"russia\", \"russia\", \"russia\", \"russia\", \"russia\", \"samoa\", \"sardinia\", \"scandinavian\", \"sea\", \"sea\", \"sea\", \"sea\", \"sea\", \"sea\", \"sea\", \"sea\", \"sea\", \"self-proclaimed\", \"senegal\", \"senegal\", \"several\", \"several\", \"several\", \"sicily\", \"sicily\", \"sierra\", \"singapore\", \"slightly\", \"slightly\", \"slightly\", \"small\", \"small\", \"small\", \"small\", \"small\", \"small\", \"smaller\", \"smaller\", \"socialist\", \"somalia\", \"south\", \"south\", \"south\", \"south\", \"south\", \"south\", \"south\", \"south-eastern\", \"south-west\", \"southeast\", \"southeast\", \"southeast\", \"southeast\", \"southeast\", \"southern\", \"southern\", \"southern\", \"southern\", \"southern\", \"southern\", \"southwest\", \"southwest\", \"sovereign\", \"sovereign\", \"sovereign\", \"soviet\", \"soviet\", \"spain\", \"spain\", \"spain\", \"spanish\", \"spanish\", \"sq\", \"sq\", \"square\", \"square\", \"square\", \"square\", \"square\", \"square\", \"state\", \"state\", \"state\", \"state\", \"state\", \"state\", \"state\", \"state\", \"state\", \"stretch\", \"subsequent\", \"sudan\", \"surround\", \"surround\", \"surround\", \"sweden\", \"sweden\", \"syria\", \"syria\", \"syria\", \"syria\", \"tajikistan\", \"tajikistan\", \"territory\", \"territory\", \"territory\", \"territory\", \"territory\", \"territory\", \"territory\", \"thailand\", \"thailand\", \"third-largest\", \"total\", \"total\", \"total\", \"total\", \"total\", \"total\", \"touch\", \"tunis\", \"tunisia\", \"turkey\", \"turkey\", \"turkey\", \"turkey\", \"turkey\", \"turkey\", \"uganda\", \"ukraine\", \"ukraine\", \"ukraine\", \"ukraine\", \"union\", \"union\", \"union\", \"union\", \"union\", \"unite\", \"unite\", \"unite\", \"unite\", \"unite\", \"unite\", \"unite\", \"unite\", \"us\", \"valletta\", \"vanua\", \"vatican\", \"venezuela\", \"victoria\", \"vietnam\", \"viti\", \"war\", \"war\", \"war\", \"war\", \"wealth\", \"well\", \"well\", \"well\", \"west\", \"west\", \"west\", \"west\", \"west\", \"west\", \"west\", \"west\", \"western\", \"western\", \"western\", \"western\", \"western\", \"word\", \"world\", \"world\", \"world\", \"world\", \"world\", \"world\", \"world's\", \"world's\", \"world's\", \"world's\", \"world's\", \"world's\", \"zambia\", \"zambia\", \"zealand\", \"zimbabwe\", \"zimbabwe\", \"\\u00a3\\u00ac000\", \"\\u00a3\\u00ac000\", \"\\u00a3\\u00ac000\", \"\\u00a3\\u00ac125\", \"\\u00a3\\u00ac200\", \"\\u00a3\\u00ac358\", \"\\u00a3\\u00ac612\", \"\\u00a3\\u00ac904\", \"\\u00a3\\u00ac[11]\", \"\\u00a3\\u00ac[15][16][17]\", \"\\u00a3\\u00ac[19][e]\", \"\\u00a3\\u00ac[24]\"]}, \"R\": 30, \"lambda.step\": 0.01, \"plot.opts\": {\"xlab\": \"PC1\", \"ylab\": \"PC2\"}, \"topic.order\": [1, 2, 3, 4, 5, 6, 7, 8, 9, 10, 11, 12]};\n",
       "\n",
       "function LDAvis_load_lib(url, callback){\n",
       "  var s = document.createElement('script');\n",
       "  s.src = url;\n",
       "  s.async = true;\n",
       "  s.onreadystatechange = s.onload = callback;\n",
       "  s.onerror = function(){console.warn(\"failed to load library \" + url);};\n",
       "  document.getElementsByTagName(\"head\")[0].appendChild(s);\n",
       "}\n",
       "\n",
       "if(typeof(LDAvis) !== \"undefined\"){\n",
       "   // already loaded: just create the visualization\n",
       "   !function(LDAvis){\n",
       "       new LDAvis(\"#\" + \"ldavis_el1090014486390606723185255147\", ldavis_el1090014486390606723185255147_data);\n",
       "   }(LDAvis);\n",
       "}else if(typeof define === \"function\" && define.amd){\n",
       "   // require.js is available: use it to load d3/LDAvis\n",
       "   require.config({paths: {d3: \"https://d3js.org/d3.v5\"}});\n",
       "   require([\"d3\"], function(d3){\n",
       "      window.d3 = d3;\n",
       "      LDAvis_load_lib(\"https://cdn.jsdelivr.net/gh/bmabey/pyLDAvis@3.3.1/pyLDAvis/js/ldavis.v3.0.0.js\", function(){\n",
       "        new LDAvis(\"#\" + \"ldavis_el1090014486390606723185255147\", ldavis_el1090014486390606723185255147_data);\n",
       "      });\n",
       "    });\n",
       "}else{\n",
       "    // require.js not available: dynamically load d3 & LDAvis\n",
       "    LDAvis_load_lib(\"https://d3js.org/d3.v5.js\", function(){\n",
       "         LDAvis_load_lib(\"https://cdn.jsdelivr.net/gh/bmabey/pyLDAvis@3.3.1/pyLDAvis/js/ldavis.v3.0.0.js\", function(){\n",
       "                 new LDAvis(\"#\" + \"ldavis_el1090014486390606723185255147\", ldavis_el1090014486390606723185255147_data);\n",
       "            })\n",
       "         });\n",
       "}\n",
       "</script>"
      ],
      "text/plain": [
       "<IPython.core.display.HTML object>"
      ]
     },
     "execution_count": 20,
     "metadata": {},
     "output_type": "execute_result"
    }
   ],
   "source": [
    "#If your Panda version is behind the version 1.2, please update to version 1.2\n",
    "!pip install --upgrade pandas==1.2\n",
    "\n",
    "lda_display = pyLDAvis.gensim_models.prepare(ldamodel, corpus_, dictionary, sort_topics=False)\n",
    "pyLDAvis.display(lda_display)"
   ]
  }
 ],
 "metadata": {
  "colab": {
   "name": "LDA_EN.ipynb",
   "provenance": []
  },
  "kernelspec": {
   "display_name": "Python 3",
   "language": "python",
   "name": "python3"
  },
  "language_info": {
   "codemirror_mode": {
    "name": "ipython",
    "version": 3
   },
   "file_extension": ".py",
   "mimetype": "text/x-python",
   "name": "python",
   "nbconvert_exporter": "python",
   "pygments_lexer": "ipython3",
   "version": "3.8.6"
  }
 },
 "nbformat": 4,
 "nbformat_minor": 1
}
